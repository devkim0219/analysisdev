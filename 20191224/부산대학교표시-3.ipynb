{
 "cells": [
  {
   "cell_type": "code",
   "execution_count": 1,
   "metadata": {},
   "outputs": [
    {
     "data": {
      "text/html": [
       "<div>\n",
       "<style scoped>\n",
       "    .dataframe tbody tr th:only-of-type {\n",
       "        vertical-align: middle;\n",
       "    }\n",
       "\n",
       "    .dataframe tbody tr th {\n",
       "        vertical-align: top;\n",
       "    }\n",
       "\n",
       "    .dataframe thead th {\n",
       "        text-align: right;\n",
       "    }\n",
       "</style>\n",
       "<table border=\"1\" class=\"dataframe\">\n",
       "  <thead>\n",
       "    <tr style=\"text-align: right;\">\n",
       "      <th></th>\n",
       "      <th>연도</th>\n",
       "      <th>학교종류</th>\n",
       "      <th>시도</th>\n",
       "      <th>학교명</th>\n",
       "      <th>학교명(영문)</th>\n",
       "      <th>본분교</th>\n",
       "      <th>학교상태</th>\n",
       "      <th>설립</th>\n",
       "      <th>우편번호</th>\n",
       "      <th>주소</th>\n",
       "      <th>전화번호</th>\n",
       "      <th>팩스번호</th>\n",
       "      <th>홈페이지</th>\n",
       "    </tr>\n",
       "  </thead>\n",
       "  <tbody>\n",
       "    <tr>\n",
       "      <td>0</td>\n",
       "      <td>2019</td>\n",
       "      <td>전문대학(4년제)</td>\n",
       "      <td>서울</td>\n",
       "      <td>서울여자간호대학교</td>\n",
       "      <td>Seoul Women's College of nursing</td>\n",
       "      <td>본교</td>\n",
       "      <td>기존</td>\n",
       "      <td>사립</td>\n",
       "      <td>3617</td>\n",
       "      <td>서울특별시 서대문구 간호대로 38 (홍제동, 서울여자간호대학)</td>\n",
       "      <td>02-2287-1700</td>\n",
       "      <td>02-395-8018</td>\n",
       "      <td>www.snjc.ac.kr</td>\n",
       "    </tr>\n",
       "    <tr>\n",
       "      <td>1</td>\n",
       "      <td>2019</td>\n",
       "      <td>전문대학(4년제)</td>\n",
       "      <td>광주</td>\n",
       "      <td>기독간호대학교</td>\n",
       "      <td>Christian College of Nursing</td>\n",
       "      <td>본교</td>\n",
       "      <td>기존</td>\n",
       "      <td>사립</td>\n",
       "      <td>61662</td>\n",
       "      <td>광주광역시 남구 백서로70번길 6 (양림동, 기독간호대학)</td>\n",
       "      <td>062-650-8000</td>\n",
       "      <td>062-675-5806</td>\n",
       "      <td>ccn.ac.kr</td>\n",
       "    </tr>\n",
       "    <tr>\n",
       "      <td>2</td>\n",
       "      <td>2019</td>\n",
       "      <td>전문대학(4년제)</td>\n",
       "      <td>광주</td>\n",
       "      <td>조선간호대학교</td>\n",
       "      <td>CHOSUN NURSING COLLEGE</td>\n",
       "      <td>본교</td>\n",
       "      <td>기존</td>\n",
       "      <td>사립</td>\n",
       "      <td>61453</td>\n",
       "      <td>광주광역시 동구 필문대로 309-2 (서석동, 조선간호대학교)</td>\n",
       "      <td>062-231-7022</td>\n",
       "      <td>062-231-7029</td>\n",
       "      <td>www.cnc.ac.kr</td>\n",
       "    </tr>\n",
       "    <tr>\n",
       "      <td>3</td>\n",
       "      <td>2019</td>\n",
       "      <td>전문대학(4년제)</td>\n",
       "      <td>전북</td>\n",
       "      <td>군산간호대학교</td>\n",
       "      <td>KUNSAN COLLEGE OF NURSING</td>\n",
       "      <td>본교</td>\n",
       "      <td>기존</td>\n",
       "      <td>사립</td>\n",
       "      <td>54068</td>\n",
       "      <td>전라북도 군산시 동개정길 7 (개정동, 군산간호대학교)</td>\n",
       "      <td>063-450-3855</td>\n",
       "      <td>063-450-3899</td>\n",
       "      <td>www.kcn.ac.kr</td>\n",
       "    </tr>\n",
       "    <tr>\n",
       "      <td>4</td>\n",
       "      <td>2019</td>\n",
       "      <td>전문대학(3년제)</td>\n",
       "      <td>서울</td>\n",
       "      <td>동양미래대학교</td>\n",
       "      <td>Dongyang Mirae University</td>\n",
       "      <td>본교</td>\n",
       "      <td>기존</td>\n",
       "      <td>사립</td>\n",
       "      <td>8221</td>\n",
       "      <td>서울특별시 구로구 경인로 445 (고척동, 동양미래대학교)</td>\n",
       "      <td>02-2610-1700</td>\n",
       "      <td>02-2688-5494</td>\n",
       "      <td>www.dongyang.ac.kr/</td>\n",
       "    </tr>\n",
       "  </tbody>\n",
       "</table>\n",
       "</div>"
      ],
      "text/plain": [
       "     연도       학교종류  시도        학교명                           학교명(영문) 본분교 학교상태  \\\n",
       "0  2019  전문대학(4년제)  서울  서울여자간호대학교  Seoul Women's College of nursing  본교   기존   \n",
       "1  2019  전문대학(4년제)  광주    기독간호대학교      Christian College of Nursing  본교   기존   \n",
       "2  2019  전문대학(4년제)  광주    조선간호대학교            CHOSUN NURSING COLLEGE  본교   기존   \n",
       "3  2019  전문대학(4년제)  전북    군산간호대학교         KUNSAN COLLEGE OF NURSING  본교   기존   \n",
       "4  2019  전문대학(3년제)  서울    동양미래대학교         Dongyang Mirae University  본교   기존   \n",
       "\n",
       "   설립   우편번호                                  주소                  전화번호  \\\n",
       "0  사립   3617  서울특별시 서대문구 간호대로 38 (홍제동, 서울여자간호대학)  02-2287-1700           \n",
       "1  사립  61662    광주광역시 남구 백서로70번길 6 (양림동, 기독간호대학)  062-650-8000           \n",
       "2  사립  61453  광주광역시 동구 필문대로 309-2 (서석동, 조선간호대학교)          062-231-7022   \n",
       "3  사립  54068      전라북도 군산시 동개정길 7 (개정동, 군산간호대학교)          063-450-3855   \n",
       "4  사립   8221    서울특별시 구로구 경인로 445 (고척동, 동양미래대학교)  02-2610-1700           \n",
       "\n",
       "                   팩스번호                 홈페이지  \n",
       "0  02-395-8018                www.snjc.ac.kr  \n",
       "1  062-675-5806                    ccn.ac.kr  \n",
       "2          062-231-7029        www.cnc.ac.kr  \n",
       "3  063-450-3899                www.kcn.ac.kr  \n",
       "4  02-2688-5494          www.dongyang.ac.kr/  "
      ]
     },
     "execution_count": 1,
     "metadata": {},
     "output_type": "execute_result"
    }
   ],
   "source": [
    "import pandas as pd\n",
    "\n",
    "# 교육 관련 데이터 제공 (교육 통계 서비스)\n",
    "# https://kess.kedi.re.kr/post/6684877?itemCode=04&menuId=m_02_04_02&code=&words=%EC%A3%BC%EC%86%8C%EB%A1%9D\n",
    "# 대학교 리스트를 데이터프레임 변환\n",
    "df = pd.read_excel('./고등교육기관 주소록_2019.xlsx', header=5)\n",
    "df.head()"
   ]
  },
  {
   "cell_type": "code",
   "execution_count": 6,
   "metadata": {},
   "outputs": [
    {
     "data": {
      "text/html": [
       "<div>\n",
       "<style scoped>\n",
       "    .dataframe tbody tr th:only-of-type {\n",
       "        vertical-align: middle;\n",
       "    }\n",
       "\n",
       "    .dataframe tbody tr th {\n",
       "        vertical-align: top;\n",
       "    }\n",
       "\n",
       "    .dataframe thead th {\n",
       "        text-align: right;\n",
       "    }\n",
       "</style>\n",
       "<table border=\"1\" class=\"dataframe\">\n",
       "  <thead>\n",
       "    <tr style=\"text-align: right;\">\n",
       "      <th></th>\n",
       "      <th>학교명</th>\n",
       "      <th>주소</th>\n",
       "    </tr>\n",
       "  </thead>\n",
       "  <tbody>\n",
       "    <tr>\n",
       "      <td>9</td>\n",
       "      <td>경남정보대학교</td>\n",
       "      <td>부산광역시 사상구 주례로 45 (주례동, 경남정보대학)</td>\n",
       "    </tr>\n",
       "    <tr>\n",
       "      <td>10</td>\n",
       "      <td>동부산대학교</td>\n",
       "      <td>부산광역시 해운대구 운봉길 60 (반송동, 동부산대학교)</td>\n",
       "    </tr>\n",
       "    <tr>\n",
       "      <td>11</td>\n",
       "      <td>동주대학교</td>\n",
       "      <td>부산광역시 사하구 사리로55번길 16 (괴정동, 동주대학)</td>\n",
       "    </tr>\n",
       "    <tr>\n",
       "      <td>79</td>\n",
       "      <td>대동대학교</td>\n",
       "      <td>부산광역시 금정구 동부곡로27번길 88 (부곡동, 대동대학교)</td>\n",
       "    </tr>\n",
       "    <tr>\n",
       "      <td>80</td>\n",
       "      <td>동의과학대학교</td>\n",
       "      <td>부산광역시 부산진구 양지로 54 (양정동, 동의과학대학)</td>\n",
       "    </tr>\n",
       "  </tbody>\n",
       "</table>\n",
       "</div>"
      ],
      "text/plain": [
       "        학교명                                  주소\n",
       "9   경남정보대학교      부산광역시 사상구 주례로 45 (주례동, 경남정보대학)\n",
       "10   동부산대학교     부산광역시 해운대구 운봉길 60 (반송동, 동부산대학교)\n",
       "11    동주대학교    부산광역시 사하구 사리로55번길 16 (괴정동, 동주대학)\n",
       "79    대동대학교  부산광역시 금정구 동부곡로27번길 88 (부곡동, 대동대학교)\n",
       "80  동의과학대학교     부산광역시 부산진구 양지로 54 (양정동, 동의과학대학)"
      ]
     },
     "execution_count": 6,
     "metadata": {},
     "output_type": "execute_result"
    }
   ],
   "source": [
    "df_1 = df[(df['연도'] == 2019) & (df['시도'] == '부산')].loc[:, ['학교명', '주소']]\n",
    "df_1.head()"
   ]
  },
  {
   "cell_type": "code",
   "execution_count": 7,
   "metadata": {},
   "outputs": [
    {
     "name": "stdout",
     "output_type": "stream",
     "text": [
      "28\n"
     ]
    }
   ],
   "source": [
    "print(len(df_1))"
   ]
  },
  {
   "cell_type": "code",
   "execution_count": 8,
   "metadata": {},
   "outputs": [
    {
     "name": "stdout",
     "output_type": "stream",
     "text": [
      "부산 사상구 주례로 45 35.14645115598116 129.009068796574\n"
     ]
    }
   ],
   "source": [
    "# https://developers.kakao.com/docs/restapi/local#%EC%A3%BC%EC%86%8C-%EA%B2%80%EC%83%89\n",
    "import requests\n",
    "KAKAO_API_KEY = '5175c0a009281f3d39afe4b7dcaa6d3d'\n",
    "url  = '''\n",
    "https://dapi.kakao.com/v2/local/search/address.json?query={0}\n",
    "'''.format( '부산광역시 사상구 주례로 45 (주례동, 경남정보대학)' )\n",
    "headers = {\n",
    "    'Authorization':'KakaoAK {0}'.format(KAKAO_API_KEY)\n",
    "}\n",
    "res = requests.get( url , headers=headers )\n",
    "res = res.json()\n",
    "print ( res['documents'][0]['address_name'],\n",
    "        res['documents'][0]['y'],\n",
    "        res['documents'][0]['x'])"
   ]
  },
  {
   "cell_type": "code",
   "execution_count": 9,
   "metadata": {},
   "outputs": [],
   "source": [
    "import requests\n",
    "KAKAO_API_KEY = '5175c0a009281f3d39afe4b7dcaa6d3d'\n",
    "def netGetGeocoder(  query ):\n",
    "    url  = '''\n",
    "    https://dapi.kakao.com/v2/local/search/address.json?query={0}\n",
    "    '''.format( query )\n",
    "    headers = {\n",
    "        'Authorization':'KakaoAK {0}'.format(KAKAO_API_KEY)\n",
    "    }\n",
    "    # API 쿼리 수행\n",
    "    res = requests.get( url , headers=headers )\n",
    "    res = res.json()\n",
    "    if len(res['documents']) > 0:\n",
    "        # 데이터 리턴 : 주소, 위도, 경도, 질의어 순으로 튜플 형태로 리턴     \n",
    "        return [res['documents'][0]['address_name'], res['documents'][0]['y'],res['documents'][0]['x']]\n",
    "#     print(len(res['documents']))"
   ]
  },
  {
   "cell_type": "code",
   "execution_count": 11,
   "metadata": {},
   "outputs": [
    {
     "data": {
      "application/vnd.jupyter.widget-view+json": {
       "model_id": "f8655aaee2ea41d19cebf61972908f5e",
       "version_major": 2,
       "version_minor": 0
      },
      "text/plain": [
       "HBox(children=(IntProgress(value=1, bar_style='info', max=1), HTML(value='')))"
      ]
     },
     "metadata": {},
     "output_type": "display_data"
    },
    {
     "name": "stdout",
     "output_type": "stream",
     "text": [
      "\n",
      "28\n"
     ]
    }
   ],
   "source": [
    "from tqdm import tqdm_notebook\n",
    "\n",
    "# 데이터를 담는 자료형\n",
    "university_list = []\n",
    "# df_2 = df_1.loc[:, ['주소', '학교명']]\n",
    "# df_2.head()\n",
    "# 경찰서 이름 개수만큼 반복\n",
    "for i, addr in tqdm_notebook(df_1.iterrows()):\n",
    "    result = netGetGeocoder( addr['주소']  )\n",
    "    if result != None :\n",
    "        result.append(addr['학교명'])\n",
    "        university_list.append( result )\n",
    "\n",
    "print(len(university_list))"
   ]
  },
  {
   "cell_type": "code",
   "execution_count": 12,
   "metadata": {},
   "outputs": [
    {
     "data": {
      "text/html": [
       "<div>\n",
       "<style scoped>\n",
       "    .dataframe tbody tr th:only-of-type {\n",
       "        vertical-align: middle;\n",
       "    }\n",
       "\n",
       "    .dataframe tbody tr th {\n",
       "        vertical-align: top;\n",
       "    }\n",
       "\n",
       "    .dataframe thead th {\n",
       "        text-align: right;\n",
       "    }\n",
       "</style>\n",
       "<table border=\"1\" class=\"dataframe\">\n",
       "  <thead>\n",
       "    <tr style=\"text-align: right;\">\n",
       "      <th></th>\n",
       "      <th>0</th>\n",
       "      <th>1</th>\n",
       "      <th>2</th>\n",
       "      <th>3</th>\n",
       "    </tr>\n",
       "  </thead>\n",
       "  <tbody>\n",
       "    <tr>\n",
       "      <td>0</td>\n",
       "      <td>부산 사상구 주례로 45</td>\n",
       "      <td>35.14645115598116</td>\n",
       "      <td>129.009068796574</td>\n",
       "      <td>경남정보대학교</td>\n",
       "    </tr>\n",
       "    <tr>\n",
       "      <td>1</td>\n",
       "      <td>부산 해운대구 운봉길 60</td>\n",
       "      <td>35.23274266294026</td>\n",
       "      <td>129.14902810747094</td>\n",
       "      <td>동부산대학교</td>\n",
       "    </tr>\n",
       "    <tr>\n",
       "      <td>2</td>\n",
       "      <td>부산 사하구 사리로55번길 16</td>\n",
       "      <td>35.10672472289597</td>\n",
       "      <td>128.99723202457403</td>\n",
       "      <td>동주대학교</td>\n",
       "    </tr>\n",
       "    <tr>\n",
       "      <td>3</td>\n",
       "      <td>부산 금정구 동부곡로27번길 88</td>\n",
       "      <td>35.22913348950384</td>\n",
       "      <td>129.09586549584338</td>\n",
       "      <td>대동대학교</td>\n",
       "    </tr>\n",
       "    <tr>\n",
       "      <td>4</td>\n",
       "      <td>부산 부산진구 양지로 54</td>\n",
       "      <td>35.1658506524463</td>\n",
       "      <td>129.07222594898334</td>\n",
       "      <td>동의과학대학교</td>\n",
       "    </tr>\n",
       "  </tbody>\n",
       "</table>\n",
       "</div>"
      ],
      "text/plain": [
       "                    0                  1                   2        3\n",
       "0       부산 사상구 주례로 45  35.14645115598116    129.009068796574  경남정보대학교\n",
       "1      부산 해운대구 운봉길 60  35.23274266294026  129.14902810747094   동부산대학교\n",
       "2   부산 사하구 사리로55번길 16  35.10672472289597  128.99723202457403    동주대학교\n",
       "3  부산 금정구 동부곡로27번길 88  35.22913348950384  129.09586549584338    대동대학교\n",
       "4      부산 부산진구 양지로 54   35.1658506524463  129.07222594898334  동의과학대학교"
      ]
     },
     "execution_count": 12,
     "metadata": {},
     "output_type": "execute_result"
    }
   ],
   "source": [
    "df_2 = pd.DataFrame(university_list)\n",
    "df_2.head()"
   ]
  },
  {
   "cell_type": "code",
   "execution_count": 13,
   "metadata": {},
   "outputs": [],
   "source": [
    "import folium"
   ]
  },
  {
   "cell_type": "code",
   "execution_count": 14,
   "metadata": {},
   "outputs": [],
   "source": [
    "# 서울 지도 만들기\n",
    "pusan_map = folium.Map(location=[35.1797445386017,129.075076791394], tiles='Stamen Terrain', \n",
    "                        zoom_start=12)\n",
    "\n",
    "# 대학교 위치정보를 Marker로 표시\n",
    "for university_info in university_list:\n",
    "    folium.Marker([university_info[1], university_info[2]], popup=university_info[3]).add_to(pusan_map)\n",
    "\n",
    "# 지도를 HTML 파일로 저장하기\n",
    "pusan_map.save('./pusan_university3.html')"
   ]
  },
  {
   "cell_type": "code",
   "execution_count": null,
   "metadata": {},
   "outputs": [],
   "source": []
  }
 ],
 "metadata": {
  "kernelspec": {
   "display_name": "Python 3",
   "language": "python",
   "name": "python3"
  },
  "language_info": {
   "codemirror_mode": {
    "name": "ipython",
    "version": 3
   },
   "file_extension": ".py",
   "mimetype": "text/x-python",
   "name": "python",
   "nbconvert_exporter": "python",
   "pygments_lexer": "ipython3",
   "version": "3.7.4"
  }
 },
 "nbformat": 4,
 "nbformat_minor": 4
}
