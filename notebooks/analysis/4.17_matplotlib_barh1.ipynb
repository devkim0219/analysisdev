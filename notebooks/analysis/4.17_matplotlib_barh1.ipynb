{
 "cells": [
  {
   "cell_type": "code",
   "execution_count": 7,
   "metadata": {},
   "outputs": [
    {
     "data": {
      "text/html": [
       "<div>\n",
       "<style scoped>\n",
       "    .dataframe tbody tr th:only-of-type {\n",
       "        vertical-align: middle;\n",
       "    }\n",
       "\n",
       "    .dataframe tbody tr th {\n",
       "        vertical-align: top;\n",
       "    }\n",
       "\n",
       "    .dataframe thead th {\n",
       "        text-align: right;\n",
       "    }\n",
       "</style>\n",
       "<table border=\"1\" class=\"dataframe\">\n",
       "  <thead>\n",
       "    <tr style=\"text-align: right;\">\n",
       "      <th></th>\n",
       "      <th>2010</th>\n",
       "      <th>2011</th>\n",
       "      <th>2012</th>\n",
       "      <th>2013</th>\n",
       "      <th>2014</th>\n",
       "      <th>2015</th>\n",
       "      <th>2016</th>\n",
       "      <th>2017</th>\n",
       "      <th>합계</th>\n",
       "    </tr>\n",
       "    <tr>\n",
       "      <th>전입지</th>\n",
       "      <th></th>\n",
       "      <th></th>\n",
       "      <th></th>\n",
       "      <th></th>\n",
       "      <th></th>\n",
       "      <th></th>\n",
       "      <th></th>\n",
       "      <th></th>\n",
       "      <th></th>\n",
       "    </tr>\n",
       "  </thead>\n",
       "  <tbody>\n",
       "    <tr>\n",
       "      <td>충청남도</td>\n",
       "      <td>24522</td>\n",
       "      <td>24723</td>\n",
       "      <td>22269</td>\n",
       "      <td>21486</td>\n",
       "      <td>21473</td>\n",
       "      <td>22299</td>\n",
       "      <td>21741</td>\n",
       "      <td>21020</td>\n",
       "      <td>179533.0</td>\n",
       "    </tr>\n",
       "    <tr>\n",
       "      <td>경상북도</td>\n",
       "      <td>16042</td>\n",
       "      <td>15818</td>\n",
       "      <td>15191</td>\n",
       "      <td>14420</td>\n",
       "      <td>14456</td>\n",
       "      <td>15113</td>\n",
       "      <td>14236</td>\n",
       "      <td>12464</td>\n",
       "      <td>117740.0</td>\n",
       "    </tr>\n",
       "    <tr>\n",
       "      <td>강원도</td>\n",
       "      <td>22736</td>\n",
       "      <td>23624</td>\n",
       "      <td>22332</td>\n",
       "      <td>20601</td>\n",
       "      <td>21173</td>\n",
       "      <td>22659</td>\n",
       "      <td>21590</td>\n",
       "      <td>21016</td>\n",
       "      <td>175731.0</td>\n",
       "    </tr>\n",
       "    <tr>\n",
       "      <td>부산광역시</td>\n",
       "      <td>17418</td>\n",
       "      <td>18816</td>\n",
       "      <td>16135</td>\n",
       "      <td>16153</td>\n",
       "      <td>17320</td>\n",
       "      <td>17009</td>\n",
       "      <td>15062</td>\n",
       "      <td>14484</td>\n",
       "      <td>132397.0</td>\n",
       "    </tr>\n",
       "  </tbody>\n",
       "</table>\n",
       "</div>"
      ],
      "text/plain": [
       "        2010   2011   2012   2013   2014   2015   2016   2017        합계\n",
       "전입지                                                                    \n",
       "충청남도   24522  24723  22269  21486  21473  22299  21741  21020  179533.0\n",
       "경상북도   16042  15818  15191  14420  14456  15113  14236  12464  117740.0\n",
       "강원도    22736  23624  22332  20601  21173  22659  21590  21016  175731.0\n",
       "부산광역시  17418  18816  16135  16153  17320  17009  15062  14484  132397.0"
      ]
     },
     "execution_count": 7,
     "metadata": {},
     "output_type": "execute_result"
    }
   ],
   "source": [
    "%matplotlib inline\n",
    "\n",
    "import pandas as pd\n",
    "import matplotlib as mpl\n",
    "import matplotlib.pyplot as plt\n",
    "import matplotlib.font_manager as fm\n",
    "\n",
    "df = pd.read_excel('./data4/시도별 전출입 인구수.xlsx', fillna=0, header=0)\n",
    "df = df.fillna(method='ffill')\n",
    "\n",
    "mask = (df['전출지별'] == '서울특별시') & (df['전입지별'] != '서울특별시')\n",
    "\n",
    "df_seoul = df[mask]\n",
    "df_seoul = df_seoul.drop(['전출지별'], axis=1)\n",
    "df_seoul.rename({'전입지별':'전입지'}, axis=1, inplace=True)\n",
    "df_seoul.set_index('전입지', inplace=True)\n",
    "\n",
    "col_years = list(map(str, range(2010, 2018)))\n",
    "df = df_seoul.loc[['충청남도', '경상북도', '강원도', '부산광역시'], col_years]\n",
    "df['합계'] = df.sum(axis=1)\n",
    "\n",
    "df.head()"
   ]
  },
  {
   "cell_type": "code",
   "execution_count": 4,
   "metadata": {},
   "outputs": [
    {
     "name": "stdout",
     "output_type": "stream",
     "text": [
      "<class 'pandas.core.frame.DataFrame'>\n",
      "Index: 4 entries, 경상북도 to 충청남도\n",
      "Data columns (total 1 columns):\n",
      "합계    4 non-null float64\n",
      "dtypes: float64(1)\n",
      "memory usage: 64.0+ bytes\n"
     ]
    }
   ],
   "source": [
    "df_total = df[['합계']].sort_values(by='합계', ascending=True)\n",
    "df_total.head()\n",
    "df_total.info()"
   ]
  },
  {
   "cell_type": "code",
   "execution_count": 10,
   "metadata": {},
   "outputs": [
    {
     "data": {
      "image/png": "[encoded data removed]",
      "text/plain": [
       "<Figure size 720x360 with 1 Axes>"
      ]
     },
     "metadata": {},
     "output_type": "display_data"
    }
   ],
   "source": [
    "plt.style.use('ggplot')\n",
    "\n",
    "# 마이너스 폰트 깨짐 현상 수정\n",
    "mpl.rcParams['axes.unicode_minus'] = False\n",
    "\n",
    "# 한글 폰트 설정\n",
    "path = '/usr/share/fonts/truetype/naver-d2coding/D2Coding-Ver1.3.2-20180524-all.ttc'\n",
    "font_name = fm.FontProperties(fname=path, size=15).get_name()\n",
    "plt.rc('font', family=font_name)\n",
    "\n",
    "df.plot(kind='barh', figsize=(10, 5), width=0.5, color='cornflowerblue')\n",
    "\n",
    "plt.title('서울 -> 타지역 인구 이동')\n",
    "plt.xlabel('이동 인구수')\n",
    "plt.ylabel('전입지')\n",
    "\n",
    "plt.show()"
   ]
  },
  {
   "cell_type": "code",
   "execution_count": null,
   "metadata": {},
   "outputs": [],
   "source": []
  }
 ],
 "metadata": {
  "kernelspec": {
   "display_name": "Python 3",
   "language": "python",
   "name": "python3"
  },
  "language_info": {
   "codemirror_mode": {
    "name": "ipython",
    "version": 3
   },
   "file_extension": ".py",
   "mimetype": "text/x-python",
   "name": "python",
   "nbconvert_exporter": "python",
   "pygments_lexer": "ipython3",
   "version": "3.7.4"
  }
 },
 "nbformat": 4,
 "nbformat_minor": 4
}
