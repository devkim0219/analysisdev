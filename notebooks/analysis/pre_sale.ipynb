{
 "cells": [
  {
   "cell_type": "markdown",
   "metadata": {
    "colab_type": "text",
    "id": "fZltQBoWKpAh"
   },
   "source": [
    "# 전국 신규 민간 아파트 분양가격 동향\n",
    "* 2015년 10월부터 2018년 6월까지\n",
    "* 주택분양보증을 받아 분양한 전체 민간 신규아파트 분양가격 동향\n",
    "* https://www.data.go.kr/dataset/3035522/fileData.do\n",
    "* 이 튜토리얼은 아파트 분양가에 대한 분석보다 파이썬 데이터 분석 방법을 배우는데 목적을 두고 있습니다.\n",
    "* 이 튜토리얼에서는 파이썬 데이터분석 도구인 Pandas를 활용합니다. Pandas에 대한 간략한 소개는 다음의 판다스 10분 완성 문서를 참고해 주시면 좋습니다. \n",
    "    * https://dataitgirls2.github.io/10minutes2pandas/\n",
    "* 또 시각화 도구로는 grammer of graphics 문법을 활용할 수 있는 plotnine을 사용합니다.\n",
    "* 이 튜토리얼은 데잇걸즈 2기와 파이콘 한국 2018에서 진행되기도 했습니다."
   ]
  },
  {
   "cell_type": "markdown",
   "metadata": {
    "colab_type": "text",
    "id": "WLT71jbFHaC_"
   },
   "source": [
    "## [A Grammar of Graphics for Python — plotnine](http://plotnine.readthedocs.io/en/stable/index.html)\n",
    "* [tutorial](http://plotnine.readthedocs.io/en/stable/tutorials.html)\n",
    "* [ggplot2-cheatsheet](https://www.rstudio.com/wp-content/uploads/2015/03/ggplot2-cheatsheet.pdf)\n",
    "* 이미지 출처 : [A Comprehensive Guide to the Grammar of Graphics for Effective Visualization of Multi-dimensional…](https://towardsdatascience.com/a-comprehensive-guide-to-the-grammar-of-graphics-for-effective-visualization-of-multi-dimensional-1f92b4ed4149)\n",
    "\n",
    "<img src=\"https://cdn-images-1.medium.com/max/2000/1*mcLnnVdHNg-ikDbHJfHDNA.png\">"
   ]
  },
  {
   "cell_type": "code",
   "execution_count": 1,
   "metadata": {
    "colab": {
     "base_uri": "https://localhost:8080/",
     "height": 530
    },
    "colab_type": "code",
    "id": "T62oWwL4tgYb",
    "outputId": "e9e3a2cf-fcf0-4b7d-9815-10a58b0beab2"
   },
   "outputs": [],
   "source": [
    "# 시각화 도구 설치\n",
    "# !pip install plotnine==0.5.0\n",
    "# 판다스 버전 지정\n",
    "# !pip install --upgrade pandas==0.23.4\n",
    "# !pip install statsmodels -U"
   ]
  },
  {
   "cell_type": "code",
   "execution_count": 2,
   "metadata": {
    "colab": {
     "base_uri": "https://localhost:8080/",
     "height": 258
    },
    "colab_type": "code",
    "id": "hwsCQjk0eF-m",
    "outputId": "40d56a7f-f8b3-4bd4-b263-f9841a6f45be"
   },
   "outputs": [],
   "source": [
    "# !pip install missingno"
   ]
  },
  {
   "cell_type": "code",
   "execution_count": 3,
   "metadata": {
    "colab": {
     "base_uri": "https://localhost:8080/",
     "height": 957
    },
    "colab_type": "code",
    "id": "GlXdCuq_o_0X",
    "outputId": "e87f17e2-e420-461e-a64b-d4e6f681ccea"
   },
   "outputs": [],
   "source": [
    "# ! pip install --upgrade Cython\n",
    "# ! pip install --upgrade git+https://github.com/statsmodels/statsmodels"
   ]
  },
  {
   "cell_type": "code",
   "execution_count": 17,
   "metadata": {
    "colab": {
     "base_uri": "https://localhost:8080/",
     "height": 957
    },
    "colab_type": "code",
    "id": "GlXdCuq_o_0X",
    "outputId": "e87f17e2-e420-461e-a64b-d4e6f681ccea"
   },
   "outputs": [],
   "source": [
    "import warnings\n",
    "warnings.filterwarnings('ignore')"
   ]
  },
  {
   "cell_type": "code",
   "execution_count": 18,
   "metadata": {
    "colab": {
     "base_uri": "https://localhost:8080/",
     "height": 957
    },
    "colab_type": "code",
    "id": "GlXdCuq_o_0X",
    "outputId": "e87f17e2-e420-461e-a64b-d4e6f681ccea"
   },
   "outputs": [],
   "source": [
    "import statsmodels.api as sm\n",
    "from plotnine import *\n",
    "import plotnine"
   ]
  },
  {
   "cell_type": "code",
   "execution_count": 19,
   "metadata": {
    "colab": {},
    "colab_type": "code",
    "id": "VvjHkFKNKpAl"
   },
   "outputs": [],
   "source": [
    "import pandas as pd\n",
    "import numpy as np\n",
    "import re"
   ]
  },
  {
   "cell_type": "code",
   "execution_count": 20,
   "metadata": {
    "colab": {},
    "colab_type": "code",
    "id": "EUdAeCa0fHzm"
   },
   "outputs": [],
   "source": [
    "# 그래프에서 한글표현을 위해 폰트를 설치합니다.\n",
    "%config InlineBackend.figure_format = 'retina'\n",
    "\n",
    "# !apt -qq -y install fonts-nanum > /dev/null\n",
    "import matplotlib.font_manager as fm\n",
    "fontpath = '/usr/share/fonts/truetype/nanum/NanumBarunGothic.ttf'\n",
    "font = fm.FontProperties(fname=fontpath, size=9)"
   ]
  },
  {
   "cell_type": "code",
   "execution_count": 21,
   "metadata": {
    "colab": {},
    "colab_type": "code",
    "id": "7Mk31JBkjjD3"
   },
   "outputs": [],
   "source": [
    "# 기본 글꼴 변경\n",
    "import matplotlib as mpl\n",
    "mpl.font_manager._rebuild()\n",
    "mpl.pyplot.rc('font', family='NanumBarunGothic')"
   ]
  },
  {
   "cell_type": "code",
   "execution_count": 22,
   "metadata": {
    "colab": {},
    "colab_type": "code",
    "id": "cOxBkitps2RG"
   },
   "outputs": [
    {
     "data": {
      "text/plain": [
       "(2805, 5)"
      ]
     },
     "execution_count": 22,
     "metadata": {},
     "output_type": "execute_result"
    }
   ],
   "source": [
    "pre_sale = pd.read_csv('./data/전국_평균_분양가격_2018.6월_.csv', encoding='euc-kr')\n",
    "pre_sale.shape"
   ]
  },
  {
   "cell_type": "code",
   "execution_count": 23,
   "metadata": {},
   "outputs": [
    {
     "data": {
      "text/html": [
       "<div>\n",
       "<style scoped>\n",
       "    .dataframe tbody tr th:only-of-type {\n",
       "        vertical-align: middle;\n",
       "    }\n",
       "\n",
       "    .dataframe tbody tr th {\n",
       "        vertical-align: top;\n",
       "    }\n",
       "\n",
       "    .dataframe thead th {\n",
       "        text-align: right;\n",
       "    }\n",
       "</style>\n",
       "<table border=\"1\" class=\"dataframe\">\n",
       "  <thead>\n",
       "    <tr style=\"text-align: right;\">\n",
       "      <th></th>\n",
       "      <th>지역명</th>\n",
       "      <th>규모구분</th>\n",
       "      <th>연도</th>\n",
       "      <th>월</th>\n",
       "      <th>분양가격(㎡)</th>\n",
       "    </tr>\n",
       "  </thead>\n",
       "  <tbody>\n",
       "    <tr>\n",
       "      <td>0</td>\n",
       "      <td>서울</td>\n",
       "      <td>전체</td>\n",
       "      <td>2015</td>\n",
       "      <td>10</td>\n",
       "      <td>5841</td>\n",
       "    </tr>\n",
       "    <tr>\n",
       "      <td>1</td>\n",
       "      <td>서울</td>\n",
       "      <td>전용면적 60㎡이하</td>\n",
       "      <td>2015</td>\n",
       "      <td>10</td>\n",
       "      <td>5652</td>\n",
       "    </tr>\n",
       "    <tr>\n",
       "      <td>2</td>\n",
       "      <td>서울</td>\n",
       "      <td>전용면적 60㎡초과 85㎡이하</td>\n",
       "      <td>2015</td>\n",
       "      <td>10</td>\n",
       "      <td>5882</td>\n",
       "    </tr>\n",
       "    <tr>\n",
       "      <td>3</td>\n",
       "      <td>서울</td>\n",
       "      <td>전용면적 85㎡초과 102㎡이하</td>\n",
       "      <td>2015</td>\n",
       "      <td>10</td>\n",
       "      <td>5721</td>\n",
       "    </tr>\n",
       "    <tr>\n",
       "      <td>4</td>\n",
       "      <td>서울</td>\n",
       "      <td>전용면적 102㎡초과</td>\n",
       "      <td>2015</td>\n",
       "      <td>10</td>\n",
       "      <td>5879</td>\n",
       "    </tr>\n",
       "  </tbody>\n",
       "</table>\n",
       "</div>"
      ],
      "text/plain": [
       "  지역명               규모구분    연도   월 분양가격(㎡)\n",
       "0  서울                 전체  2015  10    5841\n",
       "1  서울         전용면적 60㎡이하  2015  10    5652\n",
       "2  서울   전용면적 60㎡초과 85㎡이하  2015  10    5882\n",
       "3  서울  전용면적 85㎡초과 102㎡이하  2015  10    5721\n",
       "4  서울        전용면적 102㎡초과  2015  10    5879"
      ]
     },
     "execution_count": 23,
     "metadata": {},
     "output_type": "execute_result"
    }
   ],
   "source": [
    "pre_sale.head()"
   ]
  },
  {
   "cell_type": "code",
   "execution_count": 24,
   "metadata": {
    "colab": {},
    "colab_type": "code",
    "id": "ztFFYOQBeTTh"
   },
   "outputs": [
    {
     "data": {
      "text/plain": [
       "<matplotlib.axes._subplots.AxesSubplot at 0x7fa64e4621d0>"
      ]
     },
     "execution_count": 24,
     "metadata": {},
     "output_type": "execute_result"
    },
    {
     "data": {
      "image/png": "[encoded data removed]",
      "text/plain": [
       "<Figure size 1296x432 with 2 Axes>"
      ]
     },
     "metadata": {
      "image/png": {
       "height": 433,
       "width": 1080
      },
      "needs_background": "light"
     },
     "output_type": "display_data"
    }
   ],
   "source": [
    "# 결측치 보기\n",
    "import missingno as msno\n",
    "msno.matrix(pre_sale, figsize=(18,6))"
   ]
  },
  {
   "cell_type": "code",
   "execution_count": 25,
   "metadata": {
    "colab": {},
    "colab_type": "code",
    "id": "A9IhxNQIeZhD"
   },
   "outputs": [
    {
     "data": {
      "text/plain": [
       "지역명          0\n",
       "규모구분         0\n",
       "연도           0\n",
       "월            0\n",
       "분양가격(㎡)    131\n",
       "dtype: int64"
      ]
     },
     "execution_count": 25,
     "metadata": {},
     "output_type": "execute_result"
    }
   ],
   "source": [
    "pre_sale.isnull().sum()"
   ]
  },
  {
   "cell_type": "code",
   "execution_count": 12,
   "metadata": {
    "colab": {},
    "colab_type": "code",
    "id": "R41crvy8KpAz"
   },
   "outputs": [
    {
     "data": {
      "text/html": [
       "<div>\n",
       "<style scoped>\n",
       "    .dataframe tbody tr th:only-of-type {\n",
       "        vertical-align: middle;\n",
       "    }\n",
       "\n",
       "    .dataframe tbody tr th {\n",
       "        vertical-align: top;\n",
       "    }\n",
       "\n",
       "    .dataframe thead th {\n",
       "        text-align: right;\n",
       "    }\n",
       "</style>\n",
       "<table border=\"1\" class=\"dataframe\">\n",
       "  <thead>\n",
       "    <tr style=\"text-align: right;\">\n",
       "      <th></th>\n",
       "      <th>지역명</th>\n",
       "      <th>규모구분</th>\n",
       "      <th>연도</th>\n",
       "      <th>월</th>\n",
       "      <th>분양가격(㎡)</th>\n",
       "    </tr>\n",
       "  </thead>\n",
       "  <tbody>\n",
       "    <tr>\n",
       "      <td>0</td>\n",
       "      <td>서울</td>\n",
       "      <td>전체</td>\n",
       "      <td>2015</td>\n",
       "      <td>10</td>\n",
       "      <td>5841</td>\n",
       "    </tr>\n",
       "    <tr>\n",
       "      <td>1</td>\n",
       "      <td>서울</td>\n",
       "      <td>전용면적 60㎡이하</td>\n",
       "      <td>2015</td>\n",
       "      <td>10</td>\n",
       "      <td>5652</td>\n",
       "    </tr>\n",
       "    <tr>\n",
       "      <td>2</td>\n",
       "      <td>서울</td>\n",
       "      <td>전용면적 60㎡초과 85㎡이하</td>\n",
       "      <td>2015</td>\n",
       "      <td>10</td>\n",
       "      <td>5882</td>\n",
       "    </tr>\n",
       "    <tr>\n",
       "      <td>3</td>\n",
       "      <td>서울</td>\n",
       "      <td>전용면적 85㎡초과 102㎡이하</td>\n",
       "      <td>2015</td>\n",
       "      <td>10</td>\n",
       "      <td>5721</td>\n",
       "    </tr>\n",
       "    <tr>\n",
       "      <td>4</td>\n",
       "      <td>서울</td>\n",
       "      <td>전용면적 102㎡초과</td>\n",
       "      <td>2015</td>\n",
       "      <td>10</td>\n",
       "      <td>5879</td>\n",
       "    </tr>\n",
       "  </tbody>\n",
       "</table>\n",
       "</div>"
      ],
      "text/plain": [
       "  지역명               규모구분    연도   월 분양가격(㎡)\n",
       "0  서울                 전체  2015  10    5841\n",
       "1  서울         전용면적 60㎡이하  2015  10    5652\n",
       "2  서울   전용면적 60㎡초과 85㎡이하  2015  10    5882\n",
       "3  서울  전용면적 85㎡초과 102㎡이하  2015  10    5721\n",
       "4  서울        전용면적 102㎡초과  2015  10    5879"
      ]
     },
     "execution_count": 12,
     "metadata": {},
     "output_type": "execute_result"
    }
   ],
   "source": [
    "pre_sale.head()"
   ]
  },
  {
   "cell_type": "markdown",
   "metadata": {
    "colab_type": "text",
    "id": "qBAuZ1UGC6hD"
   },
   "source": []
  },
  {
   "cell_type": "code",
   "execution_count": 26,
   "metadata": {
    "colab": {},
    "colab_type": "code",
    "id": "OzLwkyYAKpA3"
   },
   "outputs": [
    {
     "data": {
      "text/html": [
       "<div>\n",
       "<style scoped>\n",
       "    .dataframe tbody tr th:only-of-type {\n",
       "        vertical-align: middle;\n",
       "    }\n",
       "\n",
       "    .dataframe tbody tr th {\n",
       "        vertical-align: top;\n",
       "    }\n",
       "\n",
       "    .dataframe thead th {\n",
       "        text-align: right;\n",
       "    }\n",
       "</style>\n",
       "<table border=\"1\" class=\"dataframe\">\n",
       "  <thead>\n",
       "    <tr style=\"text-align: right;\">\n",
       "      <th></th>\n",
       "      <th>지역명</th>\n",
       "      <th>규모구분</th>\n",
       "      <th>연도</th>\n",
       "      <th>월</th>\n",
       "      <th>분양가격(㎡)</th>\n",
       "    </tr>\n",
       "  </thead>\n",
       "  <tbody>\n",
       "    <tr>\n",
       "      <td>2800</td>\n",
       "      <td>제주</td>\n",
       "      <td>전체</td>\n",
       "      <td>2018</td>\n",
       "      <td>6</td>\n",
       "      <td>3925</td>\n",
       "    </tr>\n",
       "    <tr>\n",
       "      <td>2801</td>\n",
       "      <td>제주</td>\n",
       "      <td>전용면적 60㎡이하</td>\n",
       "      <td>2018</td>\n",
       "      <td>6</td>\n",
       "      <td>5462</td>\n",
       "    </tr>\n",
       "    <tr>\n",
       "      <td>2802</td>\n",
       "      <td>제주</td>\n",
       "      <td>전용면적 60㎡초과 85㎡이하</td>\n",
       "      <td>2018</td>\n",
       "      <td>6</td>\n",
       "      <td>3639</td>\n",
       "    </tr>\n",
       "    <tr>\n",
       "      <td>2803</td>\n",
       "      <td>제주</td>\n",
       "      <td>전용면적 85㎡초과 102㎡이하</td>\n",
       "      <td>2018</td>\n",
       "      <td>6</td>\n",
       "      <td>NaN</td>\n",
       "    </tr>\n",
       "    <tr>\n",
       "      <td>2804</td>\n",
       "      <td>제주</td>\n",
       "      <td>전용면적 102㎡초과</td>\n",
       "      <td>2018</td>\n",
       "      <td>6</td>\n",
       "      <td>3029</td>\n",
       "    </tr>\n",
       "  </tbody>\n",
       "</table>\n",
       "</div>"
      ],
      "text/plain": [
       "     지역명               규모구분    연도  월 분양가격(㎡)\n",
       "2800  제주                 전체  2018  6    3925\n",
       "2801  제주         전용면적 60㎡이하  2018  6    5462\n",
       "2802  제주   전용면적 60㎡초과 85㎡이하  2018  6    3639\n",
       "2803  제주  전용면적 85㎡초과 102㎡이하  2018  6     NaN\n",
       "2804  제주        전용면적 102㎡초과  2018  6    3029"
      ]
     },
     "execution_count": 26,
     "metadata": {},
     "output_type": "execute_result"
    }
   ],
   "source": [
    "pre_sale.tail()"
   ]
  },
  {
   "cell_type": "code",
   "execution_count": 27,
   "metadata": {
    "colab": {},
    "colab_type": "code",
    "id": "C1__bJlhKpA6"
   },
   "outputs": [
    {
     "name": "stdout",
     "output_type": "stream",
     "text": [
      "<class 'pandas.core.frame.DataFrame'>\n",
      "RangeIndex: 2805 entries, 0 to 2804\n",
      "Data columns (total 5 columns):\n",
      "지역명        2805 non-null object\n",
      "규모구분       2805 non-null object\n",
      "연도         2805 non-null int64\n",
      "월          2805 non-null int64\n",
      "분양가격(㎡)    2674 non-null object\n",
      "dtypes: int64(2), object(3)\n",
      "memory usage: 109.7+ KB\n"
     ]
    }
   ],
   "source": [
    "# 분양가격이 숫자 타입이 아닙니다. 숫자 타입으로 변경해줄 필요가 있겠어요.\n",
    "pre_sale.info()"
   ]
  },
  {
   "cell_type": "code",
   "execution_count": 28,
   "metadata": {
    "colab": {},
    "colab_type": "code",
    "id": "DqJOatMGKpA-"
   },
   "outputs": [],
   "source": [
    "pre_sale_price = pre_sale['분양가격(㎡)']"
   ]
  },
  {
   "cell_type": "code",
   "execution_count": 29,
   "metadata": {
    "colab": {},
    "colab_type": "code",
    "id": "rBFv9c0kKpBC"
   },
   "outputs": [],
   "source": [
    "# 연도와 월은 카테고리 형태의 데이터이기 때문에 스트링 형태로 변경\n",
    "pre_sale['연도'] = pre_sale['연도'].astype(str)\n",
    "pre_sale['월'] = pre_sale['월'].astype(str)"
   ]
  },
  {
   "cell_type": "code",
   "execution_count": 30,
   "metadata": {
    "colab": {},
    "colab_type": "code",
    "id": "hYEGYeWDKpBG"
   },
   "outputs": [],
   "source": [
    "# 분양가격의 타입을 숫자로 변경해 줍니다.\n",
    "pre_sale['분양가격'] = pd.to_numeric(pre_sale_price, errors='coerce')\n",
    "# 평당 분양가격을 구해볼까요.\n",
    "pre_sale['평당분양가격'] = pre_sale['분양가격'] * 3.3"
   ]
  },
  {
   "cell_type": "code",
   "execution_count": 31,
   "metadata": {
    "colab": {},
    "colab_type": "code",
    "id": "pxCl_YGeKpBJ"
   },
   "outputs": [
    {
     "name": "stdout",
     "output_type": "stream",
     "text": [
      "<class 'pandas.core.frame.DataFrame'>\n",
      "RangeIndex: 2805 entries, 0 to 2804\n",
      "Data columns (total 7 columns):\n",
      "지역명        2805 non-null object\n",
      "규모구분       2805 non-null object\n",
      "연도         2805 non-null object\n",
      "월          2805 non-null object\n",
      "분양가격(㎡)    2674 non-null object\n",
      "분양가격       2582 non-null float64\n",
      "평당분양가격     2582 non-null float64\n",
      "dtypes: float64(2), object(5)\n",
      "memory usage: 153.5+ KB\n"
     ]
    }
   ],
   "source": [
    "pre_sale.info()"
   ]
  },
  {
   "cell_type": "code",
   "execution_count": 32,
   "metadata": {
    "colab": {},
    "colab_type": "code",
    "id": "RWTwbzxkKpBM"
   },
   "outputs": [
    {
     "data": {
      "text/plain": [
       "지역명          0\n",
       "규모구분         0\n",
       "연도           0\n",
       "월            0\n",
       "분양가격(㎡)    131\n",
       "분양가격       223\n",
       "평당분양가격     223\n",
       "dtype: int64"
      ]
     },
     "execution_count": 32,
     "metadata": {},
     "output_type": "execute_result"
    }
   ],
   "source": [
    "# 분양가격에 결측치가 많이 있어요.\n",
    "pre_sale.isnull().sum()"
   ]
  },
  {
   "cell_type": "code",
   "execution_count": 33,
   "metadata": {
    "colab": {},
    "colab_type": "code",
    "id": "fbw_Gkk_KpBO"
   },
   "outputs": [
    {
     "data": {
      "text/html": [
       "<div>\n",
       "<style scoped>\n",
       "    .dataframe tbody tr th:only-of-type {\n",
       "        vertical-align: middle;\n",
       "    }\n",
       "\n",
       "    .dataframe tbody tr th {\n",
       "        vertical-align: top;\n",
       "    }\n",
       "\n",
       "    .dataframe thead th {\n",
       "        text-align: right;\n",
       "    }\n",
       "</style>\n",
       "<table border=\"1\" class=\"dataframe\">\n",
       "  <thead>\n",
       "    <tr style=\"text-align: right;\">\n",
       "      <th></th>\n",
       "      <th>분양가격</th>\n",
       "      <th>평당분양가격</th>\n",
       "    </tr>\n",
       "  </thead>\n",
       "  <tbody>\n",
       "    <tr>\n",
       "      <td>count</td>\n",
       "      <td>2582.000000</td>\n",
       "      <td>2582.000000</td>\n",
       "    </tr>\n",
       "    <tr>\n",
       "      <td>mean</td>\n",
       "      <td>3056.522851</td>\n",
       "      <td>10086.525407</td>\n",
       "    </tr>\n",
       "    <tr>\n",
       "      <td>std</td>\n",
       "      <td>1110.111932</td>\n",
       "      <td>3663.369377</td>\n",
       "    </tr>\n",
       "    <tr>\n",
       "      <td>min</td>\n",
       "      <td>1868.000000</td>\n",
       "      <td>6164.400000</td>\n",
       "    </tr>\n",
       "    <tr>\n",
       "      <td>25%</td>\n",
       "      <td>2339.000000</td>\n",
       "      <td>7718.700000</td>\n",
       "    </tr>\n",
       "    <tr>\n",
       "      <td>50%</td>\n",
       "      <td>2738.500000</td>\n",
       "      <td>9037.050000</td>\n",
       "    </tr>\n",
       "    <tr>\n",
       "      <td>75%</td>\n",
       "      <td>3289.000000</td>\n",
       "      <td>10853.700000</td>\n",
       "    </tr>\n",
       "    <tr>\n",
       "      <td>max</td>\n",
       "      <td>8098.000000</td>\n",
       "      <td>26723.400000</td>\n",
       "    </tr>\n",
       "  </tbody>\n",
       "</table>\n",
       "</div>"
      ],
      "text/plain": [
       "              분양가격        평당분양가격\n",
       "count  2582.000000   2582.000000\n",
       "mean   3056.522851  10086.525407\n",
       "std    1110.111932   3663.369377\n",
       "min    1868.000000   6164.400000\n",
       "25%    2339.000000   7718.700000\n",
       "50%    2738.500000   9037.050000\n",
       "75%    3289.000000  10853.700000\n",
       "max    8098.000000  26723.400000"
      ]
     },
     "execution_count": 33,
     "metadata": {},
     "output_type": "execute_result"
    }
   ],
   "source": [
    "pre_sale.describe()"
   ]
  },
  {
   "cell_type": "code",
   "execution_count": 13,
   "metadata": {
    "colab": {},
    "colab_type": "code",
    "id": "bzvcSvY-KpBS"
   },
   "outputs": [
    {
     "data": {
      "text/plain": [
       "(1020, 7)"
      ]
     },
     "execution_count": 13,
     "metadata": {},
     "output_type": "execute_result"
    }
   ],
   "source": [
    "# 2017년 데이터만 봅니다.\n",
    "pre_sale_2017 = pre_sale.loc[pre_sale['연도'] == '2017']\n",
    "pre_sale_2017.shape"
   ]
  },
  {
   "cell_type": "code",
   "execution_count": 22,
   "metadata": {
    "colab": {},
    "colab_type": "code",
    "id": "3U4W72vFKpBW"
   },
   "outputs": [
    {
     "data": {
      "text/plain": [
       "전용면적 102㎡초과          561\n",
       "전용면적 85㎡초과 102㎡이하    561\n",
       "전용면적 60㎡이하           561\n",
       "전용면적 60㎡초과 85㎡이하     561\n",
       "전체                   561\n",
       "Name: 규모구분, dtype: int64"
      ]
     },
     "execution_count": 22,
     "metadata": {},
     "output_type": "execute_result"
    }
   ],
   "source": [
    "# 같은 값을 갖고 있는 걸로 시도별로 동일하게 데이터가 들어 있는 것을 확인할 수 있습니다.\n",
    "pre_sale['규모구분'].value_counts()"
   ]
  },
  {
   "cell_type": "markdown",
   "metadata": {
    "colab_type": "text",
    "id": "Khd9RkcJKpBZ"
   },
   "source": [
    "# 전국평균 분양가격"
   ]
  },
  {
   "cell_type": "code",
   "execution_count": 14,
   "metadata": {
    "colab": {},
    "colab_type": "code",
    "id": "BKZ37dHeKpBZ"
   },
   "outputs": [
    {
     "data": {
      "text/html": [
       "<div>\n",
       "<style scoped>\n",
       "    .dataframe tbody tr th:only-of-type {\n",
       "        vertical-align: middle;\n",
       "    }\n",
       "\n",
       "    .dataframe tbody tr th {\n",
       "        vertical-align: top;\n",
       "    }\n",
       "\n",
       "    .dataframe thead th {\n",
       "        text-align: right;\n",
       "    }\n",
       "</style>\n",
       "<table border=\"1\" class=\"dataframe\">\n",
       "  <thead>\n",
       "    <tr style=\"text-align: right;\">\n",
       "      <th></th>\n",
       "      <th>연도</th>\n",
       "      <th>2015</th>\n",
       "      <th>2016</th>\n",
       "      <th>2017</th>\n",
       "      <th>2018</th>\n",
       "    </tr>\n",
       "  </thead>\n",
       "  <tbody>\n",
       "    <tr>\n",
       "      <td rowspan=\"8\" valign=\"top\">분양가격</td>\n",
       "      <td>count</td>\n",
       "      <td>243</td>\n",
       "      <td>984</td>\n",
       "      <td>899</td>\n",
       "      <td>456</td>\n",
       "    </tr>\n",
       "    <tr>\n",
       "      <td>mean</td>\n",
       "      <td>2,789</td>\n",
       "      <td>2,934</td>\n",
       "      <td>3,140</td>\n",
       "      <td>3,299</td>\n",
       "    </tr>\n",
       "    <tr>\n",
       "      <td>std</td>\n",
       "      <td>977</td>\n",
       "      <td>1,071</td>\n",
       "      <td>1,108</td>\n",
       "      <td>1,199</td>\n",
       "    </tr>\n",
       "    <tr>\n",
       "      <td>min</td>\n",
       "      <td>1,868</td>\n",
       "      <td>1,900</td>\n",
       "      <td>1,976</td>\n",
       "      <td>2,076</td>\n",
       "    </tr>\n",
       "    <tr>\n",
       "      <td>25%</td>\n",
       "      <td>2,225</td>\n",
       "      <td>2,282</td>\n",
       "      <td>2,365</td>\n",
       "      <td>2,470</td>\n",
       "    </tr>\n",
       "    <tr>\n",
       "      <td>50%</td>\n",
       "      <td>2,516</td>\n",
       "      <td>2,672</td>\n",
       "      <td>2,849</td>\n",
       "      <td>2,912</td>\n",
       "    </tr>\n",
       "    <tr>\n",
       "      <td>75%</td>\n",
       "      <td>3,026</td>\n",
       "      <td>3,148</td>\n",
       "      <td>3,456</td>\n",
       "      <td>3,647</td>\n",
       "    </tr>\n",
       "    <tr>\n",
       "      <td>max</td>\n",
       "      <td>7,092</td>\n",
       "      <td>8,096</td>\n",
       "      <td>7,887</td>\n",
       "      <td>8,098</td>\n",
       "    </tr>\n",
       "    <tr>\n",
       "      <td rowspan=\"8\" valign=\"top\">평당분양가격</td>\n",
       "      <td>count</td>\n",
       "      <td>243</td>\n",
       "      <td>984</td>\n",
       "      <td>899</td>\n",
       "      <td>456</td>\n",
       "    </tr>\n",
       "    <tr>\n",
       "      <td>mean</td>\n",
       "      <td>9,203</td>\n",
       "      <td>9,683</td>\n",
       "      <td>10,360</td>\n",
       "      <td>10,888</td>\n",
       "    </tr>\n",
       "    <tr>\n",
       "      <td>std</td>\n",
       "      <td>3,224</td>\n",
       "      <td>3,536</td>\n",
       "      <td>3,655</td>\n",
       "      <td>3,958</td>\n",
       "    </tr>\n",
       "    <tr>\n",
       "      <td>min</td>\n",
       "      <td>6,164</td>\n",
       "      <td>6,270</td>\n",
       "      <td>6,521</td>\n",
       "      <td>6,851</td>\n",
       "    </tr>\n",
       "    <tr>\n",
       "      <td>25%</td>\n",
       "      <td>7,342</td>\n",
       "      <td>7,531</td>\n",
       "      <td>7,804</td>\n",
       "      <td>8,153</td>\n",
       "    </tr>\n",
       "    <tr>\n",
       "      <td>50%</td>\n",
       "      <td>8,303</td>\n",
       "      <td>8,818</td>\n",
       "      <td>9,402</td>\n",
       "      <td>9,611</td>\n",
       "    </tr>\n",
       "    <tr>\n",
       "      <td>75%</td>\n",
       "      <td>9,984</td>\n",
       "      <td>10,390</td>\n",
       "      <td>11,405</td>\n",
       "      <td>12,036</td>\n",
       "    </tr>\n",
       "    <tr>\n",
       "      <td>max</td>\n",
       "      <td>23,404</td>\n",
       "      <td>26,717</td>\n",
       "      <td>26,027</td>\n",
       "      <td>26,723</td>\n",
       "    </tr>\n",
       "  </tbody>\n",
       "</table>\n",
       "</div>"
      ],
      "text/plain": [
       "연도             2015   2016   2017   2018\n",
       "분양가격   count    243    984    899    456\n",
       "       mean   2,789  2,934  3,140  3,299\n",
       "       std      977  1,071  1,108  1,199\n",
       "       min    1,868  1,900  1,976  2,076\n",
       "       25%    2,225  2,282  2,365  2,470\n",
       "       50%    2,516  2,672  2,849  2,912\n",
       "       75%    3,026  3,148  3,456  3,647\n",
       "       max    7,092  8,096  7,887  8,098\n",
       "평당분양가격 count    243    984    899    456\n",
       "       mean   9,203  9,683 10,360 10,888\n",
       "       std    3,224  3,536  3,655  3,958\n",
       "       min    6,164  6,270  6,521  6,851\n",
       "       25%    7,342  7,531  7,804  8,153\n",
       "       50%    8,303  8,818  9,402  9,611\n",
       "       75%    9,984 10,390 11,405 12,036\n",
       "       max   23,404 26,717 26,027 26,723"
      ]
     },
     "execution_count": 14,
     "metadata": {},
     "output_type": "execute_result"
    }
   ],
   "source": [
    "# 숫자를 읽기 쉽게 하기 위해 지정\n",
    "pd.options.display.float_format = '{:,.0f}'.format\n",
    "# 분양가격만 봤을 때 2015년에서 2018년으로 갈수록 오른 것을 확인할 수 있습니다.\n",
    "pre_sale.groupby(pre_sale.연도).describe().T"
   ]
  },
  {
   "cell_type": "markdown",
   "metadata": {
    "colab_type": "text",
    "id": "sh_8Gz5dKpBc"
   },
   "source": [
    "## 규모별 전국 평균 분양가격"
   ]
  },
  {
   "cell_type": "code",
   "execution_count": null,
   "metadata": {},
   "outputs": [],
   "source": [
    "? pre_sale.pivot_table"
   ]
  },
  {
   "cell_type": "code",
   "execution_count": 24,
   "metadata": {
    "colab": {},
    "colab_type": "code",
    "id": "jTx6D6y1KpBc"
   },
   "outputs": [
    {
     "data": {
      "text/html": [
       "<div>\n",
       "<style scoped>\n",
       "    .dataframe tbody tr th:only-of-type {\n",
       "        vertical-align: middle;\n",
       "    }\n",
       "\n",
       "    .dataframe tbody tr th {\n",
       "        vertical-align: top;\n",
       "    }\n",
       "\n",
       "    .dataframe thead th {\n",
       "        text-align: right;\n",
       "    }\n",
       "</style>\n",
       "<table border=\"1\" class=\"dataframe\">\n",
       "  <thead>\n",
       "    <tr style=\"text-align: right;\">\n",
       "      <th>연도</th>\n",
       "      <th>2015</th>\n",
       "      <th>2016</th>\n",
       "      <th>2017</th>\n",
       "      <th>2018</th>\n",
       "    </tr>\n",
       "    <tr>\n",
       "      <th>규모구분</th>\n",
       "      <th></th>\n",
       "      <th></th>\n",
       "      <th></th>\n",
       "      <th></th>\n",
       "    </tr>\n",
       "  </thead>\n",
       "  <tbody>\n",
       "    <tr>\n",
       "      <td>전용면적 102㎡초과</td>\n",
       "      <td>9,837</td>\n",
       "      <td>10,389</td>\n",
       "      <td>11,334</td>\n",
       "      <td>11,260</td>\n",
       "    </tr>\n",
       "    <tr>\n",
       "      <td>전용면적 60㎡이하</td>\n",
       "      <td>8,952</td>\n",
       "      <td>9,399</td>\n",
       "      <td>10,246</td>\n",
       "      <td>10,957</td>\n",
       "    </tr>\n",
       "    <tr>\n",
       "      <td>전용면적 60㎡초과 85㎡이하</td>\n",
       "      <td>8,892</td>\n",
       "      <td>9,296</td>\n",
       "      <td>9,825</td>\n",
       "      <td>10,438</td>\n",
       "    </tr>\n",
       "    <tr>\n",
       "      <td>전용면적 85㎡초과 102㎡이하</td>\n",
       "      <td>9,519</td>\n",
       "      <td>10,122</td>\n",
       "      <td>10,540</td>\n",
       "      <td>11,457</td>\n",
       "    </tr>\n",
       "    <tr>\n",
       "      <td>전체</td>\n",
       "      <td>8,893</td>\n",
       "      <td>9,293</td>\n",
       "      <td>9,901</td>\n",
       "      <td>10,560</td>\n",
       "    </tr>\n",
       "  </tbody>\n",
       "</table>\n",
       "</div>"
      ],
      "text/plain": [
       "연도                 2015   2016   2017   2018\n",
       "규모구분                                        \n",
       "전용면적 102㎡초과       9,837 10,389 11,334 11,260\n",
       "전용면적 60㎡이하        8,952  9,399 10,246 10,957\n",
       "전용면적 60㎡초과 85㎡이하  8,892  9,296  9,825 10,438\n",
       "전용면적 85㎡초과 102㎡이하 9,519 10,122 10,540 11,457\n",
       "전체                8,893  9,293  9,901 10,560"
      ]
     },
     "execution_count": 24,
     "metadata": {},
     "output_type": "execute_result"
    }
   ],
   "source": [
    "pre_sale.pivot_table('평당분양가격', '규모구분', '연도')"
   ]
  },
  {
   "cell_type": "markdown",
   "metadata": {
    "colab_type": "text",
    "id": "YGaDuaj_KpBe"
   },
   "source": [
    "# 전국 분양가 변동금액\n",
    "규모구분이 전체로 되어있는 금액으로 연도별 변동금액을 살펴봅니다."
   ]
  },
  {
   "cell_type": "code",
   "execution_count": 35,
   "metadata": {
    "colab": {},
    "colab_type": "code",
    "id": "XpjovIjgKpBg"
   },
   "outputs": [],
   "source": [
    "# 규모구분에서 전체로 되어있는 데이터만 가져온다.\n",
    "region_year_all = pre_sale.loc[pre_sale['규모구분'] == '전체']\n",
    "region_year = region_year_all.pivot_table('평당분양가격', '지역명', '연도').reset_index()"
   ]
  },
  {
   "cell_type": "code",
   "execution_count": 36,
   "metadata": {
    "colab": {},
    "colab_type": "code",
    "id": "LP79YYDoKpBg"
   },
   "outputs": [
    {
     "name": "stdout",
     "output_type": "stream",
     "text": [
      "2015년부터 2018년까지 분양가는 계속 상승했으며, \n",
      "      상승액이 가장 큰 지역은 제주이며 상승액은 평당 5,335,000원이다.\n",
      "상승액이 가장 작은 지역은 울산이며 평당 387,000원이다.\n",
      "전국 평균 변동액은 평당 1,666,647원이다.\n"
     ]
    },
    {
     "data": {
      "text/html": [
       "<div>\n",
       "<style scoped>\n",
       "    .dataframe tbody tr th:only-of-type {\n",
       "        vertical-align: middle;\n",
       "    }\n",
       "\n",
       "    .dataframe tbody tr th {\n",
       "        vertical-align: top;\n",
       "    }\n",
       "\n",
       "    .dataframe thead th {\n",
       "        text-align: right;\n",
       "    }\n",
       "</style>\n",
       "<table border=\"1\" class=\"dataframe\">\n",
       "  <thead>\n",
       "    <tr style=\"text-align: right;\">\n",
       "      <th>연도</th>\n",
       "      <th>지역명</th>\n",
       "      <th>2015</th>\n",
       "      <th>2016</th>\n",
       "      <th>2017</th>\n",
       "      <th>2018</th>\n",
       "      <th>변동액</th>\n",
       "    </tr>\n",
       "  </thead>\n",
       "  <tbody>\n",
       "    <tr>\n",
       "      <td>0</td>\n",
       "      <td>강원</td>\n",
       "      <td>7159.9</td>\n",
       "      <td>7011.125</td>\n",
       "      <td>7126.8</td>\n",
       "      <td>7642.80</td>\n",
       "      <td>482</td>\n",
       "    </tr>\n",
       "    <tr>\n",
       "      <td>1</td>\n",
       "      <td>경기</td>\n",
       "      <td>10377.4</td>\n",
       "      <td>11220.000</td>\n",
       "      <td>11850.0</td>\n",
       "      <td>12854.05</td>\n",
       "      <td>2476</td>\n",
       "    </tr>\n",
       "    <tr>\n",
       "      <td>2</td>\n",
       "      <td>경남</td>\n",
       "      <td>7585.6</td>\n",
       "      <td>7847.950</td>\n",
       "      <td>8119.8</td>\n",
       "      <td>8894.05</td>\n",
       "      <td>1308</td>\n",
       "    </tr>\n",
       "    <tr>\n",
       "      <td>3</td>\n",
       "      <td>경북</td>\n",
       "      <td>7170.9</td>\n",
       "      <td>7360.650</td>\n",
       "      <td>7794.9</td>\n",
       "      <td>8261.55</td>\n",
       "      <td>1090</td>\n",
       "    </tr>\n",
       "    <tr>\n",
       "      <td>4</td>\n",
       "      <td>광주</td>\n",
       "      <td>8052.0</td>\n",
       "      <td>8898.725</td>\n",
       "      <td>9463.5</td>\n",
       "      <td>9629.95</td>\n",
       "      <td>1577</td>\n",
       "    </tr>\n",
       "  </tbody>\n",
       "</table>\n",
       "</div>"
      ],
      "text/plain": [
       "연도 지역명     2015       2016     2017      2018   변동액\n",
       "0   강원   7159.9   7011.125   7126.8   7642.80   482\n",
       "1   경기  10377.4  11220.000  11850.0  12854.05  2476\n",
       "2   경남   7585.6   7847.950   8119.8   8894.05  1308\n",
       "3   경북   7170.9   7360.650   7794.9   8261.55  1090\n",
       "4   광주   8052.0   8898.725   9463.5   9629.95  1577"
      ]
     },
     "execution_count": 36,
     "metadata": {},
     "output_type": "execute_result"
    }
   ],
   "source": [
    "region_year['변동액'] = (region_year['2018'] - region_year['2015']).astype(int)\n",
    "max_delta_price = np.max(region_year['변동액'])*1000\n",
    "min_delta_price = np.min(region_year['변동액'])*1000\n",
    "mean_delta_price = np.mean(region_year['변동액'])*1000\n",
    "\n",
    "print('''2015년부터 2018년까지 분양가는 계속 상승했으며, \n",
    "      상승액이 가장 큰 지역은 제주이며 상승액은 평당 {:,.0f}원이다.'''.format(max_delta_price))\n",
    "print('상승액이 가장 작은 지역은 울산이며 평당 {:,.0f}원이다.'.format(min_delta_price))\n",
    "print('전국 평균 변동액은 평당 {:,.0f}원이다.'.format(mean_delta_price))\n",
    "\n",
    "region_year.head()\n",
    "\n",
    "# https://www.data.go.kr/dataset/3035522/fileData.do\n",
    "# region_year['변동액'] = (region_year['2018'] - region_year['2015']).astype(int)"
   ]
  },
  {
   "cell_type": "markdown",
   "metadata": {
    "colab_type": "text",
    "id": "Mwqf8CHmKpBj"
   },
   "source": [
    "# 연도별 변동 그래프"
   ]
  },
  {
   "cell_type": "code",
   "execution_count": null,
   "metadata": {
    "colab": {},
    "colab_type": "code",
    "id": "hpBLvHcPKpBk"
   },
   "outputs": [],
   "source": [
    "(ggplot(region_year_all, aes(x='지역명', y='평당분양가격', fill='연도'))\n",
    " + geom_bar(stat='identity', position='dodge')\n",
    " + ggtitle('2015-2018년 신규 민간 아파트 분양가격')\n",
    " + theme(text=element_text(fontproperties=font),\n",
    "         figure_size=(8, 4))\n",
    ")"
   ]
  },
  {
   "cell_type": "markdown",
   "metadata": {
    "colab_type": "text",
    "id": "5WLwcMPkKpBn"
   },
   "source": [
    "## 지역별 평당 분양가격 합계\n",
    "* 아래 데이터로 어느정도 규모로 분양사업이 이루어졌는지를 봅니다.\n",
    "* 전체 데이터로 봤을 때 서울, 경기, 부산, 제주에 분양 사업이 다른 지역에 비해 규모가 큰 것으로 보여지지만 분양가격대비로 나눠볼 필요가 있습니다."
   ]
  },
  {
   "cell_type": "code",
   "execution_count": null,
   "metadata": {
    "colab": {},
    "colab_type": "code",
    "id": "lAOa8bSvKpBo"
   },
   "outputs": [],
   "source": [
    "pre_sale.pivot_table('평당분양가격', '규모구분', '지역명')"
   ]
  },
  {
   "cell_type": "markdown",
   "metadata": {
    "colab_type": "text",
    "id": "G0LZgajfKpBr"
   },
   "source": [
    "## 규모별 "
   ]
  },
  {
   "cell_type": "code",
   "execution_count": null,
   "metadata": {
    "colab": {},
    "colab_type": "code",
    "id": "8tbpvocsKpBr"
   },
   "outputs": [],
   "source": [
    "# 서울의 경우 전용면적 85㎡초과 102㎡이하가 분양가격이 가장 비싸게 나옵니다.\n",
    "(ggplot(pre_sale, aes(x='지역명', y='평당분양가격', fill='규모구분'))\n",
    " + geom_bar(stat='identity', position='dodge')\n",
    " + ggtitle('규모별 신규 민간 아파트 분양가격')\n",
    " + theme(text=element_text(fontproperties=font),\n",
    "         figure_size=(8, 4))\n",
    ")"
   ]
  },
  {
   "cell_type": "code",
   "execution_count": null,
   "metadata": {
    "colab": {},
    "colab_type": "code",
    "id": "VYNsNq7FKpBu"
   },
   "outputs": [],
   "source": [
    "# 위에 그린 그래프를 지역별로 나눠 봅니다.\n",
    "(ggplot(pre_sale)\n",
    " + aes(x='연도', y='평당분양가격', fill='규모구분')\n",
    " + geom_bar(stat='identity', position='dodge')\n",
    " + facet_wrap('지역명')\n",
    " + theme(text=element_text(fontproperties=font),\n",
    "         axis_text_x=element_text(rotation=70),\n",
    "         figure_size=(12, 12))\n",
    ")"
   ]
  },
  {
   "cell_type": "code",
   "execution_count": null,
   "metadata": {
    "colab": {},
    "colab_type": "code",
    "id": "Ta_YjP-yKpBy"
   },
   "outputs": [],
   "source": [
    "# 박스플롯을 그려봅니다.\n",
    "(ggplot(pre_sale, aes(x='지역명', y='평당분양가격', fill='규모구분'))\n",
    " + geom_boxplot()\n",
    " + ggtitle('전국 규모별 신규 민간 아파트 분양가격')\n",
    " + theme(text=element_text(fontproperties=font),\n",
    "         figure_size=(12, 6))\n",
    ")"
   ]
  },
  {
   "cell_type": "code",
   "execution_count": null,
   "metadata": {
    "colab": {},
    "colab_type": "code",
    "id": "sRk1zM2AKpB4"
   },
   "outputs": [],
   "source": [
    "pre_sale_seoul = pre_sale.loc[pre_sale['지역명']=='서울']\n",
    "(ggplot(pre_sale_seoul)\n",
    " + aes(x='연도', y='평당분양가격', fill='규모구분')\n",
    " + ggtitle('서울 연도/규모별 신규 민간 아파트 분양가격')\n",
    " + geom_boxplot()\n",
    " + theme(text=element_text(fontproperties=font))\n",
    ")"
   ]
  },
  {
   "cell_type": "code",
   "execution_count": null,
   "metadata": {
    "colab": {},
    "colab_type": "code",
    "id": "-3kDLPCIKpB8"
   },
   "outputs": [],
   "source": [
    "# 2015년에서 2018년까지 분양가 차이가 가장 컸던 제주를 봅니다.\n",
    "(ggplot(pre_sale.loc[pre_sale['지역명']=='제주'])\n",
    " + aes(x='연도', y='평당분양가격', fill='규모구분')\n",
    " + geom_boxplot()\n",
    " + theme(text=element_text(fontproperties=font))\n",
    ")"
   ]
  },
  {
   "cell_type": "code",
   "execution_count": null,
   "metadata": {
    "colab": {},
    "colab_type": "code",
    "id": "xu2B0i_gKpB-"
   },
   "outputs": [],
   "source": [
    "# 2015년에서 2018년까지 분양가 차이가 가장 작았던 울산을 봅니다.\n",
    "(ggplot(pre_sale.loc[pre_sale['지역명']=='울산'])\n",
    " + aes(x='연도', y='평당분양가격', fill='규모구분')\n",
    " + geom_boxplot()\n",
    " + theme(text=element_text(fontproperties=font))\n",
    ")"
   ]
  },
  {
   "cell_type": "code",
   "execution_count": 159,
   "metadata": {},
   "outputs": [
    {
     "data": {
      "text/html": [
       "<div>\n",
       "<style scoped>\n",
       "    .dataframe tbody tr th:only-of-type {\n",
       "        vertical-align: middle;\n",
       "    }\n",
       "\n",
       "    .dataframe tbody tr th {\n",
       "        vertical-align: top;\n",
       "    }\n",
       "\n",
       "    .dataframe thead th {\n",
       "        text-align: right;\n",
       "    }\n",
       "</style>\n",
       "<table border=\"1\" class=\"dataframe\">\n",
       "  <thead>\n",
       "    <tr style=\"text-align: right;\">\n",
       "      <th></th>\n",
       "      <th>지역명</th>\n",
       "      <th>규모구분</th>\n",
       "      <th>연도</th>\n",
       "      <th>월</th>\n",
       "      <th>분양가격(㎡)</th>\n",
       "      <th>분양가격</th>\n",
       "      <th>평당분양가격</th>\n",
       "    </tr>\n",
       "  </thead>\n",
       "  <tbody>\n",
       "    <tr>\n",
       "      <td>0</td>\n",
       "      <td>서울</td>\n",
       "      <td>전체</td>\n",
       "      <td>2015</td>\n",
       "      <td>10</td>\n",
       "      <td>5841</td>\n",
       "      <td>5841.0</td>\n",
       "      <td>19275.3</td>\n",
       "    </tr>\n",
       "    <tr>\n",
       "      <td>1</td>\n",
       "      <td>서울</td>\n",
       "      <td>전용면적 60㎡이하</td>\n",
       "      <td>2015</td>\n",
       "      <td>10</td>\n",
       "      <td>5652</td>\n",
       "      <td>5652.0</td>\n",
       "      <td>18651.6</td>\n",
       "    </tr>\n",
       "    <tr>\n",
       "      <td>2</td>\n",
       "      <td>서울</td>\n",
       "      <td>전용면적 60㎡초과 85㎡이하</td>\n",
       "      <td>2015</td>\n",
       "      <td>10</td>\n",
       "      <td>5882</td>\n",
       "      <td>5882.0</td>\n",
       "      <td>19410.6</td>\n",
       "    </tr>\n",
       "    <tr>\n",
       "      <td>3</td>\n",
       "      <td>서울</td>\n",
       "      <td>전용면적 85㎡초과 102㎡이하</td>\n",
       "      <td>2015</td>\n",
       "      <td>10</td>\n",
       "      <td>5721</td>\n",
       "      <td>5721.0</td>\n",
       "      <td>18879.3</td>\n",
       "    </tr>\n",
       "    <tr>\n",
       "      <td>4</td>\n",
       "      <td>서울</td>\n",
       "      <td>전용면적 102㎡초과</td>\n",
       "      <td>2015</td>\n",
       "      <td>10</td>\n",
       "      <td>5879</td>\n",
       "      <td>5879.0</td>\n",
       "      <td>19400.7</td>\n",
       "    </tr>\n",
       "  </tbody>\n",
       "</table>\n",
       "</div>"
      ],
      "text/plain": [
       "  지역명               규모구분    연도   월 분양가격(㎡)    분양가격   평당분양가격\n",
       "0  서울                 전체  2015  10    5841  5841.0  19275.3\n",
       "1  서울         전용면적 60㎡이하  2015  10    5652  5652.0  18651.6\n",
       "2  서울   전용면적 60㎡초과 85㎡이하  2015  10    5882  5882.0  19410.6\n",
       "3  서울  전용면적 85㎡초과 102㎡이하  2015  10    5721  5721.0  18879.3\n",
       "4  서울        전용면적 102㎡초과  2015  10    5879  5879.0  19400.7"
      ]
     },
     "execution_count": 159,
     "metadata": {},
     "output_type": "execute_result"
    }
   ],
   "source": [
    "pre_sale.head()"
   ]
  },
  {
   "cell_type": "markdown",
   "metadata": {
    "colab_type": "text",
    "id": "pmTeDk-PKpCB"
   },
   "source": [
    "# 2013년 12월~2015년 9월 3.3㎡당 분양가격\n",
    "* 2015년 10월부터 2018년 4월까지 데이터는 평당 분양가로 조정을 해주었었는데 이 데이터는 평당 분양가가 들어가 있다."
   ]
  },
  {
   "cell_type": "code",
   "execution_count": 160,
   "metadata": {
    "colab": {},
    "colab_type": "code",
    "id": "RH6u-Nt-KpCD"
   },
   "outputs": [
    {
     "data": {
      "text/plain": [
       "(23, 27)"
      ]
     },
     "execution_count": 160,
     "metadata": {},
     "output_type": "execute_result"
    }
   ],
   "source": [
    "df = pd.read_csv('./data/지역별_3.3㎡당_평균_분양가격_천원__15.09월.csv', \\\n",
    "                 encoding='euc-kr', skiprows=1, header=0)\n",
    "df.shape"
   ]
  },
  {
   "cell_type": "code",
   "execution_count": 129,
   "metadata": {
    "colab": {},
    "colab_type": "code",
    "id": "poB-Uq14KpCO"
   },
   "outputs": [
    {
     "data": {
      "text/html": [
       "<div>\n",
       "<style scoped>\n",
       "    .dataframe tbody tr th:only-of-type {\n",
       "        vertical-align: middle;\n",
       "    }\n",
       "\n",
       "    .dataframe tbody tr th {\n",
       "        vertical-align: top;\n",
       "    }\n",
       "\n",
       "    .dataframe thead th {\n",
       "        text-align: right;\n",
       "    }\n",
       "</style>\n",
       "<table border=\"1\" class=\"dataframe\">\n",
       "  <thead>\n",
       "    <tr style=\"text-align: right;\">\n",
       "      <th></th>\n",
       "      <th>Unnamed: 0</th>\n",
       "      <th>Unnamed: 1</th>\n",
       "      <th>Unnamed: 2</th>\n",
       "      <th>Unnamed: 3</th>\n",
       "      <th>Unnamed: 4</th>\n",
       "      <th>Unnamed: 5</th>\n",
       "      <th>Unnamed: 6</th>\n",
       "      <th>Unnamed: 7</th>\n",
       "      <th>Unnamed: 8</th>\n",
       "      <th>Unnamed: 9</th>\n",
       "      <th>...</th>\n",
       "      <th>Unnamed: 17</th>\n",
       "      <th>Unnamed: 18</th>\n",
       "      <th>Unnamed: 19</th>\n",
       "      <th>Unnamed: 20</th>\n",
       "      <th>Unnamed: 21</th>\n",
       "      <th>Unnamed: 22</th>\n",
       "      <th>Unnamed: 23</th>\n",
       "      <th>Unnamed: 24</th>\n",
       "      <th>Unnamed: 25</th>\n",
       "      <th>Unnamed: 26</th>\n",
       "    </tr>\n",
       "  </thead>\n",
       "  <tbody>\n",
       "    <tr>\n",
       "      <td>0</td>\n",
       "      <td>구분</td>\n",
       "      <td>NaN</td>\n",
       "      <td>2013년</td>\n",
       "      <td>2014년</td>\n",
       "      <td>NaN</td>\n",
       "      <td>NaN</td>\n",
       "      <td>NaN</td>\n",
       "      <td>NaN</td>\n",
       "      <td>NaN</td>\n",
       "      <td>NaN</td>\n",
       "      <td>...</td>\n",
       "      <td>NaN</td>\n",
       "      <td>NaN</td>\n",
       "      <td>NaN</td>\n",
       "      <td>NaN</td>\n",
       "      <td>NaN</td>\n",
       "      <td>NaN</td>\n",
       "      <td>NaN</td>\n",
       "      <td>NaN</td>\n",
       "      <td>NaN</td>\n",
       "      <td>(단위: 천원/3.3㎡)</td>\n",
       "    </tr>\n",
       "    <tr>\n",
       "      <td>1</td>\n",
       "      <td>시도</td>\n",
       "      <td>시군구</td>\n",
       "      <td>12월</td>\n",
       "      <td>1월</td>\n",
       "      <td>2월</td>\n",
       "      <td>3월</td>\n",
       "      <td>4월</td>\n",
       "      <td>5월</td>\n",
       "      <td>6월</td>\n",
       "      <td>7월</td>\n",
       "      <td>...</td>\n",
       "      <td>3월</td>\n",
       "      <td>4월</td>\n",
       "      <td>5월</td>\n",
       "      <td>6월</td>\n",
       "      <td>7월</td>\n",
       "      <td>8월</td>\n",
       "      <td>9월</td>\n",
       "      <td>전월비</td>\n",
       "      <td>전년말비</td>\n",
       "      <td>전년동월비</td>\n",
       "    </tr>\n",
       "    <tr>\n",
       "      <td>2</td>\n",
       "      <td>전국</td>\n",
       "      <td>NaN</td>\n",
       "      <td>8,059</td>\n",
       "      <td>8,130</td>\n",
       "      <td>8,195</td>\n",
       "      <td>8,204</td>\n",
       "      <td>8,289</td>\n",
       "      <td>8,358</td>\n",
       "      <td>8,344</td>\n",
       "      <td>8,333</td>\n",
       "      <td>...</td>\n",
       "      <td>8,563</td>\n",
       "      <td>8,613</td>\n",
       "      <td>8,624</td>\n",
       "      <td>8,627</td>\n",
       "      <td>8,643</td>\n",
       "      <td>8,678</td>\n",
       "      <td>8,665</td>\n",
       "      <td>-13</td>\n",
       "      <td>82</td>\n",
       "      <td>207</td>\n",
       "    </tr>\n",
       "    <tr>\n",
       "      <td>3</td>\n",
       "      <td>서울</td>\n",
       "      <td>NaN</td>\n",
       "      <td>18,189</td>\n",
       "      <td>17,925</td>\n",
       "      <td>17,925</td>\n",
       "      <td>18,016</td>\n",
       "      <td>18,098</td>\n",
       "      <td>19,446</td>\n",
       "      <td>18,867</td>\n",
       "      <td>18,742</td>\n",
       "      <td>...</td>\n",
       "      <td>19,415</td>\n",
       "      <td>18,842</td>\n",
       "      <td>18,367</td>\n",
       "      <td>18,374</td>\n",
       "      <td>18,152</td>\n",
       "      <td>18,443</td>\n",
       "      <td>17,969</td>\n",
       "      <td>-474</td>\n",
       "      <td>-2,300</td>\n",
       "      <td>-1,434</td>\n",
       "    </tr>\n",
       "    <tr>\n",
       "      <td>4</td>\n",
       "      <td>6대광역시</td>\n",
       "      <td>부산</td>\n",
       "      <td>8,111</td>\n",
       "      <td>8,111</td>\n",
       "      <td>9,078</td>\n",
       "      <td>8,965</td>\n",
       "      <td>9,402</td>\n",
       "      <td>9,501</td>\n",
       "      <td>9,453</td>\n",
       "      <td>9,457</td>\n",
       "      <td>...</td>\n",
       "      <td>9,279</td>\n",
       "      <td>9,327</td>\n",
       "      <td>9,345</td>\n",
       "      <td>9,515</td>\n",
       "      <td>9,559</td>\n",
       "      <td>9,581</td>\n",
       "      <td>9,608</td>\n",
       "      <td>1</td>\n",
       "      <td>430</td>\n",
       "      <td>477</td>\n",
       "    </tr>\n",
       "  </tbody>\n",
       "</table>\n",
       "<p>5 rows × 27 columns</p>\n",
       "</div>"
      ],
      "text/plain": [
       "  Unnamed: 0 Unnamed: 1 Unnamed: 2 Unnamed: 3 Unnamed: 4 Unnamed: 5  \\\n",
       "0         구분        NaN      2013년      2014년        NaN        NaN   \n",
       "1         시도        시군구        12월         1월         2월         3월   \n",
       "2         전국        NaN      8,059      8,130      8,195      8,204   \n",
       "3         서울        NaN     18,189     17,925     17,925     18,016   \n",
       "4      6대광역시         부산      8,111      8,111      9,078      8,965   \n",
       "\n",
       "  Unnamed: 6 Unnamed: 7 Unnamed: 8 Unnamed: 9  ... Unnamed: 17 Unnamed: 18  \\\n",
       "0        NaN        NaN        NaN        NaN  ...         NaN         NaN   \n",
       "1         4월         5월         6월         7월  ...          3월          4월   \n",
       "2      8,289      8,358      8,344      8,333  ...       8,563       8,613   \n",
       "3     18,098     19,446     18,867     18,742  ...      19,415      18,842   \n",
       "4      9,402      9,501      9,453      9,457  ...       9,279       9,327   \n",
       "\n",
       "  Unnamed: 19 Unnamed: 20 Unnamed: 21 Unnamed: 22 Unnamed: 23 Unnamed: 24  \\\n",
       "0         NaN         NaN         NaN         NaN         NaN         NaN   \n",
       "1          5월          6월          7월          8월          9월         전월비   \n",
       "2       8,624       8,627       8,643       8,678       8,665        -13    \n",
       "3      18,367      18,374      18,152      18,443      17,969       -474    \n",
       "4       9,345       9,515       9,559       9,581       9,608          1    \n",
       "\n",
       "  Unnamed: 25    Unnamed: 26  \n",
       "0         NaN  (단위: 천원/3.3㎡)  \n",
       "1        전년말비          전년동월비  \n",
       "2         82            207   \n",
       "3     -2,300         -1,434   \n",
       "4        430            477   \n",
       "\n",
       "[5 rows x 27 columns]"
      ]
     },
     "execution_count": 129,
     "metadata": {},
     "output_type": "execute_result"
    }
   ],
   "source": [
    "# pandas에서 보기 쉽게 컬럼을 변경해 줄 필요가 있다.\n",
    "df.head()"
   ]
  },
  {
   "cell_type": "code",
   "execution_count": 161,
   "metadata": {
    "colab": {},
    "colab_type": "code",
    "id": "mfhAG6qLKpCQ"
   },
   "outputs": [],
   "source": [
    "year = df.iloc[0]\n",
    "month = df.iloc[1]"
   ]
  },
  {
   "cell_type": "code",
   "execution_count": 162,
   "metadata": {
    "colab": {},
    "colab_type": "code",
    "id": "bzP2cDV9KpCS"
   },
   "outputs": [
    {
     "data": {
      "text/plain": [
       "Unnamed: 0       구분\n",
       "Unnamed: 1      NaN\n",
       "Unnamed: 2    2013년\n",
       "Unnamed: 3    2014년\n",
       "Unnamed: 4      NaN\n",
       "Name: 0, dtype: object"
      ]
     },
     "execution_count": 162,
     "metadata": {},
     "output_type": "execute_result"
    }
   ],
   "source": [
    "# 결측치를 채워준다.\n",
    "year.head()"
   ]
  },
  {
   "cell_type": "code",
   "execution_count": 163,
   "metadata": {},
   "outputs": [
    {
     "data": {
      "text/plain": [
       "Unnamed: 0     시도\n",
       "Unnamed: 1    시군구\n",
       "Unnamed: 2    12월\n",
       "Unnamed: 3     1월\n",
       "Unnamed: 4     2월\n",
       "Name: 1, dtype: object"
      ]
     },
     "execution_count": 163,
     "metadata": {},
     "output_type": "execute_result"
    }
   ],
   "source": [
    "month.head()"
   ]
  },
  {
   "cell_type": "code",
   "execution_count": 164,
   "metadata": {
    "colab": {},
    "colab_type": "code",
    "id": "KqQotzHtKpCU"
   },
   "outputs": [
    {
     "name": "stdout",
     "output_type": "stream",
     "text": [
      "Unnamed: 0           구분\n",
      "Unnamed: 1          시군구\n",
      "Unnamed: 2    2013년 12월\n",
      "Unnamed: 3     2014년 1월\n",
      "Unnamed: 4     2014년 2월\n",
      "Name: 0, dtype: object\n"
     ]
    }
   ],
   "source": [
    "# 컬럼을 새로 만들어 주기 위해 0번째와 1번째 행을 합쳐준다.\n",
    "for i, y in enumerate(year):\n",
    "    if i > 2 and i < 15:\n",
    "        year[i] = ' '.join(['2014년', str(month[i])])\n",
    "    elif i >= 15:\n",
    "        year[i] = ' '.join(['2015년', str(month[i])])\n",
    "    elif i == 2 :\n",
    "        year[i] = ' '.join([year[i], month[i]])\n",
    "    elif i == 1:\n",
    "        year[i] = '시군구'\n",
    "        \n",
    "print(year.head())"
   ]
  },
  {
   "cell_type": "code",
   "execution_count": 165,
   "metadata": {
    "colab": {},
    "colab_type": "code",
    "id": "q_8U3mrkKpCX"
   },
   "outputs": [],
   "source": [
    "df.columns = year"
   ]
  },
  {
   "cell_type": "code",
   "execution_count": 166,
   "metadata": {
    "colab": {},
    "colab_type": "code",
    "id": "Mi_HL7tDKpCZ"
   },
   "outputs": [
    {
     "data": {
      "text/html": [
       "<div>\n",
       "<style scoped>\n",
       "    .dataframe tbody tr th:only-of-type {\n",
       "        vertical-align: middle;\n",
       "    }\n",
       "\n",
       "    .dataframe tbody tr th {\n",
       "        vertical-align: top;\n",
       "    }\n",
       "\n",
       "    .dataframe thead th {\n",
       "        text-align: right;\n",
       "    }\n",
       "</style>\n",
       "<table border=\"1\" class=\"dataframe\">\n",
       "  <thead>\n",
       "    <tr style=\"text-align: right;\">\n",
       "      <th></th>\n",
       "      <th>구분</th>\n",
       "      <th>시군구</th>\n",
       "      <th>2013년 12월</th>\n",
       "      <th>2014년 1월</th>\n",
       "      <th>2014년 2월</th>\n",
       "      <th>2014년 3월</th>\n",
       "      <th>2014년 4월</th>\n",
       "      <th>2014년 5월</th>\n",
       "      <th>2014년 6월</th>\n",
       "      <th>2014년 7월</th>\n",
       "      <th>...</th>\n",
       "      <th>2015년 3월</th>\n",
       "      <th>2015년 4월</th>\n",
       "      <th>2015년 5월</th>\n",
       "      <th>2015년 6월</th>\n",
       "      <th>2015년 7월</th>\n",
       "      <th>2015년 8월</th>\n",
       "      <th>2015년 9월</th>\n",
       "      <th>2015년 전월비</th>\n",
       "      <th>2015년 전년말비</th>\n",
       "      <th>2015년 전년동월비</th>\n",
       "    </tr>\n",
       "  </thead>\n",
       "  <tbody>\n",
       "    <tr>\n",
       "      <td>2</td>\n",
       "      <td>전국</td>\n",
       "      <td>NaN</td>\n",
       "      <td>8,059</td>\n",
       "      <td>8,130</td>\n",
       "      <td>8,195</td>\n",
       "      <td>8,204</td>\n",
       "      <td>8,289</td>\n",
       "      <td>8,358</td>\n",
       "      <td>8,344</td>\n",
       "      <td>8,333</td>\n",
       "      <td>...</td>\n",
       "      <td>8,563</td>\n",
       "      <td>8,613</td>\n",
       "      <td>8,624</td>\n",
       "      <td>8,627</td>\n",
       "      <td>8,643</td>\n",
       "      <td>8,678</td>\n",
       "      <td>8,665</td>\n",
       "      <td>-13</td>\n",
       "      <td>82</td>\n",
       "      <td>207</td>\n",
       "    </tr>\n",
       "    <tr>\n",
       "      <td>3</td>\n",
       "      <td>서울</td>\n",
       "      <td>NaN</td>\n",
       "      <td>18,189</td>\n",
       "      <td>17,925</td>\n",
       "      <td>17,925</td>\n",
       "      <td>18,016</td>\n",
       "      <td>18,098</td>\n",
       "      <td>19,446</td>\n",
       "      <td>18,867</td>\n",
       "      <td>18,742</td>\n",
       "      <td>...</td>\n",
       "      <td>19,415</td>\n",
       "      <td>18,842</td>\n",
       "      <td>18,367</td>\n",
       "      <td>18,374</td>\n",
       "      <td>18,152</td>\n",
       "      <td>18,443</td>\n",
       "      <td>17,969</td>\n",
       "      <td>-474</td>\n",
       "      <td>-2,300</td>\n",
       "      <td>-1,434</td>\n",
       "    </tr>\n",
       "    <tr>\n",
       "      <td>4</td>\n",
       "      <td>6대광역시</td>\n",
       "      <td>부산</td>\n",
       "      <td>8,111</td>\n",
       "      <td>8,111</td>\n",
       "      <td>9,078</td>\n",
       "      <td>8,965</td>\n",
       "      <td>9,402</td>\n",
       "      <td>9,501</td>\n",
       "      <td>9,453</td>\n",
       "      <td>9,457</td>\n",
       "      <td>...</td>\n",
       "      <td>9,279</td>\n",
       "      <td>9,327</td>\n",
       "      <td>9,345</td>\n",
       "      <td>9,515</td>\n",
       "      <td>9,559</td>\n",
       "      <td>9,581</td>\n",
       "      <td>9,608</td>\n",
       "      <td>1</td>\n",
       "      <td>430</td>\n",
       "      <td>477</td>\n",
       "    </tr>\n",
       "    <tr>\n",
       "      <td>5</td>\n",
       "      <td>NaN</td>\n",
       "      <td>대구</td>\n",
       "      <td>8,080</td>\n",
       "      <td>8,080</td>\n",
       "      <td>8,077</td>\n",
       "      <td>8,101</td>\n",
       "      <td>8,267</td>\n",
       "      <td>8,274</td>\n",
       "      <td>8,360</td>\n",
       "      <td>8,360</td>\n",
       "      <td>...</td>\n",
       "      <td>8,441</td>\n",
       "      <td>8,446</td>\n",
       "      <td>8,568</td>\n",
       "      <td>8,542</td>\n",
       "      <td>8,542</td>\n",
       "      <td>8,795</td>\n",
       "      <td>8,863</td>\n",
       "      <td>27</td>\n",
       "      <td>400</td>\n",
       "      <td>350</td>\n",
       "    </tr>\n",
       "    <tr>\n",
       "      <td>6</td>\n",
       "      <td>NaN</td>\n",
       "      <td>인천</td>\n",
       "      <td>10,204</td>\n",
       "      <td>10,204</td>\n",
       "      <td>10,408</td>\n",
       "      <td>10,408</td>\n",
       "      <td>10,000</td>\n",
       "      <td>9,844</td>\n",
       "      <td>10,058</td>\n",
       "      <td>9,974</td>\n",
       "      <td>...</td>\n",
       "      <td>9,876</td>\n",
       "      <td>9,938</td>\n",
       "      <td>10,551</td>\n",
       "      <td>10,443</td>\n",
       "      <td>10,443</td>\n",
       "      <td>10,449</td>\n",
       "      <td>10,450</td>\n",
       "      <td>-162</td>\n",
       "      <td>-150</td>\n",
       "      <td>-131</td>\n",
       "    </tr>\n",
       "  </tbody>\n",
       "</table>\n",
       "<p>5 rows × 27 columns</p>\n",
       "</div>"
      ],
      "text/plain": [
       "0     구분  시군구 2013년 12월 2014년 1월 2014년 2월 2014년 3월 2014년 4월 2014년 5월 2014년 6월  \\\n",
       "2     전국  NaN     8,059    8,130    8,195    8,204    8,289    8,358    8,344   \n",
       "3     서울  NaN    18,189   17,925   17,925   18,016   18,098   19,446   18,867   \n",
       "4  6대광역시   부산     8,111    8,111    9,078    8,965    9,402    9,501    9,453   \n",
       "5    NaN   대구     8,080    8,080    8,077    8,101    8,267    8,274    8,360   \n",
       "6    NaN   인천    10,204   10,204   10,408   10,408   10,000    9,844   10,058   \n",
       "\n",
       "0 2014년 7월  ... 2015년 3월 2015년 4월 2015년 5월 2015년 6월 2015년 7월 2015년 8월  \\\n",
       "2    8,333  ...    8,563    8,613    8,624    8,627    8,643    8,678   \n",
       "3   18,742  ...   19,415   18,842   18,367   18,374   18,152   18,443   \n",
       "4    9,457  ...    9,279    9,327    9,345    9,515    9,559    9,581   \n",
       "5    8,360  ...    8,441    8,446    8,568    8,542    8,542    8,795   \n",
       "6    9,974  ...    9,876    9,938   10,551   10,443   10,443   10,449   \n",
       "\n",
       "0 2015년 9월 2015년 전월비 2015년 전년말비 2015년 전년동월비  \n",
       "2    8,665      -13         82         207   \n",
       "3   17,969     -474     -2,300      -1,434   \n",
       "4    9,608        1        430         477   \n",
       "5    8,863       27        400         350   \n",
       "6   10,450     -162       -150        -131   \n",
       "\n",
       "[5 rows x 27 columns]"
      ]
     },
     "execution_count": 166,
     "metadata": {},
     "output_type": "execute_result"
    }
   ],
   "source": [
    "df = df.drop(df.index[[0,1]])\n",
    "df.head()"
   ]
  },
  {
   "cell_type": "code",
   "execution_count": 167,
   "metadata": {
    "colab": {},
    "colab_type": "code",
    "id": "j9EqaZtRKpCb"
   },
   "outputs": [],
   "source": [
    "# 지역 컬럼을 새로 만들어 시도와 시군구를 합쳐준다.\n",
    "df['구분'] = df['구분'].fillna('')\n",
    "df['시군구'] = df['시군구'].fillna('')"
   ]
  },
  {
   "cell_type": "code",
   "execution_count": 168,
   "metadata": {
    "colab": {},
    "colab_type": "code",
    "id": "XPc9a8RPKpCd"
   },
   "outputs": [],
   "source": [
    "df['지역'] = df['구분'] + df['시군구']"
   ]
  },
  {
   "cell_type": "code",
   "execution_count": 169,
   "metadata": {
    "colab": {},
    "colab_type": "code",
    "id": "DYPzWRTTKpCl"
   },
   "outputs": [
    {
     "data": {
      "text/plain": [
       "2         전국\n",
       "3         서울\n",
       "4    6대광역시부산\n",
       "5         대구\n",
       "6         인천\n",
       "Name: 지역, dtype: object"
      ]
     },
     "execution_count": 169,
     "metadata": {},
     "output_type": "execute_result"
    }
   ],
   "source": [
    "df['지역'].head()"
   ]
  },
  {
   "cell_type": "code",
   "execution_count": 170,
   "metadata": {
    "colab": {},
    "colab_type": "code",
    "id": "HFrB6l2iKpCo"
   },
   "outputs": [
    {
     "data": {
      "text/plain": [
       "Index(['구분', '시군구', '2013년 12월', '2014년 1월', '2014년 2월', '2014년 3월',\n",
       "       '2014년 4월', '2014년 5월', '2014년 6월', '2014년 7월', '2014년 8월', '2014년 9월',\n",
       "       '2014년 10월', '2014년 11월', '2014년 12월', '2015년 1월', '2015년 2월',\n",
       "       '2015년 3월', '2015년 4월', '2015년 5월', '2015년 6월', '2015년 7월', '2015년 8월',\n",
       "       '2015년 9월', '2015년 전월비', '2015년 전년말비', '2015년 전년동월비', '지역'],\n",
       "      dtype='object', name=0)"
      ]
     },
     "execution_count": 170,
     "metadata": {},
     "output_type": "execute_result"
    }
   ],
   "source": [
    "melt_columns = df.columns.copy()\n",
    "melt_columns"
   ]
  },
  {
   "cell_type": "code",
   "execution_count": 171,
   "metadata": {
    "colab": {},
    "colab_type": "code",
    "id": "3n34oGlBKpCu"
   },
   "outputs": [
    {
     "data": {
      "text/html": [
       "<div>\n",
       "<style scoped>\n",
       "    .dataframe tbody tr th:only-of-type {\n",
       "        vertical-align: middle;\n",
       "    }\n",
       "\n",
       "    .dataframe tbody tr th {\n",
       "        vertical-align: top;\n",
       "    }\n",
       "\n",
       "    .dataframe thead th {\n",
       "        text-align: right;\n",
       "    }\n",
       "</style>\n",
       "<table border=\"1\" class=\"dataframe\">\n",
       "  <thead>\n",
       "    <tr style=\"text-align: right;\">\n",
       "      <th></th>\n",
       "      <th>지역</th>\n",
       "      <th>0</th>\n",
       "      <th>value</th>\n",
       "    </tr>\n",
       "  </thead>\n",
       "  <tbody>\n",
       "    <tr>\n",
       "      <td>0</td>\n",
       "      <td>전국</td>\n",
       "      <td>2013년 12월</td>\n",
       "      <td>8,059</td>\n",
       "    </tr>\n",
       "    <tr>\n",
       "      <td>1</td>\n",
       "      <td>서울</td>\n",
       "      <td>2013년 12월</td>\n",
       "      <td>18,189</td>\n",
       "    </tr>\n",
       "    <tr>\n",
       "      <td>2</td>\n",
       "      <td>6대광역시부산</td>\n",
       "      <td>2013년 12월</td>\n",
       "      <td>8,111</td>\n",
       "    </tr>\n",
       "    <tr>\n",
       "      <td>3</td>\n",
       "      <td>대구</td>\n",
       "      <td>2013년 12월</td>\n",
       "      <td>8,080</td>\n",
       "    </tr>\n",
       "    <tr>\n",
       "      <td>4</td>\n",
       "      <td>인천</td>\n",
       "      <td>2013년 12월</td>\n",
       "      <td>10,204</td>\n",
       "    </tr>\n",
       "  </tbody>\n",
       "</table>\n",
       "</div>"
      ],
      "text/plain": [
       "        지역          0   value\n",
       "0       전국  2013년 12월   8,059\n",
       "1       서울  2013년 12월  18,189\n",
       "2  6대광역시부산  2013년 12월   8,111\n",
       "3       대구  2013년 12월   8,080\n",
       "4       인천  2013년 12월  10,204"
      ]
     },
     "execution_count": 171,
     "metadata": {},
     "output_type": "execute_result"
    }
   ],
   "source": [
    "df_2013_2015 = pd.melt(df, id_vars=['지역'], value_vars=['2013년 12월', '2014년 1월', '2014년 2월', '2014년 3월',\n",
    "       '2014년 4월', '2014년 5월', '2014년 6월', '2014년 7월', '2014년 8월',\n",
    "       '2014년 9월', '2014년 10월', '2014년 11월', '2014년 12월', '2015년 1월',\n",
    "       '2015년 2월', '2015년 3월', '2015년 4월', '2015년 5월', '2015년 6월',\n",
    "       '2015년 7월', '2015년 8월', '2015년 9월'])\n",
    "df_2013_2015.head()"
   ]
  },
  {
   "cell_type": "code",
   "execution_count": 172,
   "metadata": {
    "colab": {},
    "colab_type": "code",
    "id": "sWjk3eBWKpCz"
   },
   "outputs": [
    {
     "data": {
      "text/html": [
       "<div>\n",
       "<style scoped>\n",
       "    .dataframe tbody tr th:only-of-type {\n",
       "        vertical-align: middle;\n",
       "    }\n",
       "\n",
       "    .dataframe tbody tr th {\n",
       "        vertical-align: top;\n",
       "    }\n",
       "\n",
       "    .dataframe thead th {\n",
       "        text-align: right;\n",
       "    }\n",
       "</style>\n",
       "<table border=\"1\" class=\"dataframe\">\n",
       "  <thead>\n",
       "    <tr style=\"text-align: right;\">\n",
       "      <th></th>\n",
       "      <th>지역</th>\n",
       "      <th>기간</th>\n",
       "      <th>분양가</th>\n",
       "    </tr>\n",
       "  </thead>\n",
       "  <tbody>\n",
       "    <tr>\n",
       "      <td>0</td>\n",
       "      <td>전국</td>\n",
       "      <td>2013년 12월</td>\n",
       "      <td>8,059</td>\n",
       "    </tr>\n",
       "    <tr>\n",
       "      <td>1</td>\n",
       "      <td>서울</td>\n",
       "      <td>2013년 12월</td>\n",
       "      <td>18,189</td>\n",
       "    </tr>\n",
       "    <tr>\n",
       "      <td>2</td>\n",
       "      <td>6대광역시부산</td>\n",
       "      <td>2013년 12월</td>\n",
       "      <td>8,111</td>\n",
       "    </tr>\n",
       "    <tr>\n",
       "      <td>3</td>\n",
       "      <td>대구</td>\n",
       "      <td>2013년 12월</td>\n",
       "      <td>8,080</td>\n",
       "    </tr>\n",
       "    <tr>\n",
       "      <td>4</td>\n",
       "      <td>인천</td>\n",
       "      <td>2013년 12월</td>\n",
       "      <td>10,204</td>\n",
       "    </tr>\n",
       "  </tbody>\n",
       "</table>\n",
       "</div>"
      ],
      "text/plain": [
       "        지역         기간     분양가\n",
       "0       전국  2013년 12월   8,059\n",
       "1       서울  2013년 12월  18,189\n",
       "2  6대광역시부산  2013년 12월   8,111\n",
       "3       대구  2013년 12월   8,080\n",
       "4       인천  2013년 12월  10,204"
      ]
     },
     "execution_count": 172,
     "metadata": {},
     "output_type": "execute_result"
    }
   ],
   "source": [
    "df_2013_2015.columns = ['지역', '기간', '분양가']\n",
    "df_2013_2015.head()"
   ]
  },
  {
   "cell_type": "code",
   "execution_count": 173,
   "metadata": {
    "colab": {},
    "colab_type": "code",
    "id": "PyoHzvZ5KpC3"
   },
   "outputs": [],
   "source": [
    "df_2013_2015['연도'] = df_2013_2015['기간'].apply(lambda year_month : year_month.split('년')[0])\n",
    "df_2013_2015['월'] = df_2013_2015['기간'].apply(lambda year_month : re.sub('월', '', year_month.split('년')[1]).strip())"
   ]
  },
  {
   "cell_type": "code",
   "execution_count": 151,
   "metadata": {
    "colab": {},
    "colab_type": "code",
    "id": "nU1_ymWDKpC7"
   },
   "outputs": [
    {
     "data": {
      "text/html": [
       "<div>\n",
       "<style scoped>\n",
       "    .dataframe tbody tr th:only-of-type {\n",
       "        vertical-align: middle;\n",
       "    }\n",
       "\n",
       "    .dataframe tbody tr th {\n",
       "        vertical-align: top;\n",
       "    }\n",
       "\n",
       "    .dataframe thead th {\n",
       "        text-align: right;\n",
       "    }\n",
       "</style>\n",
       "<table border=\"1\" class=\"dataframe\">\n",
       "  <thead>\n",
       "    <tr style=\"text-align: right;\">\n",
       "      <th></th>\n",
       "      <th>지역</th>\n",
       "      <th>기간</th>\n",
       "      <th>분양가</th>\n",
       "      <th>분양가격</th>\n",
       "      <th>연도</th>\n",
       "      <th>월</th>\n",
       "    </tr>\n",
       "  </thead>\n",
       "  <tbody>\n",
       "    <tr>\n",
       "      <td>0</td>\n",
       "      <td>부산</td>\n",
       "      <td>2013년 12월</td>\n",
       "      <td>8,111</td>\n",
       "      <td>8111</td>\n",
       "      <td>2013</td>\n",
       "      <td>12</td>\n",
       "    </tr>\n",
       "    <tr>\n",
       "      <td>1</td>\n",
       "      <td>대구</td>\n",
       "      <td>2013년 12월</td>\n",
       "      <td>8,080</td>\n",
       "      <td>8080</td>\n",
       "      <td>2013</td>\n",
       "      <td>12</td>\n",
       "    </tr>\n",
       "    <tr>\n",
       "      <td>2</td>\n",
       "      <td>인천</td>\n",
       "      <td>2013년 12월</td>\n",
       "      <td>10,204</td>\n",
       "      <td>10204</td>\n",
       "      <td>2013</td>\n",
       "      <td>12</td>\n",
       "    </tr>\n",
       "    <tr>\n",
       "      <td>3</td>\n",
       "      <td>광주</td>\n",
       "      <td>2013년 12월</td>\n",
       "      <td>6,098</td>\n",
       "      <td>6098</td>\n",
       "      <td>2013</td>\n",
       "      <td>12</td>\n",
       "    </tr>\n",
       "    <tr>\n",
       "      <td>4</td>\n",
       "      <td>대전</td>\n",
       "      <td>2013년 12월</td>\n",
       "      <td>8,321</td>\n",
       "      <td>8321</td>\n",
       "      <td>2013</td>\n",
       "      <td>12</td>\n",
       "    </tr>\n",
       "  </tbody>\n",
       "</table>\n",
       "</div>"
      ],
      "text/plain": [
       "   지역         기간     분양가   분양가격    연도   월\n",
       "0  부산  2013년 12월   8,111   8111  2013  12\n",
       "1  대구  2013년 12월   8,080   8080  2013  12\n",
       "2  인천  2013년 12월  10,204  10204  2013  12\n",
       "3  광주  2013년 12월   6,098   6098  2013  12\n",
       "4  대전  2013년 12월   8,321   8321  2013  12"
      ]
     },
     "execution_count": 151,
     "metadata": {},
     "output_type": "execute_result"
    }
   ],
   "source": [
    "df_2013_2015.head()"
   ]
  },
  {
   "cell_type": "markdown",
   "metadata": {
    "colab_type": "text",
    "id": "5FbXb0BDKpC9"
   },
   "source": [
    "## 지역명 강원과 부산 정리"
   ]
  },
  {
   "cell_type": "code",
   "execution_count": 174,
   "metadata": {
    "colab": {},
    "colab_type": "code",
    "id": "6lyav9sBKpC-"
   },
   "outputs": [
    {
     "data": {
      "text/plain": [
       "           44\n",
       "서울         22\n",
       "경북         22\n",
       "충북         22\n",
       "전남         22\n",
       "광주         22\n",
       "제주         22\n",
       "인천         22\n",
       "세종         22\n",
       "지방강원       22\n",
       "대전         22\n",
       "6대광역시부산    22\n",
       "경남         22\n",
       "전국         22\n",
       "경기         22\n",
       "전북         22\n",
       "충남         22\n",
       "울산         22\n",
       "수도권        22\n",
       "대구         22\n",
       "Name: 지역, dtype: int64"
      ]
     },
     "execution_count": 174,
     "metadata": {},
     "output_type": "execute_result"
    }
   ],
   "source": [
    "df_2013_2015['지역'].value_counts()"
   ]
  },
  {
   "cell_type": "code",
   "execution_count": 175,
   "metadata": {
    "colab": {},
    "colab_type": "code",
    "id": "yOcBdfAbKpDB"
   },
   "outputs": [
    {
     "data": {
      "text/plain": [
       "       44\n",
       "서울     22\n",
       "경북     22\n",
       "부산     22\n",
       "전남     22\n",
       "광주     22\n",
       "제주     22\n",
       "인천     22\n",
       "세종     22\n",
       "대전     22\n",
       "경남     22\n",
       "전국     22\n",
       "경기     22\n",
       "전북     22\n",
       "충남     22\n",
       "충북     22\n",
       "강원     22\n",
       "울산     22\n",
       "수도권    22\n",
       "대구     22\n",
       "Name: 지역, dtype: int64"
      ]
     },
     "execution_count": 175,
     "metadata": {},
     "output_type": "execute_result"
    }
   ],
   "source": [
    "df_2013_2015['지역'] = df_2013_2015['지역'].apply(lambda x: re.sub('6대광역시부산','부산', x))\n",
    "df_2013_2015['지역'] = df_2013_2015['지역'].apply(lambda x: re.sub('지방강원','강원', x))\n",
    "df_2013_2015['지역'].value_counts()"
   ]
  },
  {
   "cell_type": "code",
   "execution_count": 176,
   "metadata": {
    "colab": {},
    "colab_type": "code",
    "id": "Iiicb2mi28kD"
   },
   "outputs": [
    {
     "name": "stdout",
     "output_type": "stream",
     "text": [
      "<class 'pandas.core.frame.DataFrame'>\n",
      "RangeIndex: 462 entries, 0 to 461\n",
      "Data columns (total 5 columns):\n",
      "지역     462 non-null object\n",
      "기간     462 non-null object\n",
      "분양가    462 non-null object\n",
      "연도     462 non-null object\n",
      "월      462 non-null object\n",
      "dtypes: object(5)\n",
      "memory usage: 18.2+ KB\n"
     ]
    }
   ],
   "source": [
    "df_2013_2015.info()"
   ]
  },
  {
   "cell_type": "code",
   "execution_count": 177,
   "metadata": {
    "colab": {},
    "colab_type": "code",
    "id": "F5IXwrEiKpDD"
   },
   "outputs": [
    {
     "data": {
      "text/html": [
       "<div>\n",
       "<style scoped>\n",
       "    .dataframe tbody tr th:only-of-type {\n",
       "        vertical-align: middle;\n",
       "    }\n",
       "\n",
       "    .dataframe tbody tr th {\n",
       "        vertical-align: top;\n",
       "    }\n",
       "\n",
       "    .dataframe thead th {\n",
       "        text-align: right;\n",
       "    }\n",
       "</style>\n",
       "<table border=\"1\" class=\"dataframe\">\n",
       "  <thead>\n",
       "    <tr style=\"text-align: right;\">\n",
       "      <th></th>\n",
       "      <th>지역</th>\n",
       "      <th>기간</th>\n",
       "      <th>분양가</th>\n",
       "      <th>연도</th>\n",
       "      <th>월</th>\n",
       "    </tr>\n",
       "  </thead>\n",
       "  <tbody>\n",
       "    <tr>\n",
       "      <td>count</td>\n",
       "      <td>462</td>\n",
       "      <td>462</td>\n",
       "      <td>462</td>\n",
       "      <td>462</td>\n",
       "      <td>462</td>\n",
       "    </tr>\n",
       "    <tr>\n",
       "      <td>unique</td>\n",
       "      <td>20</td>\n",
       "      <td>22</td>\n",
       "      <td>371</td>\n",
       "      <td>3</td>\n",
       "      <td>12</td>\n",
       "    </tr>\n",
       "    <tr>\n",
       "      <td>top</td>\n",
       "      <td></td>\n",
       "      <td>2015년 9월</td>\n",
       "      <td>8,067</td>\n",
       "      <td>2014</td>\n",
       "      <td>6</td>\n",
       "    </tr>\n",
       "    <tr>\n",
       "      <td>freq</td>\n",
       "      <td>44</td>\n",
       "      <td>21</td>\n",
       "      <td>7</td>\n",
       "      <td>252</td>\n",
       "      <td>42</td>\n",
       "    </tr>\n",
       "  </tbody>\n",
       "</table>\n",
       "</div>"
      ],
      "text/plain": [
       "         지역        기간    분양가    연도    월\n",
       "count   462       462    462   462  462\n",
       "unique   20        22    371     3   12\n",
       "top          2015년 9월  8,067  2014    6\n",
       "freq     44        21      7   252   42"
      ]
     },
     "execution_count": 177,
     "metadata": {},
     "output_type": "execute_result"
    }
   ],
   "source": [
    "df_2013_2015.describe()"
   ]
  },
  {
   "cell_type": "code",
   "execution_count": 178,
   "metadata": {
    "colab": {},
    "colab_type": "code",
    "id": "aV7cHCg2KpDF"
   },
   "outputs": [],
   "source": [
    "df_2013_2015['분양가격'] = df_2013_2015['분양가'].str.replace(',', '').astype(int)"
   ]
  },
  {
   "cell_type": "code",
   "execution_count": null,
   "metadata": {
    "colab": {},
    "colab_type": "code",
    "id": "az3RTFibKpDG"
   },
   "outputs": [],
   "source": [
    "(ggplot(df_2013_2015, aes(x='지역', y='분양가격', fill='연도'))\n",
    " + geom_boxplot()\n",
    " + theme(text=element_text(fontproperties=font),\n",
    "         figure_size=(12, 6))\n",
    ")"
   ]
  },
  {
   "cell_type": "code",
   "execution_count": null,
   "metadata": {
    "colab": {},
    "colab_type": "code",
    "id": "mIrR6HfLKpDJ"
   },
   "outputs": [],
   "source": [
    "(ggplot(df_2013_2015, aes(x='지역', y='분양가격', fill='연도'))\n",
    " + geom_bar(stat='identity', position='dodge')\n",
    " + theme(text=element_text(fontproperties=font),\n",
    "         figure_size=(12, 6))\n",
    ")"
   ]
  },
  {
   "cell_type": "code",
   "execution_count": 179,
   "metadata": {},
   "outputs": [
    {
     "data": {
      "text/html": [
       "<div>\n",
       "<style scoped>\n",
       "    .dataframe tbody tr th:only-of-type {\n",
       "        vertical-align: middle;\n",
       "    }\n",
       "\n",
       "    .dataframe tbody tr th {\n",
       "        vertical-align: top;\n",
       "    }\n",
       "\n",
       "    .dataframe thead th {\n",
       "        text-align: right;\n",
       "    }\n",
       "</style>\n",
       "<table border=\"1\" class=\"dataframe\">\n",
       "  <thead>\n",
       "    <tr style=\"text-align: right;\">\n",
       "      <th></th>\n",
       "      <th>지역</th>\n",
       "      <th>기간</th>\n",
       "      <th>분양가</th>\n",
       "      <th>연도</th>\n",
       "      <th>월</th>\n",
       "      <th>분양가격</th>\n",
       "    </tr>\n",
       "  </thead>\n",
       "  <tbody>\n",
       "    <tr>\n",
       "      <td>0</td>\n",
       "      <td>전국</td>\n",
       "      <td>2013년 12월</td>\n",
       "      <td>8,059</td>\n",
       "      <td>2013</td>\n",
       "      <td>12</td>\n",
       "      <td>8059</td>\n",
       "    </tr>\n",
       "    <tr>\n",
       "      <td>1</td>\n",
       "      <td>서울</td>\n",
       "      <td>2013년 12월</td>\n",
       "      <td>18,189</td>\n",
       "      <td>2013</td>\n",
       "      <td>12</td>\n",
       "      <td>18189</td>\n",
       "    </tr>\n",
       "    <tr>\n",
       "      <td>2</td>\n",
       "      <td>부산</td>\n",
       "      <td>2013년 12월</td>\n",
       "      <td>8,111</td>\n",
       "      <td>2013</td>\n",
       "      <td>12</td>\n",
       "      <td>8111</td>\n",
       "    </tr>\n",
       "    <tr>\n",
       "      <td>3</td>\n",
       "      <td>대구</td>\n",
       "      <td>2013년 12월</td>\n",
       "      <td>8,080</td>\n",
       "      <td>2013</td>\n",
       "      <td>12</td>\n",
       "      <td>8080</td>\n",
       "    </tr>\n",
       "    <tr>\n",
       "      <td>4</td>\n",
       "      <td>인천</td>\n",
       "      <td>2013년 12월</td>\n",
       "      <td>10,204</td>\n",
       "      <td>2013</td>\n",
       "      <td>12</td>\n",
       "      <td>10204</td>\n",
       "    </tr>\n",
       "  </tbody>\n",
       "</table>\n",
       "</div>"
      ],
      "text/plain": [
       "   지역         기간     분양가    연도   월   분양가격\n",
       "0  전국  2013년 12월   8,059  2013  12   8059\n",
       "1  서울  2013년 12월  18,189  2013  12  18189\n",
       "2  부산  2013년 12월   8,111  2013  12   8111\n",
       "3  대구  2013년 12월   8,080  2013  12   8080\n",
       "4  인천  2013년 12월  10,204  2013  12  10204"
      ]
     },
     "execution_count": 179,
     "metadata": {},
     "output_type": "execute_result"
    }
   ],
   "source": [
    "df_2013_2015.head()"
   ]
  },
  {
   "cell_type": "markdown",
   "metadata": {
    "colab_type": "text",
    "id": "HM8vHYxOKpDL"
   },
   "source": [
    "## 이제 2013년부터 2018년 6월까지 데이터를 합칠 준비가 됨"
   ]
  },
  {
   "cell_type": "code",
   "execution_count": 180,
   "metadata": {
    "colab": {},
    "colab_type": "code",
    "id": "jqMM0iRbKpDM"
   },
   "outputs": [
    {
     "name": "stdout",
     "output_type": "stream",
     "text": [
      "(561, 7)\n"
     ]
    },
    {
     "data": {
      "text/html": [
       "<div>\n",
       "<style scoped>\n",
       "    .dataframe tbody tr th:only-of-type {\n",
       "        vertical-align: middle;\n",
       "    }\n",
       "\n",
       "    .dataframe tbody tr th {\n",
       "        vertical-align: top;\n",
       "    }\n",
       "\n",
       "    .dataframe thead th {\n",
       "        text-align: right;\n",
       "    }\n",
       "</style>\n",
       "<table border=\"1\" class=\"dataframe\">\n",
       "  <thead>\n",
       "    <tr style=\"text-align: right;\">\n",
       "      <th></th>\n",
       "      <th>지역명</th>\n",
       "      <th>규모구분</th>\n",
       "      <th>연도</th>\n",
       "      <th>월</th>\n",
       "      <th>분양가격(㎡)</th>\n",
       "      <th>분양가격</th>\n",
       "      <th>평당분양가격</th>\n",
       "    </tr>\n",
       "  </thead>\n",
       "  <tbody>\n",
       "    <tr>\n",
       "      <td>0</td>\n",
       "      <td>서울</td>\n",
       "      <td>전체</td>\n",
       "      <td>2015</td>\n",
       "      <td>10</td>\n",
       "      <td>5841</td>\n",
       "      <td>5841.0</td>\n",
       "      <td>19275.3</td>\n",
       "    </tr>\n",
       "    <tr>\n",
       "      <td>5</td>\n",
       "      <td>인천</td>\n",
       "      <td>전체</td>\n",
       "      <td>2015</td>\n",
       "      <td>10</td>\n",
       "      <td>3163</td>\n",
       "      <td>3163.0</td>\n",
       "      <td>10437.9</td>\n",
       "    </tr>\n",
       "    <tr>\n",
       "      <td>10</td>\n",
       "      <td>경기</td>\n",
       "      <td>전체</td>\n",
       "      <td>2015</td>\n",
       "      <td>10</td>\n",
       "      <td>3138</td>\n",
       "      <td>3138.0</td>\n",
       "      <td>10355.4</td>\n",
       "    </tr>\n",
       "    <tr>\n",
       "      <td>15</td>\n",
       "      <td>부산</td>\n",
       "      <td>전체</td>\n",
       "      <td>2015</td>\n",
       "      <td>10</td>\n",
       "      <td>3112</td>\n",
       "      <td>3112.0</td>\n",
       "      <td>10269.6</td>\n",
       "    </tr>\n",
       "    <tr>\n",
       "      <td>20</td>\n",
       "      <td>대구</td>\n",
       "      <td>전체</td>\n",
       "      <td>2015</td>\n",
       "      <td>10</td>\n",
       "      <td>2682</td>\n",
       "      <td>2682.0</td>\n",
       "      <td>8850.6</td>\n",
       "    </tr>\n",
       "  </tbody>\n",
       "</table>\n",
       "</div>"
      ],
      "text/plain": [
       "   지역명 규모구분    연도   월 분양가격(㎡)    분양가격   평당분양가격\n",
       "0   서울   전체  2015  10    5841  5841.0  19275.3\n",
       "5   인천   전체  2015  10    3163  3163.0  10437.9\n",
       "10  경기   전체  2015  10    3138  3138.0  10355.4\n",
       "15  부산   전체  2015  10    3112  3112.0  10269.6\n",
       "20  대구   전체  2015  10    2682  2682.0   8850.6"
      ]
     },
     "execution_count": 180,
     "metadata": {},
     "output_type": "execute_result"
    }
   ],
   "source": [
    "df_2015_2018 = pre_sale.loc[pre_sale['규모구분'] == '전체']\n",
    "print(df_2015_2018.shape)\n",
    "df_2015_2018.head()"
   ]
  },
  {
   "cell_type": "code",
   "execution_count": 181,
   "metadata": {
    "colab": {},
    "colab_type": "code",
    "id": "4WktIN_c3Q67"
   },
   "outputs": [
    {
     "data": {
      "text/html": [
       "<div>\n",
       "<style scoped>\n",
       "    .dataframe tbody tr th:only-of-type {\n",
       "        vertical-align: middle;\n",
       "    }\n",
       "\n",
       "    .dataframe tbody tr th {\n",
       "        vertical-align: top;\n",
       "    }\n",
       "\n",
       "    .dataframe thead th {\n",
       "        text-align: right;\n",
       "    }\n",
       "</style>\n",
       "<table border=\"1\" class=\"dataframe\">\n",
       "  <thead>\n",
       "    <tr style=\"text-align: right;\">\n",
       "      <th></th>\n",
       "      <th>지역명</th>\n",
       "      <th>규모구분</th>\n",
       "      <th>연도</th>\n",
       "      <th>월</th>\n",
       "      <th>분양가격(㎡)</th>\n",
       "      <th>분양가격</th>\n",
       "      <th>평당분양가격</th>\n",
       "    </tr>\n",
       "  </thead>\n",
       "  <tbody>\n",
       "    <tr>\n",
       "      <td>2780</td>\n",
       "      <td>전북</td>\n",
       "      <td>전체</td>\n",
       "      <td>2018</td>\n",
       "      <td>6</td>\n",
       "      <td>2326</td>\n",
       "      <td>2326.0</td>\n",
       "      <td>7675.8</td>\n",
       "    </tr>\n",
       "    <tr>\n",
       "      <td>2785</td>\n",
       "      <td>전남</td>\n",
       "      <td>전체</td>\n",
       "      <td>2018</td>\n",
       "      <td>6</td>\n",
       "      <td>2356</td>\n",
       "      <td>2356.0</td>\n",
       "      <td>7774.8</td>\n",
       "    </tr>\n",
       "    <tr>\n",
       "      <td>2790</td>\n",
       "      <td>경북</td>\n",
       "      <td>전체</td>\n",
       "      <td>2018</td>\n",
       "      <td>6</td>\n",
       "      <td>2631</td>\n",
       "      <td>2631.0</td>\n",
       "      <td>8682.3</td>\n",
       "    </tr>\n",
       "    <tr>\n",
       "      <td>2795</td>\n",
       "      <td>경남</td>\n",
       "      <td>전체</td>\n",
       "      <td>2018</td>\n",
       "      <td>6</td>\n",
       "      <td>2695</td>\n",
       "      <td>2695.0</td>\n",
       "      <td>8893.5</td>\n",
       "    </tr>\n",
       "    <tr>\n",
       "      <td>2800</td>\n",
       "      <td>제주</td>\n",
       "      <td>전체</td>\n",
       "      <td>2018</td>\n",
       "      <td>6</td>\n",
       "      <td>3925</td>\n",
       "      <td>3925.0</td>\n",
       "      <td>12952.5</td>\n",
       "    </tr>\n",
       "  </tbody>\n",
       "</table>\n",
       "</div>"
      ],
      "text/plain": [
       "     지역명 규모구분    연도  월 분양가격(㎡)    분양가격   평당분양가격\n",
       "2780  전북   전체  2018  6    2326  2326.0   7675.8\n",
       "2785  전남   전체  2018  6    2356  2356.0   7774.8\n",
       "2790  경북   전체  2018  6    2631  2631.0   8682.3\n",
       "2795  경남   전체  2018  6    2695  2695.0   8893.5\n",
       "2800  제주   전체  2018  6    3925  3925.0  12952.5"
      ]
     },
     "execution_count": 181,
     "metadata": {},
     "output_type": "execute_result"
    }
   ],
   "source": [
    "df_2015_2018.tail()"
   ]
  },
  {
   "cell_type": "code",
   "execution_count": 182,
   "metadata": {
    "colab": {},
    "colab_type": "code",
    "id": "avyyyrYdKpDP"
   },
   "outputs": [
    {
     "data": {
      "text/plain": [
       "Index(['지역', '기간', '분양가', '연도', '월', '분양가격'], dtype='object')"
      ]
     },
     "execution_count": 182,
     "metadata": {},
     "output_type": "execute_result"
    }
   ],
   "source": [
    "df_2013_2015.columns"
   ]
  },
  {
   "cell_type": "code",
   "execution_count": 183,
   "metadata": {
    "colab": {},
    "colab_type": "code",
    "id": "BwZa6LQAKpDS"
   },
   "outputs": [
    {
     "data": {
      "text/html": [
       "<div>\n",
       "<style scoped>\n",
       "    .dataframe tbody tr th:only-of-type {\n",
       "        vertical-align: middle;\n",
       "    }\n",
       "\n",
       "    .dataframe tbody tr th {\n",
       "        vertical-align: top;\n",
       "    }\n",
       "\n",
       "    .dataframe thead th {\n",
       "        text-align: right;\n",
       "    }\n",
       "</style>\n",
       "<table border=\"1\" class=\"dataframe\">\n",
       "  <thead>\n",
       "    <tr style=\"text-align: right;\">\n",
       "      <th></th>\n",
       "      <th>지역</th>\n",
       "      <th>연도</th>\n",
       "      <th>월</th>\n",
       "      <th>분양가격</th>\n",
       "    </tr>\n",
       "  </thead>\n",
       "  <tbody>\n",
       "    <tr>\n",
       "      <td>0</td>\n",
       "      <td>전국</td>\n",
       "      <td>2013</td>\n",
       "      <td>12</td>\n",
       "      <td>8059</td>\n",
       "    </tr>\n",
       "    <tr>\n",
       "      <td>1</td>\n",
       "      <td>서울</td>\n",
       "      <td>2013</td>\n",
       "      <td>12</td>\n",
       "      <td>18189</td>\n",
       "    </tr>\n",
       "    <tr>\n",
       "      <td>2</td>\n",
       "      <td>부산</td>\n",
       "      <td>2013</td>\n",
       "      <td>12</td>\n",
       "      <td>8111</td>\n",
       "    </tr>\n",
       "    <tr>\n",
       "      <td>3</td>\n",
       "      <td>대구</td>\n",
       "      <td>2013</td>\n",
       "      <td>12</td>\n",
       "      <td>8080</td>\n",
       "    </tr>\n",
       "    <tr>\n",
       "      <td>4</td>\n",
       "      <td>인천</td>\n",
       "      <td>2013</td>\n",
       "      <td>12</td>\n",
       "      <td>10204</td>\n",
       "    </tr>\n",
       "  </tbody>\n",
       "</table>\n",
       "</div>"
      ],
      "text/plain": [
       "   지역    연도   월   분양가격\n",
       "0  전국  2013  12   8059\n",
       "1  서울  2013  12  18189\n",
       "2  부산  2013  12   8111\n",
       "3  대구  2013  12   8080\n",
       "4  인천  2013  12  10204"
      ]
     },
     "execution_count": 183,
     "metadata": {},
     "output_type": "execute_result"
    }
   ],
   "source": [
    "df_2013_2015_prepare = df_2013_2015[['지역', '연도', '월', '분양가격']]\n",
    "df_2013_2015_prepare.head()"
   ]
  },
  {
   "cell_type": "code",
   "execution_count": 184,
   "metadata": {
    "colab": {},
    "colab_type": "code",
    "id": "D9gm2WJXKpDU"
   },
   "outputs": [],
   "source": [
    "df_2013_2015_prepare.columns = ['지역명', '연도', '월', '평당분양가격']"
   ]
  },
  {
   "cell_type": "code",
   "execution_count": 185,
   "metadata": {
    "colab": {},
    "colab_type": "code",
    "id": "aMKb9jEvKpDW"
   },
   "outputs": [
    {
     "data": {
      "text/plain": [
       "Index(['지역명', '규모구분', '연도', '월', '분양가격(㎡)', '분양가격', '평당분양가격'], dtype='object')"
      ]
     },
     "execution_count": 185,
     "metadata": {},
     "output_type": "execute_result"
    }
   ],
   "source": [
    "df_2015_2018.columns"
   ]
  },
  {
   "cell_type": "code",
   "execution_count": 186,
   "metadata": {
    "colab": {},
    "colab_type": "code",
    "id": "c1e3qz8TKpDX"
   },
   "outputs": [
    {
     "data": {
      "text/html": [
       "<div>\n",
       "<style scoped>\n",
       "    .dataframe tbody tr th:only-of-type {\n",
       "        vertical-align: middle;\n",
       "    }\n",
       "\n",
       "    .dataframe tbody tr th {\n",
       "        vertical-align: top;\n",
       "    }\n",
       "\n",
       "    .dataframe thead th {\n",
       "        text-align: right;\n",
       "    }\n",
       "</style>\n",
       "<table border=\"1\" class=\"dataframe\">\n",
       "  <thead>\n",
       "    <tr style=\"text-align: right;\">\n",
       "      <th></th>\n",
       "      <th>지역명</th>\n",
       "      <th>연도</th>\n",
       "      <th>월</th>\n",
       "      <th>평당분양가격</th>\n",
       "    </tr>\n",
       "  </thead>\n",
       "  <tbody>\n",
       "    <tr>\n",
       "      <td>0</td>\n",
       "      <td>서울</td>\n",
       "      <td>2015</td>\n",
       "      <td>10</td>\n",
       "      <td>19275.3</td>\n",
       "    </tr>\n",
       "    <tr>\n",
       "      <td>5</td>\n",
       "      <td>인천</td>\n",
       "      <td>2015</td>\n",
       "      <td>10</td>\n",
       "      <td>10437.9</td>\n",
       "    </tr>\n",
       "    <tr>\n",
       "      <td>10</td>\n",
       "      <td>경기</td>\n",
       "      <td>2015</td>\n",
       "      <td>10</td>\n",
       "      <td>10355.4</td>\n",
       "    </tr>\n",
       "    <tr>\n",
       "      <td>15</td>\n",
       "      <td>부산</td>\n",
       "      <td>2015</td>\n",
       "      <td>10</td>\n",
       "      <td>10269.6</td>\n",
       "    </tr>\n",
       "    <tr>\n",
       "      <td>20</td>\n",
       "      <td>대구</td>\n",
       "      <td>2015</td>\n",
       "      <td>10</td>\n",
       "      <td>8850.6</td>\n",
       "    </tr>\n",
       "  </tbody>\n",
       "</table>\n",
       "</div>"
      ],
      "text/plain": [
       "   지역명    연도   월   평당분양가격\n",
       "0   서울  2015  10  19275.3\n",
       "5   인천  2015  10  10437.9\n",
       "10  경기  2015  10  10355.4\n",
       "15  부산  2015  10  10269.6\n",
       "20  대구  2015  10   8850.6"
      ]
     },
     "execution_count": 186,
     "metadata": {},
     "output_type": "execute_result"
    }
   ],
   "source": [
    "df_2015_2018_prepare = df_2015_2018[['지역명', '연도', '월', '평당분양가격']]\n",
    "df_2015_2018_prepare.head()"
   ]
  },
  {
   "cell_type": "code",
   "execution_count": 187,
   "metadata": {
    "colab": {},
    "colab_type": "code",
    "id": "mAiI7LypKpDf"
   },
   "outputs": [
    {
     "data": {
      "text/html": [
       "<div>\n",
       "<style scoped>\n",
       "    .dataframe tbody tr th:only-of-type {\n",
       "        vertical-align: middle;\n",
       "    }\n",
       "\n",
       "    .dataframe tbody tr th {\n",
       "        vertical-align: top;\n",
       "    }\n",
       "\n",
       "    .dataframe thead th {\n",
       "        text-align: right;\n",
       "    }\n",
       "</style>\n",
       "<table border=\"1\" class=\"dataframe\">\n",
       "  <thead>\n",
       "    <tr style=\"text-align: right;\">\n",
       "      <th></th>\n",
       "      <th>평당분양가격</th>\n",
       "    </tr>\n",
       "  </thead>\n",
       "  <tbody>\n",
       "    <tr>\n",
       "      <td>count</td>\n",
       "      <td>544.000000</td>\n",
       "    </tr>\n",
       "    <tr>\n",
       "      <td>mean</td>\n",
       "      <td>9702.236581</td>\n",
       "    </tr>\n",
       "    <tr>\n",
       "      <td>std</td>\n",
       "      <td>3361.038509</td>\n",
       "    </tr>\n",
       "    <tr>\n",
       "      <td>min</td>\n",
       "      <td>6299.700000</td>\n",
       "    </tr>\n",
       "    <tr>\n",
       "      <td>25%</td>\n",
       "      <td>7484.400000</td>\n",
       "    </tr>\n",
       "    <tr>\n",
       "      <td>50%</td>\n",
       "      <td>8928.150000</td>\n",
       "    </tr>\n",
       "    <tr>\n",
       "      <td>75%</td>\n",
       "      <td>10554.225000</td>\n",
       "    </tr>\n",
       "    <tr>\n",
       "      <td>max</td>\n",
       "      <td>22832.700000</td>\n",
       "    </tr>\n",
       "  </tbody>\n",
       "</table>\n",
       "</div>"
      ],
      "text/plain": [
       "             평당분양가격\n",
       "count    544.000000\n",
       "mean    9702.236581\n",
       "std     3361.038509\n",
       "min     6299.700000\n",
       "25%     7484.400000\n",
       "50%     8928.150000\n",
       "75%    10554.225000\n",
       "max    22832.700000"
      ]
     },
     "execution_count": 187,
     "metadata": {},
     "output_type": "execute_result"
    }
   ],
   "source": [
    "df_2015_2018_prepare.describe()"
   ]
  },
  {
   "cell_type": "code",
   "execution_count": 188,
   "metadata": {
    "colab": {},
    "colab_type": "code",
    "id": "iZ_KTIoYKpDo"
   },
   "outputs": [
    {
     "data": {
      "text/plain": [
       "(1023, 4)"
      ]
     },
     "execution_count": 188,
     "metadata": {},
     "output_type": "execute_result"
    }
   ],
   "source": [
    "df_2013_2018 = pd.concat([df_2013_2015_prepare, df_2015_2018_prepare])\n",
    "df_2013_2018.shape"
   ]
  },
  {
   "cell_type": "code",
   "execution_count": 189,
   "metadata": {
    "colab": {},
    "colab_type": "code",
    "id": "E3dWolmBKpDs"
   },
   "outputs": [
    {
     "data": {
      "text/html": [
       "<div>\n",
       "<style scoped>\n",
       "    .dataframe tbody tr th:only-of-type {\n",
       "        vertical-align: middle;\n",
       "    }\n",
       "\n",
       "    .dataframe tbody tr th {\n",
       "        vertical-align: top;\n",
       "    }\n",
       "\n",
       "    .dataframe thead th {\n",
       "        text-align: right;\n",
       "    }\n",
       "</style>\n",
       "<table border=\"1\" class=\"dataframe\">\n",
       "  <thead>\n",
       "    <tr style=\"text-align: right;\">\n",
       "      <th></th>\n",
       "      <th>지역명</th>\n",
       "      <th>연도</th>\n",
       "      <th>월</th>\n",
       "      <th>평당분양가격</th>\n",
       "    </tr>\n",
       "  </thead>\n",
       "  <tbody>\n",
       "    <tr>\n",
       "      <td>0</td>\n",
       "      <td>전국</td>\n",
       "      <td>2013</td>\n",
       "      <td>12</td>\n",
       "      <td>8059.0</td>\n",
       "    </tr>\n",
       "    <tr>\n",
       "      <td>1</td>\n",
       "      <td>서울</td>\n",
       "      <td>2013</td>\n",
       "      <td>12</td>\n",
       "      <td>18189.0</td>\n",
       "    </tr>\n",
       "    <tr>\n",
       "      <td>2</td>\n",
       "      <td>부산</td>\n",
       "      <td>2013</td>\n",
       "      <td>12</td>\n",
       "      <td>8111.0</td>\n",
       "    </tr>\n",
       "    <tr>\n",
       "      <td>3</td>\n",
       "      <td>대구</td>\n",
       "      <td>2013</td>\n",
       "      <td>12</td>\n",
       "      <td>8080.0</td>\n",
       "    </tr>\n",
       "    <tr>\n",
       "      <td>4</td>\n",
       "      <td>인천</td>\n",
       "      <td>2013</td>\n",
       "      <td>12</td>\n",
       "      <td>10204.0</td>\n",
       "    </tr>\n",
       "  </tbody>\n",
       "</table>\n",
       "</div>"
      ],
      "text/plain": [
       "  지역명    연도   월   평당분양가격\n",
       "0  전국  2013  12   8059.0\n",
       "1  서울  2013  12  18189.0\n",
       "2  부산  2013  12   8111.0\n",
       "3  대구  2013  12   8080.0\n",
       "4  인천  2013  12  10204.0"
      ]
     },
     "execution_count": 189,
     "metadata": {},
     "output_type": "execute_result"
    }
   ],
   "source": [
    "df_2013_2018.head()"
   ]
  },
  {
   "cell_type": "code",
   "execution_count": 190,
   "metadata": {
    "colab": {},
    "colab_type": "code",
    "id": "oDulRGZOKpDu"
   },
   "outputs": [
    {
     "data": {
      "text/html": [
       "<div>\n",
       "<style scoped>\n",
       "    .dataframe tbody tr th:only-of-type {\n",
       "        vertical-align: middle;\n",
       "    }\n",
       "\n",
       "    .dataframe tbody tr th {\n",
       "        vertical-align: top;\n",
       "    }\n",
       "\n",
       "    .dataframe thead th {\n",
       "        text-align: right;\n",
       "    }\n",
       "</style>\n",
       "<table border=\"1\" class=\"dataframe\">\n",
       "  <thead>\n",
       "    <tr style=\"text-align: right;\">\n",
       "      <th></th>\n",
       "      <th>지역명</th>\n",
       "      <th>연도</th>\n",
       "      <th>월</th>\n",
       "      <th>평당분양가격</th>\n",
       "    </tr>\n",
       "  </thead>\n",
       "  <tbody>\n",
       "    <tr>\n",
       "      <td>2780</td>\n",
       "      <td>전북</td>\n",
       "      <td>2018</td>\n",
       "      <td>6</td>\n",
       "      <td>7675.8</td>\n",
       "    </tr>\n",
       "    <tr>\n",
       "      <td>2785</td>\n",
       "      <td>전남</td>\n",
       "      <td>2018</td>\n",
       "      <td>6</td>\n",
       "      <td>7774.8</td>\n",
       "    </tr>\n",
       "    <tr>\n",
       "      <td>2790</td>\n",
       "      <td>경북</td>\n",
       "      <td>2018</td>\n",
       "      <td>6</td>\n",
       "      <td>8682.3</td>\n",
       "    </tr>\n",
       "    <tr>\n",
       "      <td>2795</td>\n",
       "      <td>경남</td>\n",
       "      <td>2018</td>\n",
       "      <td>6</td>\n",
       "      <td>8893.5</td>\n",
       "    </tr>\n",
       "    <tr>\n",
       "      <td>2800</td>\n",
       "      <td>제주</td>\n",
       "      <td>2018</td>\n",
       "      <td>6</td>\n",
       "      <td>12952.5</td>\n",
       "    </tr>\n",
       "  </tbody>\n",
       "</table>\n",
       "</div>"
      ],
      "text/plain": [
       "     지역명    연도  월   평당분양가격\n",
       "2780  전북  2018  6   7675.8\n",
       "2785  전남  2018  6   7774.8\n",
       "2790  경북  2018  6   8682.3\n",
       "2795  경남  2018  6   8893.5\n",
       "2800  제주  2018  6  12952.5"
      ]
     },
     "execution_count": 190,
     "metadata": {},
     "output_type": "execute_result"
    }
   ],
   "source": [
    "df_2013_2018.tail()"
   ]
  },
  {
   "cell_type": "code",
   "execution_count": 191,
   "metadata": {
    "colab": {},
    "colab_type": "code",
    "id": "VkaRpdTIKpDw"
   },
   "outputs": [
    {
     "data": {
      "text/plain": [
       "array(['전국', '서울', '부산', '대구', '인천', '광주', '대전', '울산', '', '경기', '수도권',\n",
       "       '세종', '강원', '충북', '충남', '전북', '전남', '경북', '경남', '제주'], dtype=object)"
      ]
     },
     "execution_count": 191,
     "metadata": {},
     "output_type": "execute_result"
    }
   ],
   "source": [
    "df_2013_2015_region= df_2013_2015_prepare['지역명'].unique()\n",
    "df_2013_2015_region"
   ]
  },
  {
   "cell_type": "code",
   "execution_count": 192,
   "metadata": {
    "colab": {},
    "colab_type": "code",
    "id": "pth5BeUYKpDx"
   },
   "outputs": [
    {
     "data": {
      "text/plain": [
       "array(['서울', '인천', '경기', '부산', '대구', '광주', '대전', '울산', '세종', '강원', '충북',\n",
       "       '충남', '전북', '전남', '경북', '경남', '제주'], dtype=object)"
      ]
     },
     "execution_count": 192,
     "metadata": {},
     "output_type": "execute_result"
    }
   ],
   "source": [
    "df_2015_2018_region = df_2015_2018_prepare['지역명'].unique()\n",
    "df_2015_2018_region"
   ]
  },
  {
   "cell_type": "code",
   "execution_count": 193,
   "metadata": {
    "colab": {},
    "colab_type": "code",
    "id": "RWGgW31iKpD0"
   },
   "outputs": [
    {
     "data": {
      "text/plain": [
       "['전국', '', '수도권']"
      ]
     },
     "execution_count": 193,
     "metadata": {},
     "output_type": "execute_result"
    }
   ],
   "source": [
    "exclude_region = [region for region in df_2013_2015_region if not region in df_2015_2018_region] \n",
    "exclude_region"
   ]
  },
  {
   "cell_type": "code",
   "execution_count": 194,
   "metadata": {
    "colab": {},
    "colab_type": "code",
    "id": "_yDW133EKpD3"
   },
   "outputs": [
    {
     "data": {
      "text/plain": [
       "(1023, 4)"
      ]
     },
     "execution_count": 194,
     "metadata": {},
     "output_type": "execute_result"
    }
   ],
   "source": [
    "df_2013_2018.shape"
   ]
  },
  {
   "cell_type": "code",
   "execution_count": 195,
   "metadata": {
    "colab": {},
    "colab_type": "code",
    "id": "ykuKg0uDKpD5"
   },
   "outputs": [
    {
     "data": {
      "text/html": [
       "<div>\n",
       "<style scoped>\n",
       "    .dataframe tbody tr th:only-of-type {\n",
       "        vertical-align: middle;\n",
       "    }\n",
       "\n",
       "    .dataframe tbody tr th {\n",
       "        vertical-align: top;\n",
       "    }\n",
       "\n",
       "    .dataframe thead th {\n",
       "        text-align: right;\n",
       "    }\n",
       "</style>\n",
       "<table border=\"1\" class=\"dataframe\">\n",
       "  <thead>\n",
       "    <tr style=\"text-align: right;\">\n",
       "      <th></th>\n",
       "      <th>지역명</th>\n",
       "      <th>연도</th>\n",
       "      <th>월</th>\n",
       "      <th>평당분양가격</th>\n",
       "    </tr>\n",
       "  </thead>\n",
       "  <tbody>\n",
       "    <tr>\n",
       "      <td>0</td>\n",
       "      <td>전국</td>\n",
       "      <td>2013</td>\n",
       "      <td>12</td>\n",
       "      <td>8059.0</td>\n",
       "    </tr>\n",
       "    <tr>\n",
       "      <td>10</td>\n",
       "      <td>수도권</td>\n",
       "      <td>2013</td>\n",
       "      <td>12</td>\n",
       "      <td>13083.0</td>\n",
       "    </tr>\n",
       "    <tr>\n",
       "      <td>21</td>\n",
       "      <td>전국</td>\n",
       "      <td>2014</td>\n",
       "      <td>1</td>\n",
       "      <td>8130.0</td>\n",
       "    </tr>\n",
       "    <tr>\n",
       "      <td>31</td>\n",
       "      <td>수도권</td>\n",
       "      <td>2014</td>\n",
       "      <td>1</td>\n",
       "      <td>12995.0</td>\n",
       "    </tr>\n",
       "    <tr>\n",
       "      <td>42</td>\n",
       "      <td>전국</td>\n",
       "      <td>2014</td>\n",
       "      <td>2</td>\n",
       "      <td>8195.0</td>\n",
       "    </tr>\n",
       "  </tbody>\n",
       "</table>\n",
       "</div>"
      ],
      "text/plain": [
       "    지역명    연도   월   평당분양가격\n",
       "0    전국  2013  12   8059.0\n",
       "10  수도권  2013  12  13083.0\n",
       "21   전국  2014   1   8130.0\n",
       "31  수도권  2014   1  12995.0\n",
       "42   전국  2014   2   8195.0"
      ]
     },
     "execution_count": 195,
     "metadata": {},
     "output_type": "execute_result"
    }
   ],
   "source": [
    "df_2013_2018.loc[df_2013_2018['지역명'].str.match('전국|수도권')].head()"
   ]
  },
  {
   "cell_type": "code",
   "execution_count": 196,
   "metadata": {
    "colab": {},
    "colab_type": "code",
    "id": "_cJ4Y1MAKpD6"
   },
   "outputs": [],
   "source": [
    "df_2013_2018.drop(df_2013_2018.loc[df_2013_2018['지역명'].str.match('전국|수도권')].index, axis=0, inplace=True)\n",
    "df_2013_2018.drop(df_2013_2018.loc[df_2013_2018['지역명'] == ''].index, axis=0, inplace=True)"
   ]
  },
  {
   "cell_type": "code",
   "execution_count": 197,
   "metadata": {
    "colab": {},
    "colab_type": "code",
    "id": "kKNmGesAKpD9"
   },
   "outputs": [
    {
     "data": {
      "image/png": "[encoded data removed]",
      "text/plain": [
       "<Figure size 640x480 with 1 Axes>"
      ]
     },
     "metadata": {
      "image/png": {
       "height": 428,
       "width": 578
      }
     },
     "output_type": "display_data"
    },
    {
     "data": {
      "text/plain": [
       "<ggplot: (8772008390229)>"
      ]
     },
     "execution_count": 197,
     "metadata": {},
     "output_type": "execute_result"
    }
   ],
   "source": [
    "(ggplot(df_2013_2018, aes(x='연도', y='평당분양가격'))\n",
    " + geom_bar(stat='identity', position='dodge')\n",
    " + theme(text=element_text(fontproperties=font))\n",
    ")"
   ]
  },
  {
   "cell_type": "code",
   "execution_count": null,
   "metadata": {
    "colab": {},
    "colab_type": "code",
    "id": "3TelRB-EKpEA"
   },
   "outputs": [],
   "source": [
    "(ggplot(df_2013_2018, aes(x='지역명', y='평당분양가격', fill='연도'))\n",
    " + geom_bar(stat='identity', position='dodge')\n",
    " + theme(text=element_text(fontproperties=font),\n",
    "         figure_size=(12, 6))\n",
    ")"
   ]
  },
  {
   "cell_type": "code",
   "execution_count": null,
   "metadata": {
    "colab": {},
    "colab_type": "code",
    "id": "W8NDW3ekKpEF"
   },
   "outputs": [],
   "source": [
    "(ggplot(df_2013_2018)\n",
    " + aes(x='연도', y='평당분양가격')\n",
    " + geom_boxplot()\n",
    " + theme(text=element_text(fontproperties=font))\n",
    ")"
   ]
  },
  {
   "cell_type": "code",
   "execution_count": null,
   "metadata": {
    "colab": {},
    "colab_type": "code",
    "id": "an4ntRIdKpEH"
   },
   "outputs": [],
   "source": [
    "df_2013_2018_jeju = df_2013_2018.loc[df_2013_2018['지역명'] == '제주']\n",
    "(ggplot(df_2013_2018_jeju)\n",
    " + aes(x='연도', y='평당분양가격')\n",
    " + geom_boxplot()\n",
    " + theme(text=element_text(fontproperties=font))\n",
    ")"
   ]
  },
  {
   "cell_type": "code",
   "execution_count": null,
   "metadata": {
    "colab": {},
    "colab_type": "code",
    "id": "of4dPSSPKpEK"
   },
   "outputs": [],
   "source": [
    "(ggplot(df_2013_2018)\n",
    " + aes(x='연도', y='평당분양가격')\n",
    " + geom_boxplot()\n",
    " + facet_wrap('지역명')\n",
    " + theme(text=element_text(fontproperties=font),\n",
    "         axis_text_x=element_text(rotation=70),\n",
    "         figure_size=(12, 12))\n",
    ")"
   ]
  },
  {
   "cell_type": "code",
   "execution_count": null,
   "metadata": {
    "colab": {},
    "colab_type": "code",
    "id": "6mS5PHHbKpEO"
   },
   "outputs": [],
   "source": []
  }
 ],
 "metadata": {
  "colab": {
   "collapsed_sections": [],
   "name": "01 전국 신규 민간 아파트 분양가격 동향",
   "provenance": []
  },
  "kernelspec": {
   "display_name": "Python 3",
   "language": "python",
   "name": "python3"
  },
  "language_info": {
   "codemirror_mode": {
    "name": "ipython",
    "version": 3
   },
   "file_extension": ".py",
   "mimetype": "text/x-python",
   "name": "python",
   "nbconvert_exporter": "python",
   "pygments_lexer": "ipython3",
   "version": "3.7.4"
  }
 },
 "nbformat": 4,
 "nbformat_minor": 4
}
