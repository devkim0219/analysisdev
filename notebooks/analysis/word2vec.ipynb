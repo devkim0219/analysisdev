{
 "cells": [
  {
   "cell_type": "markdown",
   "metadata": {},
   "source": [
    "### 특정 키워드로 word2Vec 단어 유사도 보기"
   ]
  },
  {
   "cell_type": "code",
   "execution_count": 1,
   "metadata": {},
   "outputs": [
    {
     "name": "stdout",
     "output_type": "stream",
     "text": [
      "Name: gensim\n",
      "Version: 3.8.0\n",
      "Summary: Python framework for fast Vector Space Modelling\n",
      "Home-page: http://radimrehurek.com/gensim\n",
      "Author: Radim Rehurek\n",
      "Author-email: me@radimrehurek.com\n",
      "License: LGPLv2.1\n",
      "Location: /opt/conda/lib/python3.7/site-packages\n",
      "Requires: smart-open, six, scipy, numpy\n",
      "Required-by: \n"
     ]
    }
   ],
   "source": [
    "# !pip show gensim"
   ]
  },
  {
   "cell_type": "code",
   "execution_count": 2,
   "metadata": {},
   "outputs": [],
   "source": [
    "import warnings\n",
    "warnings.filterwarnings('ignore')"
   ]
  },
  {
   "cell_type": "code",
   "execution_count": 3,
   "metadata": {},
   "outputs": [],
   "source": [
    "import pandas as pd\n",
    "import numpy as np\n",
    "import re"
   ]
  },
  {
   "cell_type": "code",
   "execution_count": 4,
   "metadata": {},
   "outputs": [],
   "source": [
    "df = pd.read_csv('./data/petition.csv', parse_dates=['start', 'end'])"
   ]
  },
  {
   "cell_type": "code",
   "execution_count": 6,
   "metadata": {},
   "outputs": [
    {
     "data": {
      "text/plain": [
       "(20619, 8)"
      ]
     },
     "execution_count": 6,
     "metadata": {},
     "output_type": "execute_result"
    }
   ],
   "source": [
    "p = r'.*(P2P|은행|금융|주식|증권|공매도).*'\n",
    "finance = df[df['title'].str.match(p) | df['content'].str.match(p, flags=re.MULTILINE)]\n",
    "finance.shape"
   ]
  },
  {
   "cell_type": "code",
   "execution_count": 7,
   "metadata": {},
   "outputs": [
    {
     "data": {
      "text/html": [
       "<div>\n",
       "<style scoped>\n",
       "    .dataframe tbody tr th:only-of-type {\n",
       "        vertical-align: middle;\n",
       "    }\n",
       "\n",
       "    .dataframe tbody tr th {\n",
       "        vertical-align: top;\n",
       "    }\n",
       "\n",
       "    .dataframe thead th {\n",
       "        text-align: right;\n",
       "    }\n",
       "</style>\n",
       "<table border=\"1\" class=\"dataframe\">\n",
       "  <thead>\n",
       "    <tr style=\"text-align: right;\">\n",
       "      <th></th>\n",
       "      <th>article_id</th>\n",
       "      <th>start</th>\n",
       "      <th>end</th>\n",
       "      <th>answered</th>\n",
       "      <th>votes</th>\n",
       "      <th>category</th>\n",
       "      <th>title</th>\n",
       "      <th>content</th>\n",
       "    </tr>\n",
       "  </thead>\n",
       "  <tbody>\n",
       "    <tr>\n",
       "      <td>7</td>\n",
       "      <td>28</td>\n",
       "      <td>2017-08-19</td>\n",
       "      <td>2017-08-26</td>\n",
       "      <td>0</td>\n",
       "      <td>2137</td>\n",
       "      <td>경제민주화</td>\n",
       "      <td>소액주주를 보호해주십시오</td>\n",
       "      <td>**  존경하옵는 문재인대통령님께\\n저는 중국원양자원이라는 KOSPI상장사의 소액 ...</td>\n",
       "    </tr>\n",
       "    <tr>\n",
       "      <td>11</td>\n",
       "      <td>32</td>\n",
       "      <td>2017-08-19</td>\n",
       "      <td>2017-09-03</td>\n",
       "      <td>0</td>\n",
       "      <td>30</td>\n",
       "      <td>경제민주화</td>\n",
       "      <td>소액주주 보호를 위해 조사요청 드립니다.</td>\n",
       "      <td>존경하는 대통령님께,\\n코스피 주식종목 중국 원양자원은 현재 계속되는 장** 대표이...</td>\n",
       "    </tr>\n",
       "    <tr>\n",
       "      <td>54</td>\n",
       "      <td>77</td>\n",
       "      <td>2017-08-20</td>\n",
       "      <td>2017-09-04</td>\n",
       "      <td>0</td>\n",
       "      <td>53</td>\n",
       "      <td>교통/건축/국토</td>\n",
       "      <td>안양시청, 안양지청, 재개발조합 적폐가 심해 수사가 안되고 있습니다. 안양시 지장물...</td>\n",
       "      <td>※지장물관련 국토부의 해석 : 기존 건축물의 철거 공사에 관한 사항의 범위는 전기,...</td>\n",
       "    </tr>\n",
       "    <tr>\n",
       "      <td>68</td>\n",
       "      <td>91</td>\n",
       "      <td>2017-08-20</td>\n",
       "      <td>2017-09-19</td>\n",
       "      <td>0</td>\n",
       "      <td>165</td>\n",
       "      <td>경제민주화</td>\n",
       "      <td>증권 자본시장개정안(상장폐지법 개정안)</td>\n",
       "      <td>존경하는 문제인 대통령님께\\n먼저 어렵고 힘든 국정운영을 이끄시느라 노고가 많으십니...</td>\n",
       "    </tr>\n",
       "    <tr>\n",
       "      <td>100</td>\n",
       "      <td>124</td>\n",
       "      <td>2017-08-20</td>\n",
       "      <td>2017-08-27</td>\n",
       "      <td>0</td>\n",
       "      <td>1</td>\n",
       "      <td>기타</td>\n",
       "      <td>포스코 관련</td>\n",
       "      <td>안녕하십니까?\\n최근 뉴스에 주목을 못 받는 뉴스가 있습니다. 아시아경제tv의 포스...</td>\n",
       "    </tr>\n",
       "  </tbody>\n",
       "</table>\n",
       "</div>"
      ],
      "text/plain": [
       "     article_id      start        end  answered  votes  category  \\\n",
       "7            28 2017-08-19 2017-08-26         0   2137     경제민주화   \n",
       "11           32 2017-08-19 2017-09-03         0     30     경제민주화   \n",
       "54           77 2017-08-20 2017-09-04         0     53  교통/건축/국토   \n",
       "68           91 2017-08-20 2017-09-19         0    165     경제민주화   \n",
       "100         124 2017-08-20 2017-08-27         0      1        기타   \n",
       "\n",
       "                                                 title  \\\n",
       "7                                        소액주주를 보호해주십시오   \n",
       "11                              소액주주 보호를 위해 조사요청 드립니다.   \n",
       "54   안양시청, 안양지청, 재개발조합 적폐가 심해 수사가 안되고 있습니다. 안양시 지장물...   \n",
       "68                               증권 자본시장개정안(상장폐지법 개정안)   \n",
       "100                                             포스코 관련   \n",
       "\n",
       "                                               content  \n",
       "7    **  존경하옵는 문재인대통령님께\\n저는 중국원양자원이라는 KOSPI상장사의 소액 ...  \n",
       "11   존경하는 대통령님께,\\n코스피 주식종목 중국 원양자원은 현재 계속되는 장** 대표이...  \n",
       "54   ※지장물관련 국토부의 해석 : 기존 건축물의 철거 공사에 관한 사항의 범위는 전기,...  \n",
       "68   존경하는 문제인 대통령님께\\n먼저 어렵고 힘든 국정운영을 이끄시느라 노고가 많으십니...  \n",
       "100  안녕하십니까?\\n최근 뉴스에 주목을 못 받는 뉴스가 있습니다. 아시아경제tv의 포스...  "
      ]
     },
     "execution_count": 7,
     "metadata": {},
     "output_type": "execute_result"
    }
   ],
   "source": [
    "finance.head()"
   ]
  },
  {
   "cell_type": "code",
   "execution_count": 8,
   "metadata": {},
   "outputs": [
    {
     "data": {
      "text/html": [
       "<div>\n",
       "<style scoped>\n",
       "    .dataframe tbody tr th:only-of-type {\n",
       "        vertical-align: middle;\n",
       "    }\n",
       "\n",
       "    .dataframe tbody tr th {\n",
       "        vertical-align: top;\n",
       "    }\n",
       "\n",
       "    .dataframe thead th {\n",
       "        text-align: right;\n",
       "    }\n",
       "</style>\n",
       "<table border=\"1\" class=\"dataframe\">\n",
       "  <thead>\n",
       "    <tr style=\"text-align: right;\">\n",
       "      <th></th>\n",
       "      <th>article_id</th>\n",
       "      <th>start</th>\n",
       "      <th>end</th>\n",
       "      <th>answered</th>\n",
       "      <th>votes</th>\n",
       "      <th>category</th>\n",
       "      <th>title</th>\n",
       "      <th>content</th>\n",
       "    </tr>\n",
       "  </thead>\n",
       "  <tbody>\n",
       "    <tr>\n",
       "      <td>395468</td>\n",
       "      <td>516999</td>\n",
       "      <td>2019-02-04</td>\n",
       "      <td>2019-03-06</td>\n",
       "      <td>0</td>\n",
       "      <td>2</td>\n",
       "      <td>정치개혁</td>\n",
       "      <td>우리은행채용비리-은행장 출감후보상처벌 및 색출요망!</td>\n",
       "      <td>우리은행채용비리-은행장 출감후보상처벌 및 색출요망!\\n우리은행통장 만들려다 취소하고...</td>\n",
       "    </tr>\n",
       "    <tr>\n",
       "      <td>395476</td>\n",
       "      <td>517015</td>\n",
       "      <td>2019-02-04</td>\n",
       "      <td>2019-03-06</td>\n",
       "      <td>0</td>\n",
       "      <td>9</td>\n",
       "      <td>육아/교육</td>\n",
       "      <td>◆교육은 개천에서 용이 나올 수 있어야 된다!</td>\n",
       "      <td>◆교육은 개천에서 용이 나올 수 있어야 된다!\\n지금 우리나라의 교육현실은 국민의 ...</td>\n",
       "    </tr>\n",
       "    <tr>\n",
       "      <td>395477</td>\n",
       "      <td>517018</td>\n",
       "      <td>2019-02-04</td>\n",
       "      <td>2019-03-06</td>\n",
       "      <td>0</td>\n",
       "      <td>3</td>\n",
       "      <td>경제민주화</td>\n",
       "      <td>◆재벌을 근본적으로 개혁하라!</td>\n",
       "      <td>◆재벌을 근본적으로 개혁하라!\\n지금 우리나라는 재벌로의 경제력이 집중되어 소득불균...</td>\n",
       "    </tr>\n",
       "    <tr>\n",
       "      <td>395495</td>\n",
       "      <td>517046</td>\n",
       "      <td>2019-02-04</td>\n",
       "      <td>2019-03-06</td>\n",
       "      <td>0</td>\n",
       "      <td>2</td>\n",
       "      <td>미래</td>\n",
       "      <td>국민연금 대형 금융사고 !</td>\n",
       "      <td>국민연금 역대 최대의 금융 손실사고  !      예상된 사고 입니다 !\\n작년 1...</td>\n",
       "    </tr>\n",
       "    <tr>\n",
       "      <td>395504</td>\n",
       "      <td>517057</td>\n",
       "      <td>2019-02-04</td>\n",
       "      <td>2019-03-06</td>\n",
       "      <td>0</td>\n",
       "      <td>4</td>\n",
       "      <td>기타</td>\n",
       "      <td>안희정을 싫어하며 피해자다움을 강요할 수는 없지만..</td>\n",
       "      <td>안희정을 싫어하며 피해자다움을 강요할 수는 없지만..\\n저는 안희정을 좋아하지 않습...</td>\n",
       "    </tr>\n",
       "  </tbody>\n",
       "</table>\n",
       "</div>"
      ],
      "text/plain": [
       "        article_id      start        end  answered  votes category  \\\n",
       "395468      516999 2019-02-04 2019-03-06         0      2     정치개혁   \n",
       "395476      517015 2019-02-04 2019-03-06         0      9    육아/교육   \n",
       "395477      517018 2019-02-04 2019-03-06         0      3    경제민주화   \n",
       "395495      517046 2019-02-04 2019-03-06         0      2       미래   \n",
       "395504      517057 2019-02-04 2019-03-06         0      4       기타   \n",
       "\n",
       "                                title  \\\n",
       "395468   우리은행채용비리-은행장 출감후보상처벌 및 색출요망!   \n",
       "395476      ◆교육은 개천에서 용이 나올 수 있어야 된다!   \n",
       "395477               ◆재벌을 근본적으로 개혁하라!   \n",
       "395495                 국민연금 대형 금융사고 !   \n",
       "395504  안희정을 싫어하며 피해자다움을 강요할 수는 없지만..   \n",
       "\n",
       "                                                  content  \n",
       "395468  우리은행채용비리-은행장 출감후보상처벌 및 색출요망!\\n우리은행통장 만들려다 취소하고...  \n",
       "395476  ◆교육은 개천에서 용이 나올 수 있어야 된다!\\n지금 우리나라의 교육현실은 국민의 ...  \n",
       "395477  ◆재벌을 근본적으로 개혁하라!\\n지금 우리나라는 재벌로의 경제력이 집중되어 소득불균...  \n",
       "395495  국민연금 역대 최대의 금융 손실사고  !      예상된 사고 입니다 !\\n작년 1...  \n",
       "395504  안희정을 싫어하며 피해자다움을 강요할 수는 없지만..\\n저는 안희정을 좋아하지 않습...  "
      ]
     },
     "execution_count": 8,
     "metadata": {},
     "output_type": "execute_result"
    }
   ],
   "source": [
    "finance.tail()"
   ]
  },
  {
   "cell_type": "code",
   "execution_count": 9,
   "metadata": {},
   "outputs": [],
   "source": [
    "sample_index = 395468"
   ]
  },
  {
   "cell_type": "code",
   "execution_count": 10,
   "metadata": {},
   "outputs": [
    {
     "data": {
      "text/plain": [
       "'우리은행채용비리-은행장 출감후보상처벌 및 색출요망!'"
      ]
     },
     "execution_count": 10,
     "metadata": {},
     "output_type": "execute_result"
    }
   ],
   "source": [
    "sample_title = finance['title'][sample_index]\n",
    "sample_title"
   ]
  },
  {
   "cell_type": "code",
   "execution_count": 11,
   "metadata": {},
   "outputs": [
    {
     "data": {
      "text/plain": [
       "'우리은행채용비리-은행장 출감후보상처벌 및 색출요망!\\\\n우리은행통장 만들려다 취소하고 카드도 해지하려합니다.\\\\n그런데 저만 불편하고 아무것도 달라지는게 없네요\\\\n방산비리는 사형으로 다스려야 합니다만\\\\n전쟁이 사실 거의 일어나지 않기에\\\\n심각성에 비해 방산비리로 인한 폐해는 체감이 그리 크지않습니다.\\\\n그런데 채용비리는 정부정당과 정치가들의 능력유무를 가르는\\\\n일자리가 달려있고\\\\n국민의 최대관심사이자 생계가 달려있습니다.\\\\n스카이캐슬문제도 결국은 일자리가 그 본질입니다.\\\\n이 일자리를 가지고 국가의 지원을 받기도 하는 은행에서\\\\n채용비리가 이루어지고\\\\n심지어는 이를 감시해야할 금감원등 각종 기관에서\\\\n채용비리가 저질러진 것입니다.\\\\n지옥같은 출퇴근과 긴 근로시간, 적시에 쓸수 없는 반쪽짜리 휴가\\\\n업무와 하등상관없는 장기자랑 체육대회등을 주도하는\\\\n상사들만 해도 미칠지경인데 그래도 이 경우는 취업이라도 된 경우고\\\\n채용비리라는 것은 취업자체를 방해하고 속이는 행위입니다.\\\\n방산비리와는 비교도 안 되게 피해가 직접적이며\\\\n사회의 신뢰와 화합을 완전히 무너뜨리는 행위입니다.\\\\n그런데 문재인정부와 사법부는 고작 1년 6개월을 선고했습니다.\\\\n또한 우리은행장을 심문해서 부정합격자들을 색출하고\\\\n청탁의뢰를 한 부모나 당사자를 신상공개하고 처벌하면 될 것을\\\\n여러가지 이유를 갖다 붙여 그냥 놔두고\\\\n합격자는 못찾겠다는 우리은행말만 닫는 무능의 극치를 달리고 있습니다.\\\\n한마디로 본인들이 부르짖던 공정사회나 일자리에 관심이나 대비\\\\n능력이 없는 것입니다.\\\\n귀걸이사건 때문에 발목을 잡히는 건가요?\\\\n[요구사항]\\\\n1. 우리은행장은 1년 6개월을 다 못채울 수도 있고\\\\n1년 6개월 채운 후 청탁자나 부정합격자의 가족으로부터\\\\n큰 돈과 노후 또는 다른 일자리를 보장받을 수 있습니다.\\\\n이렇게 처벌 후 보상이 이루어지는 경우에도\\\\n뇌물과 청탁관련 법으로 강력처벌하는 제도를 없으면 만들어주십시오\\\\n앞으로도 또 똑같은 일을 눈뜨고 당할 겁니까?\\\\n2. 우리은행장을 심문하여\\\\n부정합격자와 청탁자, 부정채용을 도운 인사팀담당자들을\\\\n모조리 색출하시고\\\\n이 들에게도 중형을 선고하시기 바라며\\\\n관련법이 없으면 특별법을 조속히 시행하시기 바랍니다.\\\\n앞으로도 또 똑같은 일을 눈뜨고 당할 겁니까?\\\\n3. 채용비리는 무조건 사형시켜야 합니다.\\\\n사형이 힘들면 최소 재산몰수와 종신형은 받아야 합니다.\\\\n투아웃제도를 운영해서 두번째에는 중형으로 처벌하든가\\\\n이건 삼진아웃도 허용해서는 안 되는 사회악중에서도 갑입니다.\\\\n앞으로도 또 똑같은 일을 눈뜨고 당할 겁니까?'"
      ]
     },
     "execution_count": 11,
     "metadata": {},
     "output_type": "execute_result"
    }
   ],
   "source": [
    "sample_content = finance['content'][sample_index]\n",
    "sample_content"
   ]
  },
  {
   "cell_type": "code",
   "execution_count": 18,
   "metadata": {},
   "outputs": [],
   "source": [
    "def preprocessing(text):\n",
    "    text = re.sub('\\\\\\\\n', ' ', text)\n",
    "    \n",
    "    # 한글, 영문만 남기고 모두 제거\n",
    "    text = re.sub('[^가-힣ㄱ-ㅎㅏ-ㅣa-zA-Z]', ' ', text)\n",
    "    return text"
   ]
  },
  {
   "cell_type": "code",
   "execution_count": 19,
   "metadata": {},
   "outputs": [
    {
     "data": {
      "text/plain": [
       "'우리은행채용비리 은행장 출감후보상처벌 및 색출요망  우리은행통장 만들려다 취소하고 카드도 해지하려합니다  그런데 저만 불편하고 아무것도 달라지는게 없네요 방산비리는 사형으로 다스려야 합니다만 전쟁이 사실 거의 일어나지 않기에 심각성에 비해 방산비리로 인한 폐해는 체감이 그리 크지않습니다  그런데 채용비리는 정부정당과 정치가들의 능력유무를 가르는 일자리가 달려있고 국민의 최대관심사이자 생계가 달려있습니다  스카이캐슬문제도 결국은 일자리가 그 본질입니다  이 일자리를 가지고 국가의 지원을 받기도 하는 은행에서 채용비리가 이루어지고 심지어는 이를 감시해야할 금감원등 각종 기관에서 채용비리가 저질러진 것입니다  지옥같은 출퇴근과 긴 근로시간  적시에 쓸수 없는 반쪽짜리 휴가 업무와 하등상관없는 장기자랑 체육대회등을 주도하는 상사들만 해도 미칠지경인데 그래도 이 경우는 취업이라도 된 경우고 채용비리라는 것은 취업자체를 방해하고 속이는 행위입니다  방산비리와는 비교도 안 되게 피해가 직접적이며 사회의 신뢰와 화합을 완전히 무너뜨리는 행위입니다  그런데 문재인정부와 사법부는 고작  년  개월을 선고했습니다  또한 우리은행장을 심문해서 부정합격자들을 색출하고 청탁의뢰를 한 부모나 당사자를 신상공개하고 처벌하면 될 것을 여러가지 이유를 갖다 붙여 그냥 놔두고 합격자는 못찾겠다는 우리은행말만 닫는 무능의 극치를 달리고 있습니다  한마디로 본인들이 부르짖던 공정사회나 일자리에 관심이나 대비 능력이 없는 것입니다  귀걸이사건 때문에 발목을 잡히는 건가요   요구사항     우리은행장은  년  개월을 다 못채울 수도 있고  년  개월 채운 후 청탁자나 부정합격자의 가족으로부터 큰 돈과 노후 또는 다른 일자리를 보장받을 수 있습니다  이렇게 처벌 후 보상이 이루어지는 경우에도 뇌물과 청탁관련 법으로 강력처벌하는 제도를 없으면 만들어주십시오 앞으로도 또 똑같은 일을 눈뜨고 당할 겁니까     우리은행장을 심문하여 부정합격자와 청탁자  부정채용을 도운 인사팀담당자들을 모조리 색출하시고 이'"
      ]
     },
     "execution_count": 19,
     "metadata": {},
     "output_type": "execute_result"
    }
   ],
   "source": [
    "sample_content = preprocessing(sample_content)\n",
    "sample_content[:1000]"
   ]
  },
  {
   "cell_type": "code",
   "execution_count": 20,
   "metadata": {},
   "outputs": [
    {
     "name": "stdout",
     "output_type": "stream",
     "text": [
      "CPU times: user 1.27 s, sys: 1.66 ms, total: 1.27 s\n",
      "Wall time: 1.29 s\n"
     ]
    }
   ],
   "source": [
    "%time sentences = finance['content'].apply(preprocessing)"
   ]
  },
  {
   "cell_type": "markdown",
   "metadata": {},
   "source": [
    "### soynlp를 사용해 토큰화"
   ]
  },
  {
   "cell_type": "code",
   "execution_count": 21,
   "metadata": {},
   "outputs": [],
   "source": [
    "from soynlp.tokenizer import RegexTokenizer\n",
    "\n",
    "tokenizer = RegexTokenizer()"
   ]
  },
  {
   "cell_type": "code",
   "execution_count": 22,
   "metadata": {},
   "outputs": [
    {
     "data": {
      "text/plain": [
       "'우리은행채용비리-은행장 출감후보상처벌 및 색출요망!'"
      ]
     },
     "execution_count": 22,
     "metadata": {},
     "output_type": "execute_result"
    }
   ],
   "source": [
    "sample_title = df['title'][sample_index]\n",
    "sample_title"
   ]
  },
  {
   "cell_type": "code",
   "execution_count": 23,
   "metadata": {},
   "outputs": [
    {
     "data": {
      "text/plain": [
       "'우리은행채용비리-은행장 출감후보상처벌 및 색출요망!\\\\n우리은행통장 만들려다 취소하고 카드도 해지하려합니다.\\\\n그런데 저만 불편하고 아무것도 달라지는게 없네요\\\\n방산비리는 사형으로 다스려야 합니다만\\\\n전쟁이 사실 거의 일어나지 않기에\\\\n심각성에 비해 방산비리로 인한 폐해는 체감이 그리 크지않습니다.\\\\n그런데 채용비리는 정부정당과 정치가들의 능력유무를 가르는\\\\n일자리가 달려있고\\\\n국민의 최대관심사이자 생계가 달려있습니다.\\\\n스카이캐슬문제도 결국은 일자리가 그 본질입니다.\\\\n이 일자리를 가지고 국가의 지원을 받기도 하는 은행에서\\\\n채용비리가 이루어지고\\\\n심지어는 이를 감시해야할 금감원등 각종 기관에서\\\\n채용비리가 저질러진 것입니다.\\\\n지옥같은 출퇴근과 긴 근로시간, 적시에 쓸수 없는 반쪽짜리 휴가\\\\n업무와 하등상관없는 장기자랑 체육대회등을 주도하는\\\\n상사들만 해도 미칠지경인데 그래도 이 경우는 취업이라도 된 경우고\\\\n채용비리라는 것은 취업자체를 방해하고 속이는 행위입니다.\\\\n방산비리와는 비교도 안 되게 피해가 직접적이며\\\\n사회의 신뢰와 화합을 완전히 무너뜨리는 행위입니다.\\\\n그런데 문재인정부와 사법부는 고작 1년 6개월을 선고했습니다.\\\\n또한 우리은행장을 심문해서 부정합격자들을 색출하고\\\\n청탁의뢰를 한 부모나 당사자를 신상공개하고 처벌하면 될 것을\\\\n여러가지 이유를 갖다 붙여 그냥 놔두고\\\\n합격자는 못찾겠다는 우리은행말만 닫는 무능의 극치를 달리고 있습니다.\\\\n한마디로 본인들이 부르짖던 공정사회나 일자리에 관심이나 대비\\\\n능력이 없는 것입니다.\\\\n귀걸이사건 때문에 발목을 잡히는 건가요?\\\\n[요구사항]\\\\n1. 우리은행장은 1년 6개월을 다 못채울 수도 있고\\\\n1년 6개월 채운 후 청탁자나 부정합격자의 가족으로부터\\\\n큰 돈과 노후 또는 다른 일자리를 보장받을 수 있습니다.\\\\n이렇게 처벌 후 보상이 이루어지는 경우에도\\\\n뇌물과 청탁관련 법으로 강력처벌하는 제도를 없으면 만들어주십시오\\\\n앞으로도 또 똑같은 일을 눈뜨고 당할 겁니까?\\\\n2. 우리은행장을 심문하여\\\\n부정합격자와 청탁자, 부정채용을 도운 인사팀담당자들을\\\\n모조리 색출하시고\\\\n이 들에게도 중형을 선고하시기 바라며\\\\n관련법이 없으면 특별법을 조속히 시행하시기 바랍니다.\\\\n앞으로도 또 똑같은 일을 눈뜨고 당할 겁니까?\\\\n3. 채용비리는 무조건 사형시켜야 합니다.\\\\n사형이 힘들면 최소 재산몰수와 종신형은 받아야 합니다.\\\\n투아웃제도를 운영해서 두번째에는 중형으로 처벌하든가\\\\n이건 삼진아웃도 허용해서는 안 되는 사회악중에서도 갑입니다.\\\\n앞으로도 또 똑같은 일을 눈뜨고 당할 겁니까?'"
      ]
     },
     "execution_count": 23,
     "metadata": {},
     "output_type": "execute_result"
    }
   ],
   "source": [
    "sample_content = df['content'][sample_index]\n",
    "sample_content"
   ]
  },
  {
   "cell_type": "code",
   "execution_count": 24,
   "metadata": {},
   "outputs": [
    {
     "data": {
      "text/plain": [
       "['우리은행채용비리', '-', '은행장', '출감후보상처벌', '및', '색출요망', '!']"
      ]
     },
     "execution_count": 24,
     "metadata": {},
     "output_type": "execute_result"
    }
   ],
   "source": [
    "tokened_title = tokenizer.tokenize(sample_title)\n",
    "tokened_title"
   ]
  },
  {
   "cell_type": "code",
   "execution_count": 25,
   "metadata": {},
   "outputs": [
    {
     "data": {
      "text/plain": [
       "['우리은행채용비리', '-', '은행장', '출감후보상처벌', '및', '색출요망', '!\\\\', 'n', '우리은행통장', '만들려다']"
      ]
     },
     "execution_count": 25,
     "metadata": {},
     "output_type": "execute_result"
    }
   ],
   "source": [
    "tokened_content = tokenizer.tokenize(sample_content)\n",
    "tokened_content[:10]"
   ]
  },
  {
   "cell_type": "code",
   "execution_count": 26,
   "metadata": {},
   "outputs": [
    {
     "name": "stdout",
     "output_type": "stream",
     "text": [
      "7\n",
      "367\n"
     ]
    }
   ],
   "source": [
    "print(len(tokened_title))\n",
    "print(len(tokened_content))"
   ]
  },
  {
   "cell_type": "code",
   "execution_count": 27,
   "metadata": {},
   "outputs": [
    {
     "name": "stdout",
     "output_type": "stream",
     "text": [
      "CPU times: user 19.2 s, sys: 120 ms, total: 19.3 s\n",
      "Wall time: 19.5 s\n"
     ]
    },
    {
     "data": {
      "text/plain": [
       "7     [존경하옵는, 문재인대통령님께, 저는, 중국원양자원이라는, KOSPI, 상장사의, ...\n",
       "11    [존경하는, 대통령님께, 코스피, 주식종목, 중국, 원양자원은, 현재, 계속되는, ...\n",
       "54    [지장물관련, 국토부의, 해석, 기존, 건축물의, 철거, 공사에, 관한, 사항의, ...\n",
       "Name: content, dtype: object"
      ]
     },
     "execution_count": 27,
     "metadata": {},
     "output_type": "execute_result"
    }
   ],
   "source": [
    "%time tokens = sentences.apply(tokenizer.tokenize)\n",
    "tokens[:3]"
   ]
  },
  {
   "cell_type": "code",
   "execution_count": 28,
   "metadata": {},
   "outputs": [
    {
     "data": {
      "text/plain": [
       "['우리은행채용비리',\n",
       " '은행장',\n",
       " '출감후보상처벌',\n",
       " '및',\n",
       " '색출요망',\n",
       " '우리은행통장',\n",
       " '만들려다',\n",
       " '취소하고',\n",
       " '카드도',\n",
       " '해지하려합니다']"
      ]
     },
     "execution_count": 28,
     "metadata": {},
     "output_type": "execute_result"
    }
   ],
   "source": [
    "tokens[sample_index][:10]"
   ]
  },
  {
   "cell_type": "code",
   "execution_count": 29,
   "metadata": {},
   "outputs": [],
   "source": [
    "# word2vec 모델 학습에 로그를 찍음\n",
    "import logging\n",
    "logging.basicConfig(\n",
    "    format='%(asctime)s : %(levelname)s : %(message)s',\n",
    "    level=logging.INFO)"
   ]
  },
  {
   "cell_type": "code",
   "execution_count": 30,
   "metadata": {},
   "outputs": [
    {
     "name": "stderr",
     "output_type": "stream",
     "text": [
      "2019-12-31 10:49:32,404 : INFO : 'pattern' package not found; tag filters are not available for English\n",
      "2019-12-31 10:49:32,408 : INFO : collecting all words and their counts\n",
      "2019-12-31 10:49:32,410 : INFO : PROGRESS: at sentence #0, processed 0 words, keeping 0 word types\n",
      "2019-12-31 10:49:32,868 : INFO : PROGRESS: at sentence #10000, processed 2204292 words, keeping 321082 word types\n",
      "2019-12-31 10:49:33,433 : INFO : PROGRESS: at sentence #20000, processed 4605574 words, keeping 581661 word types\n",
      "2019-12-31 10:49:33,481 : INFO : collected 599256 word types from a corpus of 4794874 raw words and 20619 sentences\n",
      "2019-12-31 10:49:33,483 : INFO : Loading a fresh vocabulary\n",
      "2019-12-31 10:49:35,197 : INFO : effective_min_count=1 retains 599256 unique words (100% of original 599256, drops 0)\n",
      "2019-12-31 10:49:35,199 : INFO : effective_min_count=1 leaves 4794874 word corpus (100% of original 4794874, drops 0)\n",
      "2019-12-31 10:49:36,527 : INFO : deleting the raw counts dictionary of 599256 items\n",
      "2019-12-31 10:49:36,541 : INFO : sample=0.001 downsamples 7 most-common words\n",
      "2019-12-31 10:49:36,543 : INFO : downsampling leaves estimated 4768319 word corpus (99.4% of prior 4794874)\n",
      "2019-12-31 10:49:37,686 : INFO : estimated required memory for 599256 words and 100 dimensions: 779032800 bytes\n",
      "2019-12-31 10:49:37,688 : INFO : resetting layer weights\n",
      "2019-12-31 10:51:06,250 : INFO : training model with 3 workers on 599256 vocabulary and 100 features, using sg=0 hs=0 sample=0.001 negative=5 window=5\n",
      "2019-12-31 10:51:07,261 : INFO : EPOCH 1 - PROGRESS: at 4.75% examples, 300513 words/s, in_qsize 6, out_qsize 0\n",
      "2019-12-31 10:51:08,271 : INFO : EPOCH 1 - PROGRESS: at 12.20% examples, 330693 words/s, in_qsize 6, out_qsize 0\n",
      "2019-12-31 10:51:09,275 : INFO : EPOCH 1 - PROGRESS: at 22.63% examples, 341091 words/s, in_qsize 6, out_qsize 0\n",
      "2019-12-31 10:51:10,282 : INFO : EPOCH 1 - PROGRESS: at 29.59% examples, 344445 words/s, in_qsize 6, out_qsize 0\n",
      "2019-12-31 10:51:11,295 : INFO : EPOCH 1 - PROGRESS: at 39.83% examples, 348365 words/s, in_qsize 5, out_qsize 0\n",
      "2019-12-31 10:51:12,302 : INFO : EPOCH 1 - PROGRESS: at 47.45% examples, 348900 words/s, in_qsize 6, out_qsize 1\n",
      "2019-12-31 10:51:13,318 : INFO : EPOCH 1 - PROGRESS: at 54.18% examples, 350476 words/s, in_qsize 5, out_qsize 0\n",
      "2019-12-31 10:51:14,398 : INFO : EPOCH 1 - PROGRESS: at 62.00% examples, 350558 words/s, in_qsize 6, out_qsize 1\n",
      "2019-12-31 10:51:15,446 : INFO : EPOCH 1 - PROGRESS: at 70.57% examples, 351346 words/s, in_qsize 5, out_qsize 2\n",
      "2019-12-31 10:51:16,449 : INFO : EPOCH 1 - PROGRESS: at 79.59% examples, 352689 words/s, in_qsize 5, out_qsize 0\n",
      "2019-12-31 10:51:17,474 : INFO : EPOCH 1 - PROGRESS: at 86.76% examples, 351966 words/s, in_qsize 5, out_qsize 0\n",
      "2019-12-31 10:51:18,476 : INFO : EPOCH 1 - PROGRESS: at 92.65% examples, 352247 words/s, in_qsize 5, out_qsize 0\n",
      "2019-12-31 10:51:19,478 : INFO : EPOCH 1 - PROGRESS: at 99.62% examples, 352704 words/s, in_qsize 5, out_qsize 0\n",
      "2019-12-31 10:51:19,565 : INFO : worker thread finished; awaiting finish of 2 more threads\n",
      "2019-12-31 10:51:19,576 : INFO : worker thread finished; awaiting finish of 1 more threads\n",
      "2019-12-31 10:51:19,589 : INFO : worker thread finished; awaiting finish of 0 more threads\n",
      "2019-12-31 10:51:19,591 : INFO : EPOCH - 1 : training on 4794874 raw words (4709060 effective words) took 13.3s, 353069 effective words/s\n",
      "2019-12-31 10:51:20,634 : INFO : EPOCH 2 - PROGRESS: at 5.85% examples, 365492 words/s, in_qsize 4, out_qsize 1\n",
      "2019-12-31 10:51:21,638 : INFO : EPOCH 2 - PROGRESS: at 16.03% examples, 369195 words/s, in_qsize 5, out_qsize 0\n",
      "2019-12-31 10:51:22,644 : INFO : EPOCH 2 - PROGRESS: at 24.48% examples, 363522 words/s, in_qsize 6, out_qsize 0\n",
      "2019-12-31 10:51:23,652 : INFO : EPOCH 2 - PROGRESS: at 31.03% examples, 360656 words/s, in_qsize 6, out_qsize 0\n",
      "2019-12-31 10:51:24,655 : INFO : EPOCH 2 - PROGRESS: at 41.87% examples, 359592 words/s, in_qsize 5, out_qsize 0\n",
      "2019-12-31 10:51:25,696 : INFO : EPOCH 2 - PROGRESS: at 49.01% examples, 359933 words/s, in_qsize 5, out_qsize 0\n",
      "2019-12-31 10:51:26,726 : INFO : EPOCH 2 - PROGRESS: at 55.74% examples, 359388 words/s, in_qsize 6, out_qsize 0\n",
      "2019-12-31 10:51:27,741 : INFO : EPOCH 2 - PROGRESS: at 63.67% examples, 358767 words/s, in_qsize 5, out_qsize 0\n",
      "2019-12-31 10:51:28,766 : INFO : EPOCH 2 - PROGRESS: at 71.81% examples, 358312 words/s, in_qsize 5, out_qsize 0\n",
      "2019-12-31 10:51:29,777 : INFO : EPOCH 2 - PROGRESS: at 81.42% examples, 358869 words/s, in_qsize 6, out_qsize 0\n",
      "2019-12-31 10:51:30,795 : INFO : EPOCH 2 - PROGRESS: at 87.63% examples, 358174 words/s, in_qsize 5, out_qsize 0\n",
      "2019-12-31 10:51:31,798 : INFO : EPOCH 2 - PROGRESS: at 94.31% examples, 358081 words/s, in_qsize 5, out_qsize 0\n",
      "2019-12-31 10:51:32,745 : INFO : worker thread finished; awaiting finish of 2 more threads\n",
      "2019-12-31 10:51:32,746 : INFO : worker thread finished; awaiting finish of 1 more threads\n",
      "2019-12-31 10:51:32,765 : INFO : worker thread finished; awaiting finish of 0 more threads\n",
      "2019-12-31 10:51:32,766 : INFO : EPOCH - 2 : training on 4794874 raw words (4708905 effective words) took 13.2s, 357461 effective words/s\n",
      "2019-12-31 10:51:33,788 : INFO : EPOCH 3 - PROGRESS: at 5.85% examples, 373291 words/s, in_qsize 5, out_qsize 0\n",
      "2019-12-31 10:51:34,805 : INFO : EPOCH 3 - PROGRESS: at 15.99% examples, 370875 words/s, in_qsize 5, out_qsize 0\n",
      "2019-12-31 10:51:35,840 : INFO : EPOCH 3 - PROGRESS: at 25.03% examples, 370723 words/s, in_qsize 4, out_qsize 1\n",
      "2019-12-31 10:51:36,866 : INFO : EPOCH 3 - PROGRESS: at 31.91% examples, 369252 words/s, in_qsize 3, out_qsize 2\n",
      "2019-12-31 10:51:37,889 : INFO : EPOCH 3 - PROGRESS: at 43.45% examples, 368572 words/s, in_qsize 5, out_qsize 0\n",
      "2019-12-31 10:51:38,958 : INFO : EPOCH 3 - PROGRESS: at 50.43% examples, 367796 words/s, in_qsize 5, out_qsize 0\n",
      "2019-12-31 10:51:39,985 : INFO : EPOCH 3 - PROGRESS: at 57.63% examples, 367289 words/s, in_qsize 6, out_qsize 0\n",
      "2019-12-31 10:51:40,992 : INFO : EPOCH 3 - PROGRESS: at 65.81% examples, 367088 words/s, in_qsize 5, out_qsize 0\n",
      "2019-12-31 10:51:42,004 : INFO : EPOCH 3 - PROGRESS: at 73.55% examples, 365245 words/s, in_qsize 5, out_qsize 0\n",
      "2019-12-31 10:51:43,016 : INFO : EPOCH 3 - PROGRESS: at 83.14% examples, 365060 words/s, in_qsize 5, out_qsize 0\n",
      "2019-12-31 10:51:44,038 : INFO : EPOCH 3 - PROGRESS: at 88.72% examples, 363614 words/s, in_qsize 5, out_qsize 0\n",
      "2019-12-31 10:51:45,058 : INFO : EPOCH 3 - PROGRESS: at 95.62% examples, 362439 words/s, in_qsize 6, out_qsize 0\n",
      "2019-12-31 10:51:45,730 : INFO : worker thread finished; awaiting finish of 2 more threads\n",
      "2019-12-31 10:51:45,754 : INFO : worker thread finished; awaiting finish of 1 more threads\n",
      "2019-12-31 10:51:45,756 : INFO : worker thread finished; awaiting finish of 0 more threads\n",
      "2019-12-31 10:51:45,757 : INFO : EPOCH - 3 : training on 4794874 raw words (4709109 effective words) took 13.0s, 362566 effective words/s\n",
      "2019-12-31 10:51:46,764 : INFO : EPOCH 4 - PROGRESS: at 5.55% examples, 359689 words/s, in_qsize 6, out_qsize 1\n",
      "2019-12-31 10:51:47,817 : INFO : EPOCH 4 - PROGRESS: at 15.99% examples, 366880 words/s, in_qsize 5, out_qsize 0\n",
      "2019-12-31 10:51:48,820 : INFO : EPOCH 4 - PROGRESS: at 24.48% examples, 362326 words/s, in_qsize 4, out_qsize 1\n",
      "2019-12-31 10:51:49,843 : INFO : EPOCH 4 - PROGRESS: at 31.34% examples, 363221 words/s, in_qsize 5, out_qsize 0\n",
      "2019-12-31 10:51:50,858 : INFO : EPOCH 4 - PROGRESS: at 42.46% examples, 362349 words/s, in_qsize 5, out_qsize 0\n",
      "2019-12-31 10:51:51,896 : INFO : EPOCH 4 - PROGRESS: at 49.48% examples, 361824 words/s, in_qsize 5, out_qsize 0\n",
      "2019-12-31 10:51:52,936 : INFO : EPOCH 4 - PROGRESS: at 56.40% examples, 361302 words/s, in_qsize 5, out_qsize 0\n",
      "2019-12-31 10:51:53,937 : INFO : EPOCH 4 - PROGRESS: at 64.37% examples, 361028 words/s, in_qsize 5, out_qsize 0\n",
      "2019-12-31 10:51:54,969 : INFO : EPOCH 4 - PROGRESS: at 72.42% examples, 359976 words/s, in_qsize 5, out_qsize 0\n",
      "2019-12-31 10:51:55,978 : INFO : EPOCH 4 - PROGRESS: at 81.78% examples, 359503 words/s, in_qsize 4, out_qsize 1\n",
      "2019-12-31 10:51:56,979 : INFO : EPOCH 4 - PROGRESS: at 87.86% examples, 359260 words/s, in_qsize 5, out_qsize 0\n",
      "2019-12-31 10:51:57,985 : INFO : EPOCH 4 - PROGRESS: at 94.89% examples, 359802 words/s, in_qsize 5, out_qsize 0\n",
      "2019-12-31 10:51:58,837 : INFO : worker thread finished; awaiting finish of 2 more threads\n",
      "2019-12-31 10:51:58,845 : INFO : worker thread finished; awaiting finish of 1 more threads\n",
      "2019-12-31 10:51:58,858 : INFO : worker thread finished; awaiting finish of 0 more threads\n",
      "2019-12-31 10:51:58,860 : INFO : EPOCH - 4 : training on 4794874 raw words (4708658 effective words) took 13.1s, 359425 effective words/s\n",
      "2019-12-31 10:51:59,884 : INFO : EPOCH 5 - PROGRESS: at 5.85% examples, 372572 words/s, in_qsize 5, out_qsize 0\n",
      "2019-12-31 10:52:00,898 : INFO : EPOCH 5 - PROGRESS: at 15.99% examples, 371032 words/s, in_qsize 5, out_qsize 0\n",
      "2019-12-31 10:52:01,908 : INFO : EPOCH 5 - PROGRESS: at 24.75% examples, 370684 words/s, in_qsize 5, out_qsize 0\n",
      "2019-12-31 10:52:02,936 : INFO : EPOCH 5 - PROGRESS: at 31.57% examples, 366614 words/s, in_qsize 5, out_qsize 0\n",
      "2019-12-31 10:52:03,941 : INFO : EPOCH 5 - PROGRESS: at 42.46% examples, 365862 words/s, in_qsize 5, out_qsize 0\n",
      "2019-12-31 10:52:04,954 : INFO : EPOCH 5 - PROGRESS: at 49.66% examples, 365479 words/s, in_qsize 5, out_qsize 0\n",
      "2019-12-31 10:52:05,991 : INFO : EPOCH 5 - PROGRESS: at 56.40% examples, 363784 words/s, in_qsize 6, out_qsize 0\n",
      "2019-12-31 10:52:07,034 : INFO : EPOCH 5 - PROGRESS: at 64.84% examples, 363496 words/s, in_qsize 5, out_qsize 0\n",
      "2019-12-31 10:52:08,062 : INFO : EPOCH 5 - PROGRESS: at 72.97% examples, 363581 words/s, in_qsize 6, out_qsize 0\n",
      "2019-12-31 10:52:09,068 : INFO : EPOCH 5 - PROGRESS: at 82.18% examples, 362798 words/s, in_qsize 5, out_qsize 0\n",
      "2019-12-31 10:52:10,096 : INFO : EPOCH 5 - PROGRESS: at 88.13% examples, 360549 words/s, in_qsize 5, out_qsize 0\n",
      "2019-12-31 10:52:11,100 : INFO : EPOCH 5 - PROGRESS: at 95.03% examples, 360145 words/s, in_qsize 5, out_qsize 0\n",
      "2019-12-31 10:52:11,883 : INFO : worker thread finished; awaiting finish of 2 more threads\n",
      "2019-12-31 10:52:11,906 : INFO : worker thread finished; awaiting finish of 1 more threads\n",
      "2019-12-31 10:52:11,909 : INFO : worker thread finished; awaiting finish of 0 more threads\n",
      "2019-12-31 10:52:11,910 : INFO : EPOCH - 5 : training on 4794874 raw words (4709048 effective words) took 13.0s, 360905 effective words/s\n",
      "2019-12-31 10:52:11,911 : INFO : training on a 23974370 raw words (23544780 effective words) took 65.7s, 358591 effective words/s\n"
     ]
    },
    {
     "data": {
      "text/plain": [
       "<gensim.models.word2vec.Word2Vec at 0x7f2b32503390>"
      ]
     },
     "execution_count": 30,
     "metadata": {},
     "output_type": "execute_result"
    }
   ],
   "source": [
    "from gensim.models import word2vec\n",
    "\n",
    "model = word2vec.Word2Vec(tokens, min_count=1)\n",
    "model"
   ]
  },
  {
   "cell_type": "code",
   "execution_count": 31,
   "metadata": {},
   "outputs": [
    {
     "name": "stderr",
     "output_type": "stream",
     "text": [
      "2019-12-31 10:53:37,825 : INFO : saving Word2Vec object under 1minwords, separately None\n",
      "2019-12-31 10:53:37,828 : INFO : storing np array 'vectors' to 1minwords.wv.vectors.npy\n",
      "2019-12-31 10:53:38,062 : INFO : not storing attribute vectors_norm\n",
      "2019-12-31 10:53:38,064 : INFO : storing np array 'syn1neg' to 1minwords.trainables.syn1neg.npy\n",
      "2019-12-31 10:53:38,292 : INFO : not storing attribute cum_table\n",
      "2019-12-31 10:53:39,313 : INFO : saved 1minwords\n"
     ]
    }
   ],
   "source": [
    "model_name = '1minwords'\n",
    "model.save(model_name)"
   ]
  },
  {
   "cell_type": "code",
   "execution_count": 32,
   "metadata": {},
   "outputs": [
    {
     "data": {
      "text/plain": [
       "599256"
      ]
     },
     "execution_count": 32,
     "metadata": {},
     "output_type": "execute_result"
    }
   ],
   "source": [
    "len(model.wv.vocab)"
   ]
  },
  {
   "cell_type": "code",
   "execution_count": 33,
   "metadata": {},
   "outputs": [
    {
     "data": {
      "text/plain": [
       "['수',\n",
       " '있는',\n",
       " '있습니다',\n",
       " '그',\n",
       " '이',\n",
       " '년',\n",
       " '합니다',\n",
       " '더',\n",
       " '하는',\n",
       " '하고',\n",
       " '대한',\n",
       " '및',\n",
       " '월',\n",
       " '할',\n",
       " '제',\n",
       " '그리고',\n",
       " '한',\n",
       " '등',\n",
       " '없는',\n",
       " '이런',\n",
       " '저는',\n",
       " '있다',\n",
       " '것입니다',\n",
       " '일',\n",
       " '왜',\n",
       " '위해',\n",
       " '많은',\n",
       " '것은',\n",
       " '것이',\n",
       " '같은']"
      ]
     },
     "execution_count": 33,
     "metadata": {},
     "output_type": "execute_result"
    }
   ],
   "source": [
    "vocab = model.wv.vocab\n",
    "sorted(vocab, key=vocab.get, reverse=True)[:30]"
   ]
  },
  {
   "cell_type": "code",
   "execution_count": 34,
   "metadata": {},
   "outputs": [
    {
     "data": {
      "text/plain": [
       "{'수': <gensim.models.keyedvectors.Vocab at 0x7f2b32013ad0>,\n",
       " '있는': <gensim.models.keyedvectors.Vocab at 0x7f2b32013fd0>,\n",
       " '있습니다': <gensim.models.keyedvectors.Vocab at 0x7f2b31ff7c10>,\n",
       " '그': <gensim.models.keyedvectors.Vocab at 0x7f2b3200efd0>,\n",
       " '이': <gensim.models.keyedvectors.Vocab at 0x7f2b320189d0>,\n",
       " '년': <gensim.models.keyedvectors.Vocab at 0x7f2b31f9c590>,\n",
       " '합니다': <gensim.models.keyedvectors.Vocab at 0x7f2b32011450>,\n",
       " '더': <gensim.models.keyedvectors.Vocab at 0x7f2b31fa21d0>,\n",
       " '하는': <gensim.models.keyedvectors.Vocab at 0x7f2b32015790>,\n",
       " '하고': <gensim.models.keyedvectors.Vocab at 0x7f2b32015d90>,\n",
       " '대한': <gensim.models.keyedvectors.Vocab at 0x7f2b3200ef10>,\n",
       " '및': <gensim.models.keyedvectors.Vocab at 0x7f2b3200e7d0>,\n",
       " '월': <gensim.models.keyedvectors.Vocab at 0x7f2b32018b90>,\n",
       " '할': <gensim.models.keyedvectors.Vocab at 0x7f2b320101d0>,\n",
       " '제': <gensim.models.keyedvectors.Vocab at 0x7f2b31fb0750>,\n",
       " '그리고': <gensim.models.keyedvectors.Vocab at 0x7f2b31f6f750>,\n",
       " '한': <gensim.models.keyedvectors.Vocab at 0x7f2b32015450>,\n",
       " '등': <gensim.models.keyedvectors.Vocab at 0x7f2b31fab850>,\n",
       " '없는': <gensim.models.keyedvectors.Vocab at 0x7f2b31f9e7d0>,\n",
       " '이런': <gensim.models.keyedvectors.Vocab at 0x7f2b32011a90>}"
      ]
     },
     "execution_count": 34,
     "metadata": {},
     "output_type": "execute_result"
    }
   ],
   "source": [
    "from collections import Counter\n",
    "dict(Counter(vocab).most_common(20))"
   ]
  },
  {
   "cell_type": "code",
   "execution_count": 35,
   "metadata": {},
   "outputs": [
    {
     "data": {
      "text/plain": [
       "'원양자원은'"
      ]
     },
     "execution_count": 35,
     "metadata": {},
     "output_type": "execute_result"
    }
   ],
   "source": [
    "min(vocab, key=vocab.get)"
   ]
  },
  {
   "cell_type": "code",
   "execution_count": 36,
   "metadata": {},
   "outputs": [
    {
     "data": {
      "text/plain": [
       "array([ 0.5348801 , -0.4518868 , -0.8558932 , -2.5102556 ,  1.5505663 ,\n",
       "        0.5807272 , -0.84905255,  1.062938  , -1.8064356 ,  1.2363285 ,\n",
       "        0.84620494, -1.962737  , -1.8471124 , -0.48305416,  0.3467479 ,\n",
       "        0.68996054,  2.6965227 ,  1.184679  , -2.409636  ,  2.3115237 ,\n",
       "       -0.9800674 ,  0.06898722, -0.66698045,  3.048399  ,  1.691142  ,\n",
       "       -1.7922671 ,  3.2604172 ,  0.56238276, -2.0309796 ,  4.406316  ,\n",
       "       -1.7524667 ,  0.32806846,  0.5660751 ,  0.09604076,  0.63435125,\n",
       "        1.6212549 ,  2.279101  , -0.70745593, -1.0853745 ,  1.2424258 ,\n",
       "       -1.1193863 ,  1.9145676 ,  0.0273636 , -1.4730723 ,  2.9660323 ,\n",
       "       -2.1114373 , -0.89676476, -1.6482239 , -0.63613206, -1.5994697 ,\n",
       "        0.15371688,  1.7742473 , -3.8438544 , -2.1525981 , -0.79838836,\n",
       "        1.3595701 ,  1.7121974 ,  3.3366435 , -0.1406766 ,  1.410115  ,\n",
       "        1.611409  ,  3.0250108 , -2.398823  , -3.4449947 , -0.06294995,\n",
       "        0.8692541 ,  0.9720609 ,  0.6256804 , -1.78764   , -0.6690512 ,\n",
       "        0.3961558 , -1.93791   ,  1.0364972 , -2.5148978 , -0.27441627,\n",
       "        0.7578598 ,  0.9184237 ,  1.071994  , -0.99071145,  1.6642066 ,\n",
       "        0.932354  ,  3.2007976 ,  3.398066  , -0.97880507,  0.33314985,\n",
       "        1.6624    , -1.4273481 ,  0.06298646, -1.8149668 , -1.9825015 ,\n",
       "       -0.30438787,  1.8543314 ,  3.4804404 , -0.6155901 , -1.7121125 ,\n",
       "        0.1645871 ,  0.06703601, -2.6092    , -1.1347448 ,  0.44929734],\n",
       "      dtype=float32)"
      ]
     },
     "execution_count": 36,
     "metadata": {},
     "output_type": "execute_result"
    }
   ],
   "source": [
    "model.wv['주식']"
   ]
  },
  {
   "cell_type": "code",
   "execution_count": 37,
   "metadata": {},
   "outputs": [
    {
     "name": "stderr",
     "output_type": "stream",
     "text": [
      "2019-12-31 11:09:46,962 : INFO : precomputing L2-norms of word weight vectors\n"
     ]
    },
    {
     "data": {
      "text/plain": [
       "[('투자', 0.8804969787597656),\n",
       " ('외국인', 0.8711764812469482),\n",
       " ('빠져나가면', 0.8572873473167419),\n",
       " ('어떠케되나', 0.8493990898132324),\n",
       " ('코스닥', 0.8457637429237366),\n",
       " ('말아먹었을거고', 0.8396831750869751),\n",
       " ('작전세력', 0.8366274833679199),\n",
       " ('주가', 0.8243718147277832),\n",
       " ('외국인만', 0.8212090730667114),\n",
       " ('관계들', 0.8207902908325195)]"
      ]
     },
     "execution_count": 37,
     "metadata": {},
     "output_type": "execute_result"
    }
   ],
   "source": [
    "model.wv.most_similar('주식')"
   ]
  },
  {
   "cell_type": "code",
   "execution_count": 38,
   "metadata": {},
   "outputs": [
    {
     "data": {
      "text/plain": [
       "[('한번예기', 0.8273598551750183),\n",
       " ('가격', 0.8251888155937195),\n",
       " ('투기', 0.8223367929458618),\n",
       " ('빠져야', 0.8173244595527649),\n",
       " ('집값', 0.8166038393974304),\n",
       " ('박의원', 0.8135038614273071),\n",
       " ('폭등으로', 0.808491587638855),\n",
       " ('집값을', 0.8079994916915894),\n",
       " ('상승을', 0.8052607774734497),\n",
       " ('투기조성자', 0.800406813621521)]"
      ]
     },
     "execution_count": 38,
     "metadata": {},
     "output_type": "execute_result"
    }
   ],
   "source": [
    "model.wv.most_similar('부동산')"
   ]
  },
  {
   "cell_type": "code",
   "execution_count": 39,
   "metadata": {},
   "outputs": [
    {
     "data": {
      "text/plain": [
       "'현금'"
      ]
     },
     "execution_count": 39,
     "metadata": {},
     "output_type": "execute_result"
    }
   ],
   "source": [
    "# 유사도가 없는 단어 추출\n",
    "model.wv.doesnt_match('부동산 증권 현금 코스닥 코스피'.split())"
   ]
  },
  {
   "cell_type": "markdown",
   "metadata": {},
   "source": [
    "### 단어 유사도"
   ]
  },
  {
   "cell_type": "code",
   "execution_count": 41,
   "metadata": {},
   "outputs": [
    {
     "data": {
      "text/plain": [
       "0.65174824"
      ]
     },
     "execution_count": 41,
     "metadata": {},
     "output_type": "execute_result"
    }
   ],
   "source": [
    "model.wv.similarity('주식', '부동산')"
   ]
  },
  {
   "cell_type": "code",
   "execution_count": 42,
   "metadata": {},
   "outputs": [
    {
     "data": {
      "text/plain": [
       "0.88049704"
      ]
     },
     "execution_count": 42,
     "metadata": {},
     "output_type": "execute_result"
    }
   ],
   "source": [
    "model.wv.similarity('주식', '투자')"
   ]
  },
  {
   "cell_type": "code",
   "execution_count": 44,
   "metadata": {},
   "outputs": [
    {
     "data": {
      "text/plain": [
       "0.7964152"
      ]
     },
     "execution_count": 44,
     "metadata": {},
     "output_type": "execute_result"
    }
   ],
   "source": [
    "model.wv.similarity('주식', '증권')"
   ]
  },
  {
   "cell_type": "code",
   "execution_count": null,
   "metadata": {},
   "outputs": [],
   "source": []
  }
 ],
 "metadata": {
  "kernelspec": {
   "display_name": "Python 3",
   "language": "python",
   "name": "python3"
  },
  "language_info": {
   "codemirror_mode": {
    "name": "ipython",
    "version": 3
   },
   "file_extension": ".py",
   "mimetype": "text/x-python",
   "name": "python",
   "nbconvert_exporter": "python",
   "pygments_lexer": "ipython3",
   "version": "3.7.4"
  }
 },
 "nbformat": 4,
 "nbformat_minor": 4
}
