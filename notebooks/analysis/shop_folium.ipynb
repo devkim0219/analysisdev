{
 "cells": [
  {
   "cell_type": "code",
   "execution_count": 9,
   "metadata": {},
   "outputs": [
    {
     "name": "stdout",
     "output_type": "stream",
     "text": [
      "               상호명    시도명  시군구명      상권업종소분류명                      도로명주소  \\\n",
      "320        꿈나무종합팻트  부산광역시   강서구  애견/애완/동물사육판매      부산광역시 강서구 봉죽길243번길 62   \n",
      "555             대성  부산광역시   기장군  애견/애완/동물사육판매  부산광역시 기장군 기장읍 기장대로 460-21   \n",
      "874     내추럴발란스서부경남  부산광역시   사하구          동물병원      부산광역시 사하구 두송로144번길 51   \n",
      "4806          미미애견  부산광역시   수영구  애견/애완/동물사육판매        부산광역시 수영구 광남로 156-1   \n",
      "4944        세인트루이스  부산광역시   금정구      애완동물 미용실       부산광역시 금정구 서곡로20번길 19   \n",
      "...            ...    ...   ...           ...                        ...   \n",
      "562530      도그스테이션  부산광역시  해운대구  애견/애완/동물사육판매        부산광역시 해운대구 해운대로 620   \n",
      "563270      바다동물병원  부산광역시   수영구          동물병원          부산광역시 수영구 광남로 125   \n",
      "565442        안녕하개  부산광역시   사상구  애견/애완/동물사육판매         부산광역시 사상구 가야대로 374   \n",
      "566362     38도씨애견샵  부산광역시   금정구  애견/애완/동물사육판매         부산광역시 금정구 온천장로 143   \n",
      "567215        노비에스  부산광역시    동구  애견/애완/동물사육판매          부산광역시 동구 중앙대로 319   \n",
      "\n",
      "                경도         위도  \n",
      "320     128.887506  35.184811  \n",
      "555     129.219107  35.235450  \n",
      "874     128.982770  35.071093  \n",
      "4806    129.118526  35.155108  \n",
      "4944    129.105870  35.217437  \n",
      "...            ...        ...  \n",
      "562530  129.158478  35.162980  \n",
      "563270  129.116189  35.152759  \n",
      "565442  129.013407  35.151048  \n",
      "566362  129.085312  35.223473  \n",
      "567215  129.044817  35.125263  \n",
      "\n",
      "[329 rows x 7 columns]\n"
     ]
    }
   ],
   "source": [
    "%matplotlib inline\n",
    "\n",
    "import folium\n",
    "import pandas as pd\n",
    "\n",
    "shop_df = pd.read_csv('/home/vscode/analysisdev/data6/소상공인시장진흥공단_상가업소정보_201909_01.csv', encoding='utf-8')\n",
    "\n",
    "shop_df = shop_df[['상호명', '시도명', '시군구명', '상권업종소분류명', '도로명주소', '경도', '위도']]\n",
    "shop_df.dropna(how='any', inplace=True)\n",
    "\n",
    "mask = (shop_df.시도명 == '부산광역시') & (shop_df.상권업종소분류명.str.contains('동물'))\n",
    "shop_df = shop_df.loc[mask, :]\n",
    "\n",
    "print(shop_df)\n",
    "\n",
    "shop_map = folium.Map(location=[35.1548627,129.0545312], tiles='Stamen Terrain', zoom_start=12)\n",
    "\n",
    "# for name, lat, lng in zip(shop_df.iloc[:, 0], shop_df.위도, shop_df.경도):\n",
    "#     folium.Marker([lat, lng],popup=name).add_to(shop_map)\n",
    "    \n",
    "for i in shop_df.index:\n",
    "    shop_name = shop_df['상호명'][i] + '-' + shop_df['도로명주소'][i]\n",
    "    folium.Marker([shop_df['위도'][i], shop_df['경도'][i]],popup=shop_name).add_to(shop_map)\n",
    "    \n",
    "shop_map.save('./output/shop_map.html')"
   ]
  },
  {
   "cell_type": "code",
   "execution_count": null,
   "metadata": {},
   "outputs": [],
   "source": []
  }
 ],
 "metadata": {
  "kernelspec": {
   "display_name": "Python 3",
   "language": "python",
   "name": "python3"
  },
  "language_info": {
   "codemirror_mode": {
    "name": "ipython",
    "version": 3
   },
   "file_extension": ".py",
   "mimetype": "text/x-python",
   "name": "python",
   "nbconvert_exporter": "python",
   "pygments_lexer": "ipython3",
   "version": "3.7.4"
  }
 },
 "nbformat": 4,
 "nbformat_minor": 4
}
